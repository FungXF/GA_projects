{
 "cells": [
  {
   "cell_type": "markdown",
   "id": "60896bc8-6f97-4b28-871a-6eeadbf10bc2",
   "metadata": {},
   "source": [
    "# Problem Statement"
   ]
  },
  {
   "cell_type": "markdown",
   "id": "ed0cd8a8-3c3f-41a2-9fda-3bb592ad62df",
   "metadata": {},
   "source": [
    "Pandemic has thrown things out of balance and, in relevance to this project, forced many universities to change their policies about SAT and ACT tests, which have traditionally been the gold standard to university admissions. \n",
    "\n",
    "We want to know how and where did the pandemic change SAT and ACT scores and participation; and how this insight can inform future decision making.\n"
   ]
  },
  {
   "cell_type": "markdown",
   "id": "5f07e22d-4c92-4973-a07a-bc714af1f7c7",
   "metadata": {},
   "source": [
    "# Background"
   ]
  },
  {
   "cell_type": "markdown",
   "id": "1408c81a-1c9e-41fd-bcde-0b9d318aa0d7",
   "metadata": {},
   "source": [
    "The SAT and ACT are standardized tests that many colleges and universities in the United States require for their admissions process. This score is used along with other materials such as grade point average (GPA) and essay responses to determine whether or not a potential student will be accepted to the university.\n",
    "\n",
    "The SAT has two sections of the test: Evidence-Based Reading and Writing and Math ([*source*](https://www.princetonreview.com/college/sat-sections)). The ACT has 4 sections: English, Mathematics, Reading, and Science, with an additional optional writing section ([*source*](https://www.act.org/content/act/en/products-and-services/the-act/scores/understanding-your-scores.html)). ACT has score range between 1 to 36. SAT has score range between 400 to 1600.\n",
    "\n",
    "* [SAT](https://collegereadiness.collegeboard.org/sat)\n",
    "* [ACT](https://www.act.org/content/act/en.html)\n",
    "\n",
    "Standardized tests have long been a controversial topic for students, administrators, and legislators. Since the 1940's, an increasing number of colleges have been using scores from students' performances on tests like the SAT and the ACT as a measure for college readiness and aptitude ([*source*](https://www.minotdailynews.com/news/local-news/2017/04/a-brief-history-of-the-sat-and-act/)). Supporters of these tests argue that these scores can be used as an objective measure to determine college admittance. Opponents of these tests claim that these tests are not accurate measures of students potential or ability and serve as an inequitable barrier to entry. Lately, more and more schools are opting to drop the SAT/ACT requirement for their Fall 2021 applications ([*read more about this here*](https://www.cnn.com/2020/04/14/us/coronavirus-colleges-sat-act-test-trnd/index.html))."
   ]
  },
  {
   "cell_type": "markdown",
   "id": "151cf49f-a5fb-4a8d-badd-98d072e40ed3",
   "metadata": {},
   "source": [
    "### Datasets\n",
    "\n",
    "* [`act_2017.csv`](./data/act_2017.csv): 2017 ACT Scores by State\n",
    "* [`act_2018.csv`](./data/act_2018.csv): 2018 ACT Scores by State\n",
    "* [`act_2019.csv`](./data/act_2019.csv): 2019 ACT Scores by State\n",
    "* [`act_2020.csv`](./data/act_2020.csv): 2020 ACT Scores by State\n",
    "* [`act_2021.csv`](./data/act_2021.csv): 2021 ACT Scores by State\n",
    "* [`sat_2017.csv`](./data/sat_2017.csv): 2017 SAT Scores by State\n",
    "* [`sat_2018.csv`](./data/sat_2018.csv): 2018 SAT Scores by State\n",
    "* [`sat_2019.csv`](./data/sat_2019.csv): 2019 SAT Scores by State\n",
    "* [`sat_2020.csv`](./data/sat_2020.csv): 2020 SAT Scores by State\n",
    "* [`sat_2021.csv`](./data/sat_2021.csv): 2021 SAT Scores by State\n",
    "* [`us-counties-2020.csv`](./data/us-counties-2020.csv): 2020 COVID-19 data by State\n",
    "* [`us-counties-2021.csv`](./data/us-counties-2021.csv): 2021 COVID-19 data by State\n",
    "* [`per_student_spend_2017.csv`](./data/per_student_spend_2017.csv): 2017 Per Student Spend by State\n",
    "* [`per_student_spend_2018.csv`](./data/per_student_spend_2018.csv): 2018 Per Student Spend by State\n",
    "* [`per_student_spend_2019.csv`](./data/per_student_spend_2019.csv): 2019 Per Student Spend by State\n",
    "* [`per_student_spend_2020.csv`](./data/per_student_spend_2020.csv): 2020 Per Student Spend by State\n"
   ]
  },
  {
   "cell_type": "markdown",
   "id": "428a1c34-fa5a-4cb7-b9be-aecebd40a7e5",
   "metadata": {},
   "source": [
    "### COVID-19"
   ]
  },
  {
   "cell_type": "markdown",
   "id": "c26b4b18-a2f4-423a-816c-dae09fd40dff",
   "metadata": {},
   "source": [
    "The COVID-19 pandemic is an ongoing global pandemic caused by severe acute respiratory syndrome coronavirus 2 (SARS-CoV-2) ([*source*](https://www.who.int/health-topics/coronavirus#tab=tab_1)). The pandemic has caused not only severe disruptions to social and economic factors but also on education. ([*source*](https://www.washingtonpost.com/local/education/one-million-plus-juniors-will-miss-out-on-sats-and-acts-this-spring-because-of-coronavirus/2020/04/12/4ccc827c-7a95-11ea-b6ff-597f170df8f8_story.html))\n",
    "- The metric that will be using is the number of cases as compared to ACT and SAT\n",
    "- [*Data 2020 & 2021*](https://github.com/nytimes/covid-19-data)"
   ]
  },
  {
   "cell_type": "markdown",
   "id": "99c722c0-9c17-411d-8632-37eb4fce33af",
   "metadata": {},
   "source": [
    "### Per Student Spending by State"
   ]
  },
  {
   "cell_type": "markdown",
   "id": "ee5f0ef6-f560-4085-8c93-ca66d7e94a1a",
   "metadata": {},
   "source": [
    "The public education spending per student of public elementary-secondary school systems by states comprises of Salary and Wages, Employee benefits, Instruction and Support Services. ([*source*](https://worldpopulationreview.com/state-rankings/per-pupil-spending-by-state))\n",
    "- The metric that will be used is the total per student spending by state as compared to ACT and SAT participation and the total/composite score.\n",
    "- [*Data 2017*](https://www.census.gov/data/tables/2017/econ/school-finances/secondary-education-finance.html)\n",
    "- [*Data 2018*](https://www.census.gov/data/tables/2018/econ/school-finances/secondary-education-finance.html)\n",
    "- [*Data 2019*](https://www.census.gov/data/tables/2019/econ/school-finances/secondary-education-finance.html)\n",
    "- [*Data 2020*](https://www.census.gov/data/tables/2020/econ/school-finances/secondary-education-finance.html)"
   ]
  },
  {
   "cell_type": "markdown",
   "id": "a4da30c1-e5d3-4ea5-9164-702a670763a0",
   "metadata": {},
   "source": [
    "# Data Importing + Cleaning"
   ]
  },
  {
   "cell_type": "markdown",
   "id": "b58e298a-241c-4a47-8aa8-fc77d43022e3",
   "metadata": {},
   "source": [
    "### Importing libraries"
   ]
  },
  {
   "cell_type": "code",
   "execution_count": 2,
   "id": "801f44b5-c0c0-4686-b7f2-d0709e218c35",
   "metadata": {},
   "outputs": [],
   "source": [
    "import pandas as pd\n",
    "import numpy as np\n",
    "import matplotlib.pyplot as plt\n",
    "import seaborn as sns"
   ]
  },
  {
   "cell_type": "markdown",
   "id": "bc547ebc-ded0-4dd6-81ce-b83329b1f8de",
   "metadata": {},
   "source": [
    "### Importing the data and pre-cleaning"
   ]
  },
  {
   "cell_type": "markdown",
   "id": "76b368e9-480c-4911-bcb7-74dde7984fb6",
   "metadata": {},
   "source": [
    "#### ACT 2017 data"
   ]
  },
  {
   "cell_type": "code",
   "execution_count": 3,
   "id": "2ef3e0e5-f0ad-4e08-bcc8-ba711a2909cd",
   "metadata": {},
   "outputs": [
    {
     "name": "stdout",
     "output_type": "stream",
     "text": [
      "(52, 7)\n"
     ]
    },
    {
     "data": {
      "text/html": [
       "<div>\n",
       "<style scoped>\n",
       "    .dataframe tbody tr th:only-of-type {\n",
       "        vertical-align: middle;\n",
       "    }\n",
       "\n",
       "    .dataframe tbody tr th {\n",
       "        vertical-align: top;\n",
       "    }\n",
       "\n",
       "    .dataframe thead th {\n",
       "        text-align: right;\n",
       "    }\n",
       "</style>\n",
       "<table border=\"1\" class=\"dataframe\">\n",
       "  <thead>\n",
       "    <tr style=\"text-align: right;\">\n",
       "      <th></th>\n",
       "      <th>State</th>\n",
       "      <th>Participation</th>\n",
       "      <th>English</th>\n",
       "      <th>Math</th>\n",
       "      <th>Reading</th>\n",
       "      <th>Science</th>\n",
       "      <th>Composite</th>\n",
       "    </tr>\n",
       "  </thead>\n",
       "  <tbody>\n",
       "    <tr>\n",
       "      <th>0</th>\n",
       "      <td>National</td>\n",
       "      <td>60%</td>\n",
       "      <td>20.3</td>\n",
       "      <td>20.7</td>\n",
       "      <td>21.4</td>\n",
       "      <td>21.0</td>\n",
       "      <td>21.0</td>\n",
       "    </tr>\n",
       "    <tr>\n",
       "      <th>1</th>\n",
       "      <td>Alabama</td>\n",
       "      <td>100%</td>\n",
       "      <td>18.9</td>\n",
       "      <td>18.4</td>\n",
       "      <td>19.7</td>\n",
       "      <td>19.4</td>\n",
       "      <td>19.2</td>\n",
       "    </tr>\n",
       "    <tr>\n",
       "      <th>2</th>\n",
       "      <td>Alaska</td>\n",
       "      <td>65%</td>\n",
       "      <td>18.7</td>\n",
       "      <td>19.8</td>\n",
       "      <td>20.4</td>\n",
       "      <td>19.9</td>\n",
       "      <td>19.8</td>\n",
       "    </tr>\n",
       "    <tr>\n",
       "      <th>3</th>\n",
       "      <td>Arizona</td>\n",
       "      <td>62%</td>\n",
       "      <td>18.6</td>\n",
       "      <td>19.8</td>\n",
       "      <td>20.1</td>\n",
       "      <td>19.8</td>\n",
       "      <td>19.7</td>\n",
       "    </tr>\n",
       "    <tr>\n",
       "      <th>4</th>\n",
       "      <td>Arkansas</td>\n",
       "      <td>100%</td>\n",
       "      <td>18.9</td>\n",
       "      <td>19.0</td>\n",
       "      <td>19.7</td>\n",
       "      <td>19.5</td>\n",
       "      <td>19.4</td>\n",
       "    </tr>\n",
       "  </tbody>\n",
       "</table>\n",
       "</div>"
      ],
      "text/plain": [
       "      State Participation  English  Math  Reading  Science Composite\n",
       "0  National           60%     20.3  20.7     21.4     21.0      21.0\n",
       "1   Alabama          100%     18.9  18.4     19.7     19.4      19.2\n",
       "2    Alaska           65%     18.7  19.8     20.4     19.9      19.8\n",
       "3   Arizona           62%     18.6  19.8     20.1     19.8      19.7\n",
       "4  Arkansas          100%     18.9  19.0     19.7     19.5      19.4"
      ]
     },
     "execution_count": 3,
     "metadata": {},
     "output_type": "execute_result"
    }
   ],
   "source": [
    "act_2017 = pd.read_csv(\"../data/act_2017.csv\")\n",
    "print(act_2017.shape)\n",
    "act_2017.head()\n",
    "# There are 50 States in USA.\n",
    "# 'National' indicates that it is one of the additional rows in the dataframe"
   ]
  },
  {
   "cell_type": "code",
   "execution_count": 4,
   "id": "c6fb98aa-78af-434a-b42b-6b6a1b67190f",
   "metadata": {},
   "outputs": [
    {
     "data": {
      "text/plain": [
       "National                1\n",
       "Alabama                 1\n",
       "Nebraska                1\n",
       "Nevada                  1\n",
       "New Hampshire           1\n",
       "New Jersey              1\n",
       "New Mexico              1\n",
       "New York                1\n",
       "North Carolina          1\n",
       "North Dakota            1\n",
       "Ohio                    1\n",
       "Oklahoma                1\n",
       "Oregon                  1\n",
       "Pennsylvania            1\n",
       "Rhode Island            1\n",
       "South Carolina          1\n",
       "South Dakota            1\n",
       "Tennessee               1\n",
       "Texas                   1\n",
       "Utah                    1\n",
       "Vermont                 1\n",
       "Virginia                1\n",
       "Washington              1\n",
       "West Virginia           1\n",
       "Wisconsin               1\n",
       "Montana                 1\n",
       "Missouri                1\n",
       "Mississippi             1\n",
       "Hawaii                  1\n",
       "Alaska                  1\n",
       "Arizona                 1\n",
       "Arkansas                1\n",
       "California              1\n",
       "Colorado                1\n",
       "Connecticut             1\n",
       "Delaware                1\n",
       "District of Columbia    1\n",
       "Florida                 1\n",
       "Georgia                 1\n",
       "Idaho                   1\n",
       "Minnesota               1\n",
       "Illinois                1\n",
       "Indiana                 1\n",
       "Iowa                    1\n",
       "Kansas                  1\n",
       "Kentucky                1\n",
       "Louisiana               1\n",
       "Maine                   1\n",
       "Maryland                1\n",
       "Massachusetts           1\n",
       "Michigan                1\n",
       "Wyoming                 1\n",
       "Name: State, dtype: int64"
      ]
     },
     "execution_count": 4,
     "metadata": {},
     "output_type": "execute_result"
    }
   ],
   "source": [
    "act_2017['State'].value_counts()\n",
    "# District of Columbia is the other row in the dataframe"
   ]
  },
  {
   "cell_type": "code",
   "execution_count": 5,
   "id": "b9a57e3d-afa9-404a-87b5-6c07e641ab2b",
   "metadata": {},
   "outputs": [
    {
     "name": "stdout",
     "output_type": "stream",
     "text": [
      "<class 'pandas.core.frame.DataFrame'>\n",
      "RangeIndex: 52 entries, 0 to 51\n",
      "Data columns (total 7 columns):\n",
      " #   Column         Non-Null Count  Dtype  \n",
      "---  ------         --------------  -----  \n",
      " 0   State          52 non-null     object \n",
      " 1   Participation  52 non-null     object \n",
      " 2   English        52 non-null     float64\n",
      " 3   Math           52 non-null     float64\n",
      " 4   Reading        52 non-null     float64\n",
      " 5   Science        52 non-null     float64\n",
      " 6   Composite      52 non-null     object \n",
      "dtypes: float64(4), object(3)\n",
      "memory usage: 3.0+ KB\n"
     ]
    }
   ],
   "source": [
    "# Both columns 'Participation' & 'Composite' are Dtype = object\n",
    "act_2017.info()"
   ]
  },
  {
   "cell_type": "code",
   "execution_count": 6,
   "id": "18e42342-0328-4125-9fba-7f2f0268f056",
   "metadata": {},
   "outputs": [
    {
     "data": {
      "text/plain": [
       "State            0\n",
       "Participation    0\n",
       "English          0\n",
       "Math             0\n",
       "Reading          0\n",
       "Science          0\n",
       "Composite        0\n",
       "dtype: int64"
      ]
     },
     "execution_count": 6,
     "metadata": {},
     "output_type": "execute_result"
    }
   ],
   "source": [
    "# To check if there are any NaN in the dataset\n",
    "act_2017.isna().sum()"
   ]
  },
  {
   "cell_type": "code",
   "execution_count": 186,
   "id": "9e6d8eb6-d02a-42ae-8002-ca23d3bee8a5",
   "metadata": {},
   "outputs": [
    {
     "data": {
      "text/html": [
       "<div>\n",
       "<style scoped>\n",
       "    .dataframe tbody tr th:only-of-type {\n",
       "        vertical-align: middle;\n",
       "    }\n",
       "\n",
       "    .dataframe tbody tr th {\n",
       "        vertical-align: top;\n",
       "    }\n",
       "\n",
       "    .dataframe thead th {\n",
       "        text-align: right;\n",
       "    }\n",
       "</style>\n",
       "<table border=\"1\" class=\"dataframe\">\n",
       "  <thead>\n",
       "    <tr style=\"text-align: right;\">\n",
       "      <th></th>\n",
       "      <th>State</th>\n",
       "      <th>Participation</th>\n",
       "      <th>English</th>\n",
       "      <th>Math</th>\n",
       "      <th>Reading</th>\n",
       "      <th>Science</th>\n",
       "      <th>Composite</th>\n",
       "    </tr>\n",
       "  </thead>\n",
       "  <tbody>\n",
       "    <tr>\n",
       "      <th>47</th>\n",
       "      <td>Virginia</td>\n",
       "      <td>29%</td>\n",
       "      <td>23.5</td>\n",
       "      <td>23.3</td>\n",
       "      <td>24.6</td>\n",
       "      <td>23.5</td>\n",
       "      <td>23.8</td>\n",
       "    </tr>\n",
       "    <tr>\n",
       "      <th>48</th>\n",
       "      <td>Washington</td>\n",
       "      <td>29%</td>\n",
       "      <td>20.9</td>\n",
       "      <td>21.9</td>\n",
       "      <td>22.1</td>\n",
       "      <td>22.0</td>\n",
       "      <td>21.9</td>\n",
       "    </tr>\n",
       "    <tr>\n",
       "      <th>49</th>\n",
       "      <td>West Virginia</td>\n",
       "      <td>69%</td>\n",
       "      <td>20.0</td>\n",
       "      <td>19.4</td>\n",
       "      <td>21.2</td>\n",
       "      <td>20.5</td>\n",
       "      <td>20.4</td>\n",
       "    </tr>\n",
       "    <tr>\n",
       "      <th>50</th>\n",
       "      <td>Wisconsin</td>\n",
       "      <td>100%</td>\n",
       "      <td>19.7</td>\n",
       "      <td>20.4</td>\n",
       "      <td>20.6</td>\n",
       "      <td>20.9</td>\n",
       "      <td>20.5</td>\n",
       "    </tr>\n",
       "    <tr>\n",
       "      <th>51</th>\n",
       "      <td>Wyoming</td>\n",
       "      <td>100%</td>\n",
       "      <td>19.4</td>\n",
       "      <td>19.8</td>\n",
       "      <td>20.8</td>\n",
       "      <td>20.6</td>\n",
       "      <td>20.2x</td>\n",
       "    </tr>\n",
       "  </tbody>\n",
       "</table>\n",
       "</div>"
      ],
      "text/plain": [
       "            State Participation  English  Math  Reading  Science Composite\n",
       "47       Virginia           29%     23.5  23.3     24.6     23.5      23.8\n",
       "48     Washington           29%     20.9  21.9     22.1     22.0      21.9\n",
       "49  West Virginia           69%     20.0  19.4     21.2     20.5      20.4\n",
       "50      Wisconsin          100%     19.7  20.4     20.6     20.9      20.5\n",
       "51        Wyoming          100%     19.4  19.8     20.8     20.6     20.2x"
      ]
     },
     "execution_count": 186,
     "metadata": {},
     "output_type": "execute_result"
    }
   ],
   "source": [
    "# The Composite value for Wyoming is not a float value\n",
    "act_2017.tail()"
   ]
  },
  {
   "cell_type": "markdown",
   "id": "b2b416e1-2be6-47b9-bdba-ee65c3c7a5ab",
   "metadata": {},
   "source": [
    "#### ACT 2017 Findings\n",
    "\n",
    "- There are 52 rows in the dataset. \n",
    "- This is inclusive of the rows District of Colombia and National.\n",
    "- All 3 columns are in object dtypes, participation and composite columns should be in float type.\n",
    "- The data in row 51 column composite data is incorrect\n",
    "- Total of 7 columns (State, Participation, English, Math, Reading, Science, Composite)\n",
    "- Wyoming's composite data should be '20.2' not '20.2x'"
   ]
  },
  {
   "cell_type": "markdown",
   "id": "301551dc-21d7-4cba-a2fa-2c8fa6a92acc",
   "metadata": {},
   "source": [
    "#### ACT 2018 data"
   ]
  },
  {
   "cell_type": "code",
   "execution_count": 187,
   "id": "bd32dad1-5483-42ce-b519-3d54348e405d",
   "metadata": {},
   "outputs": [
    {
     "name": "stdout",
     "output_type": "stream",
     "text": [
      "(52, 3)\n"
     ]
    },
    {
     "data": {
      "text/html": [
       "<div>\n",
       "<style scoped>\n",
       "    .dataframe tbody tr th:only-of-type {\n",
       "        vertical-align: middle;\n",
       "    }\n",
       "\n",
       "    .dataframe tbody tr th {\n",
       "        vertical-align: top;\n",
       "    }\n",
       "\n",
       "    .dataframe thead th {\n",
       "        text-align: right;\n",
       "    }\n",
       "</style>\n",
       "<table border=\"1\" class=\"dataframe\">\n",
       "  <thead>\n",
       "    <tr style=\"text-align: right;\">\n",
       "      <th></th>\n",
       "      <th>State</th>\n",
       "      <th>Participation</th>\n",
       "      <th>Composite</th>\n",
       "    </tr>\n",
       "  </thead>\n",
       "  <tbody>\n",
       "    <tr>\n",
       "      <th>0</th>\n",
       "      <td>Alabama</td>\n",
       "      <td>100%</td>\n",
       "      <td>19.1</td>\n",
       "    </tr>\n",
       "    <tr>\n",
       "      <th>1</th>\n",
       "      <td>Alaska</td>\n",
       "      <td>33%</td>\n",
       "      <td>20.8</td>\n",
       "    </tr>\n",
       "    <tr>\n",
       "      <th>2</th>\n",
       "      <td>Arizona</td>\n",
       "      <td>66%</td>\n",
       "      <td>19.2</td>\n",
       "    </tr>\n",
       "    <tr>\n",
       "      <th>3</th>\n",
       "      <td>Arkansas</td>\n",
       "      <td>100%</td>\n",
       "      <td>19.4</td>\n",
       "    </tr>\n",
       "    <tr>\n",
       "      <th>4</th>\n",
       "      <td>California</td>\n",
       "      <td>27%</td>\n",
       "      <td>22.7</td>\n",
       "    </tr>\n",
       "  </tbody>\n",
       "</table>\n",
       "</div>"
      ],
      "text/plain": [
       "        State Participation  Composite\n",
       "0     Alabama          100%       19.1\n",
       "1      Alaska           33%       20.8\n",
       "2     Arizona           66%       19.2\n",
       "3    Arkansas          100%       19.4\n",
       "4  California           27%       22.7"
      ]
     },
     "execution_count": 187,
     "metadata": {},
     "output_type": "execute_result"
    }
   ],
   "source": [
    "act_2018 = pd.read_csv(\"../data/act_2018.csv\")\n",
    "print(act_2018.shape)\n",
    "act_2018.head()\n",
    "# There are 52 rows in the dataset."
   ]
  },
  {
   "cell_type": "code",
   "execution_count": 188,
   "id": "a3bedf59-f191-48fa-a5eb-6d5d02c4ec34",
   "metadata": {},
   "outputs": [
    {
     "name": "stdout",
     "output_type": "stream",
     "text": [
      "<class 'pandas.core.frame.DataFrame'>\n",
      "RangeIndex: 52 entries, 0 to 51\n",
      "Data columns (total 3 columns):\n",
      " #   Column         Non-Null Count  Dtype  \n",
      "---  ------         --------------  -----  \n",
      " 0   State          52 non-null     object \n",
      " 1   Participation  52 non-null     object \n",
      " 2   Composite      52 non-null     float64\n",
      "dtypes: float64(1), object(2)\n",
      "memory usage: 1.3+ KB\n"
     ]
    }
   ],
   "source": [
    "# To check the column info and dtype\n",
    "act_2018.info()"
   ]
  },
  {
   "cell_type": "code",
   "execution_count": null,
   "id": "dc4a4943-a47e-49f8-bb45-7fe84b17556c",
   "metadata": {},
   "outputs": [],
   "source": [
    "# To check if there are any NaN in the dataset\n",
    "act_2018.isna().sum()"
   ]
  },
  {
   "cell_type": "code",
   "execution_count": 189,
   "id": "3ca81d92-b2fd-482b-8798-d9b5cc0188bf",
   "metadata": {},
   "outputs": [
    {
     "data": {
      "text/plain": [
       "Maine                   2\n",
       "Alabama                 1\n",
       "Montana                 1\n",
       "Nevada                  1\n",
       "New Hampshire           1\n",
       "New Jersey              1\n",
       "New Mexico              1\n",
       "New York                1\n",
       "North Carolina          1\n",
       "North Dakota            1\n",
       "Ohio                    1\n",
       "Oklahoma                1\n",
       "Oregon                  1\n",
       "Pennsylvania            1\n",
       "Rhode Island            1\n",
       "South Carolina          1\n",
       "South Dakota            1\n",
       "Tennessee               1\n",
       "Texas                   1\n",
       "Utah                    1\n",
       "Vermont                 1\n",
       "Virginia                1\n",
       "Washington              1\n",
       "West Virginia           1\n",
       "Wisconsin               1\n",
       "Nebraska                1\n",
       "Missouri                1\n",
       "Alaska                  1\n",
       "Mississippi             1\n",
       "Arizona                 1\n",
       "Arkansas                1\n",
       "California              1\n",
       "Colorado                1\n",
       "Connecticut             1\n",
       "Delaware                1\n",
       "District of columbia    1\n",
       "Florida                 1\n",
       "Georgia                 1\n",
       "Hawaii                  1\n",
       "Idaho                   1\n",
       "Illinois                1\n",
       "Indiana                 1\n",
       "Iowa                    1\n",
       "Kansas                  1\n",
       "Kentucky                1\n",
       "Louisiana               1\n",
       "Maryland                1\n",
       "Massachusetts           1\n",
       "Michigan                1\n",
       "Minnesota               1\n",
       "Wyoming                 1\n",
       "Name: State, dtype: int64"
      ]
     },
     "execution_count": 189,
     "metadata": {},
     "output_type": "execute_result"
    }
   ],
   "source": [
    "# There are two rows Maine. For 'District of columbia' the columbia is in lower case.\n",
    "act_2018['State'].value_counts()"
   ]
  },
  {
   "cell_type": "code",
   "execution_count": 190,
   "id": "00a269dc-d931-4b7a-8e43-f24e671839eb",
   "metadata": {},
   "outputs": [
    {
     "data": {
      "text/html": [
       "<div>\n",
       "<style scoped>\n",
       "    .dataframe tbody tr th:only-of-type {\n",
       "        vertical-align: middle;\n",
       "    }\n",
       "\n",
       "    .dataframe tbody tr th {\n",
       "        vertical-align: top;\n",
       "    }\n",
       "\n",
       "    .dataframe thead th {\n",
       "        text-align: right;\n",
       "    }\n",
       "</style>\n",
       "<table border=\"1\" class=\"dataframe\">\n",
       "  <thead>\n",
       "    <tr style=\"text-align: right;\">\n",
       "      <th></th>\n",
       "      <th>State</th>\n",
       "      <th>Participation</th>\n",
       "      <th>Composite</th>\n",
       "    </tr>\n",
       "  </thead>\n",
       "  <tbody>\n",
       "    <tr>\n",
       "      <th>19</th>\n",
       "      <td>Maine</td>\n",
       "      <td>7%</td>\n",
       "      <td>24.0</td>\n",
       "    </tr>\n",
       "    <tr>\n",
       "      <th>20</th>\n",
       "      <td>Maine</td>\n",
       "      <td>7%</td>\n",
       "      <td>24.0</td>\n",
       "    </tr>\n",
       "  </tbody>\n",
       "</table>\n",
       "</div>"
      ],
      "text/plain": [
       "    State Participation  Composite\n",
       "19  Maine            7%       24.0\n",
       "20  Maine            7%       24.0"
      ]
     },
     "execution_count": 190,
     "metadata": {},
     "output_type": "execute_result"
    }
   ],
   "source": [
    "# The values for Maine are duplicated.\n",
    "act_2018[act_2018['State'] == 'Maine']"
   ]
  },
  {
   "cell_type": "markdown",
   "id": "47b950f9-4a49-497a-a176-7686b124041b",
   "metadata": {},
   "source": [
    "#### ACT 2018 Findings\n",
    "- There are 52 rows in the dataset\n",
    "- ‘District of Columbia’ is found to be ‘District of columbia’\n",
    "- Duplicate of 'Maine\" row, however there is no ‘National’ row\n",
    "- Participation column should be in float type\n"
   ]
  },
  {
   "cell_type": "markdown",
   "id": "e6ea5270-e42d-4619-811f-6413c390f2d7",
   "metadata": {},
   "source": [
    "#### ACT 2019 data"
   ]
  },
  {
   "cell_type": "code",
   "execution_count": 191,
   "id": "990955f6-3278-46b8-ad3c-3f7da689a83c",
   "metadata": {},
   "outputs": [
    {
     "name": "stdout",
     "output_type": "stream",
     "text": [
      "(52, 3)\n"
     ]
    },
    {
     "data": {
      "text/html": [
       "<div>\n",
       "<style scoped>\n",
       "    .dataframe tbody tr th:only-of-type {\n",
       "        vertical-align: middle;\n",
       "    }\n",
       "\n",
       "    .dataframe tbody tr th {\n",
       "        vertical-align: top;\n",
       "    }\n",
       "\n",
       "    .dataframe thead th {\n",
       "        text-align: right;\n",
       "    }\n",
       "</style>\n",
       "<table border=\"1\" class=\"dataframe\">\n",
       "  <thead>\n",
       "    <tr style=\"text-align: right;\">\n",
       "      <th></th>\n",
       "      <th>State</th>\n",
       "      <th>Participation</th>\n",
       "      <th>Composite</th>\n",
       "    </tr>\n",
       "  </thead>\n",
       "  <tbody>\n",
       "    <tr>\n",
       "      <th>0</th>\n",
       "      <td>Alabama</td>\n",
       "      <td>100%</td>\n",
       "      <td>18.9</td>\n",
       "    </tr>\n",
       "    <tr>\n",
       "      <th>1</th>\n",
       "      <td>Alaska</td>\n",
       "      <td>38%</td>\n",
       "      <td>20.1</td>\n",
       "    </tr>\n",
       "    <tr>\n",
       "      <th>2</th>\n",
       "      <td>Arizona</td>\n",
       "      <td>73%</td>\n",
       "      <td>19.0</td>\n",
       "    </tr>\n",
       "    <tr>\n",
       "      <th>3</th>\n",
       "      <td>Arkansas</td>\n",
       "      <td>100%</td>\n",
       "      <td>19.3</td>\n",
       "    </tr>\n",
       "    <tr>\n",
       "      <th>4</th>\n",
       "      <td>California</td>\n",
       "      <td>23%</td>\n",
       "      <td>22.6</td>\n",
       "    </tr>\n",
       "  </tbody>\n",
       "</table>\n",
       "</div>"
      ],
      "text/plain": [
       "        State Participation  Composite\n",
       "0     Alabama          100%       18.9\n",
       "1      Alaska           38%       20.1\n",
       "2     Arizona           73%       19.0\n",
       "3    Arkansas          100%       19.3\n",
       "4  California           23%       22.6"
      ]
     },
     "execution_count": 191,
     "metadata": {},
     "output_type": "execute_result"
    }
   ],
   "source": [
    "act_2019 = pd.read_csv(\"../data/act_2019.csv\")\n",
    "print(act_2019.shape)\n",
    "act_2019.head()\n",
    "# There are 52 rows in the dataset"
   ]
  },
  {
   "cell_type": "code",
   "execution_count": 192,
   "id": "bba35307-d0f6-41b2-9651-6ca5857e5119",
   "metadata": {},
   "outputs": [
    {
     "name": "stdout",
     "output_type": "stream",
     "text": [
      "<class 'pandas.core.frame.DataFrame'>\n",
      "RangeIndex: 52 entries, 0 to 51\n",
      "Data columns (total 3 columns):\n",
      " #   Column         Non-Null Count  Dtype  \n",
      "---  ------         --------------  -----  \n",
      " 0   State          52 non-null     object \n",
      " 1   Participation  52 non-null     object \n",
      " 2   Composite      52 non-null     float64\n",
      "dtypes: float64(1), object(2)\n",
      "memory usage: 1.3+ KB\n"
     ]
    }
   ],
   "source": [
    "# To check the column info and dtype\n",
    "act_2019.info()"
   ]
  },
  {
   "cell_type": "code",
   "execution_count": null,
   "id": "d043b496-7e59-45a8-bbb1-1a37a81e3304",
   "metadata": {},
   "outputs": [],
   "source": [
    "# To check if there are any NaN in the dataset\n",
    "act_2019.isna().sum()"
   ]
  },
  {
   "cell_type": "code",
   "execution_count": 193,
   "id": "8f85e245-5805-4707-bcac-862d573af54c",
   "metadata": {},
   "outputs": [
    {
     "data": {
      "text/html": [
       "<div>\n",
       "<style scoped>\n",
       "    .dataframe tbody tr th:only-of-type {\n",
       "        vertical-align: middle;\n",
       "    }\n",
       "\n",
       "    .dataframe tbody tr th {\n",
       "        vertical-align: top;\n",
       "    }\n",
       "\n",
       "    .dataframe thead th {\n",
       "        text-align: right;\n",
       "    }\n",
       "</style>\n",
       "<table border=\"1\" class=\"dataframe\">\n",
       "  <thead>\n",
       "    <tr style=\"text-align: right;\">\n",
       "      <th></th>\n",
       "      <th>State</th>\n",
       "      <th>Participation</th>\n",
       "      <th>Composite</th>\n",
       "    </tr>\n",
       "  </thead>\n",
       "  <tbody>\n",
       "    <tr>\n",
       "      <th>51</th>\n",
       "      <td>National</td>\n",
       "      <td>52%</td>\n",
       "      <td>20.7</td>\n",
       "    </tr>\n",
       "  </tbody>\n",
       "</table>\n",
       "</div>"
      ],
      "text/plain": [
       "       State Participation  Composite\n",
       "51  National           52%       20.7"
      ]
     },
     "execution_count": 193,
     "metadata": {},
     "output_type": "execute_result"
    }
   ],
   "source": [
    "# 'National' is in act_2019 dataset\n",
    "act_2019[act_2019['State'] == 'National']"
   ]
  },
  {
   "cell_type": "markdown",
   "id": "2d2f287b-c625-4681-8984-0e35db10e9f3",
   "metadata": {
    "tags": []
   },
   "source": [
    "#### ACT 2019 Findings\n",
    "- There are 52 rows in the dataset \n",
    "- ‘National’ row is found in this dataset\n",
    "- Participation should be in float type\n"
   ]
  },
  {
   "cell_type": "markdown",
   "id": "c2bef45c-187d-4d07-9171-d796a1feb326",
   "metadata": {},
   "source": [
    "#### ACT 2020 data"
   ]
  },
  {
   "cell_type": "code",
   "execution_count": 194,
   "id": "481a2e98-51e0-4f2c-abba-7d79fe5d4eea",
   "metadata": {},
   "outputs": [
    {
     "name": "stdout",
     "output_type": "stream",
     "text": [
      "(51, 3)\n"
     ]
    },
    {
     "data": {
      "text/html": [
       "<div>\n",
       "<style scoped>\n",
       "    .dataframe tbody tr th:only-of-type {\n",
       "        vertical-align: middle;\n",
       "    }\n",
       "\n",
       "    .dataframe tbody tr th {\n",
       "        vertical-align: top;\n",
       "    }\n",
       "\n",
       "    .dataframe thead th {\n",
       "        text-align: right;\n",
       "    }\n",
       "</style>\n",
       "<table border=\"1\" class=\"dataframe\">\n",
       "  <thead>\n",
       "    <tr style=\"text-align: right;\">\n",
       "      <th></th>\n",
       "      <th>State</th>\n",
       "      <th>Participation</th>\n",
       "      <th>Composite</th>\n",
       "    </tr>\n",
       "  </thead>\n",
       "  <tbody>\n",
       "    <tr>\n",
       "      <th>0</th>\n",
       "      <td>Alabama</td>\n",
       "      <td>100</td>\n",
       "      <td>18.8</td>\n",
       "    </tr>\n",
       "    <tr>\n",
       "      <th>1</th>\n",
       "      <td>Alaska</td>\n",
       "      <td>33</td>\n",
       "      <td>20.1</td>\n",
       "    </tr>\n",
       "    <tr>\n",
       "      <th>2</th>\n",
       "      <td>Arizona</td>\n",
       "      <td>71</td>\n",
       "      <td>19.1</td>\n",
       "    </tr>\n",
       "    <tr>\n",
       "      <th>3</th>\n",
       "      <td>Arkansas</td>\n",
       "      <td>100</td>\n",
       "      <td>19.0</td>\n",
       "    </tr>\n",
       "    <tr>\n",
       "      <th>4</th>\n",
       "      <td>California</td>\n",
       "      <td>19</td>\n",
       "      <td>23.3</td>\n",
       "    </tr>\n",
       "  </tbody>\n",
       "</table>\n",
       "</div>"
      ],
      "text/plain": [
       "        State  Participation  Composite\n",
       "0     Alabama            100       18.8\n",
       "1      Alaska             33       20.1\n",
       "2     Arizona             71       19.1\n",
       "3    Arkansas            100       19.0\n",
       "4  California             19       23.3"
      ]
     },
     "execution_count": 194,
     "metadata": {},
     "output_type": "execute_result"
    }
   ],
   "source": [
    "act_2020 = pd.read_csv(\"../data/act_2020.csv\")\n",
    "print(act_2020.shape)\n",
    "act_2020.head()"
   ]
  },
  {
   "cell_type": "code",
   "execution_count": 195,
   "id": "e6831a11-9ca2-4def-a625-0a7887ca542d",
   "metadata": {},
   "outputs": [
    {
     "name": "stdout",
     "output_type": "stream",
     "text": [
      "<class 'pandas.core.frame.DataFrame'>\n",
      "RangeIndex: 51 entries, 0 to 50\n",
      "Data columns (total 3 columns):\n",
      " #   Column         Non-Null Count  Dtype  \n",
      "---  ------         --------------  -----  \n",
      " 0   State          51 non-null     object \n",
      " 1   Participation  51 non-null     int64  \n",
      " 2   Composite      51 non-null     float64\n",
      "dtypes: float64(1), int64(1), object(1)\n",
      "memory usage: 1.3+ KB\n"
     ]
    }
   ],
   "source": [
    "# To check the column info and dtype\n",
    "act_2020.info()"
   ]
  },
  {
   "cell_type": "code",
   "execution_count": null,
   "id": "dd658280-1a89-421e-84ad-4eede0bc9f3c",
   "metadata": {},
   "outputs": [],
   "source": [
    "# To check if there are any NaN in the dataset\n",
    "act_2020.isna().sum()"
   ]
  },
  {
   "cell_type": "markdown",
   "id": "54b868f8-e32c-4328-b752-8fd411250079",
   "metadata": {},
   "source": [
    "### ACT 2020 Findings\n",
    "- The participation column is already in integer type\n",
    "- There are exactly 50 states + District of Columbia, no 'National' data"
   ]
  },
  {
   "cell_type": "markdown",
   "id": "5d7da660-e845-4e4d-bbdb-e78cdf00db31",
   "metadata": {},
   "source": [
    "#### ACT 2021 data"
   ]
  },
  {
   "cell_type": "code",
   "execution_count": 196,
   "id": "25accdab-c21b-4565-92f7-63f6f0628f0d",
   "metadata": {},
   "outputs": [
    {
     "name": "stdout",
     "output_type": "stream",
     "text": [
      "(51, 3)\n"
     ]
    },
    {
     "data": {
      "text/html": [
       "<div>\n",
       "<style scoped>\n",
       "    .dataframe tbody tr th:only-of-type {\n",
       "        vertical-align: middle;\n",
       "    }\n",
       "\n",
       "    .dataframe tbody tr th {\n",
       "        vertical-align: top;\n",
       "    }\n",
       "\n",
       "    .dataframe thead th {\n",
       "        text-align: right;\n",
       "    }\n",
       "</style>\n",
       "<table border=\"1\" class=\"dataframe\">\n",
       "  <thead>\n",
       "    <tr style=\"text-align: right;\">\n",
       "      <th></th>\n",
       "      <th>State</th>\n",
       "      <th>Participation</th>\n",
       "      <th>Composite</th>\n",
       "    </tr>\n",
       "  </thead>\n",
       "  <tbody>\n",
       "    <tr>\n",
       "      <th>0</th>\n",
       "      <td>Alabama</td>\n",
       "      <td>100</td>\n",
       "      <td>18.7</td>\n",
       "    </tr>\n",
       "    <tr>\n",
       "      <th>1</th>\n",
       "      <td>Alaska</td>\n",
       "      <td>16</td>\n",
       "      <td>20.6</td>\n",
       "    </tr>\n",
       "    <tr>\n",
       "      <th>2</th>\n",
       "      <td>Arizona</td>\n",
       "      <td>35</td>\n",
       "      <td>19.8</td>\n",
       "    </tr>\n",
       "    <tr>\n",
       "      <th>3</th>\n",
       "      <td>Arkansas</td>\n",
       "      <td>99</td>\n",
       "      <td>19.0</td>\n",
       "    </tr>\n",
       "    <tr>\n",
       "      <th>4</th>\n",
       "      <td>California</td>\n",
       "      <td>5</td>\n",
       "      <td>26.1</td>\n",
       "    </tr>\n",
       "  </tbody>\n",
       "</table>\n",
       "</div>"
      ],
      "text/plain": [
       "        State  Participation  Composite\n",
       "0     Alabama            100       18.7\n",
       "1      Alaska             16       20.6\n",
       "2     Arizona             35       19.8\n",
       "3    Arkansas             99       19.0\n",
       "4  California              5       26.1"
      ]
     },
     "execution_count": 196,
     "metadata": {},
     "output_type": "execute_result"
    }
   ],
   "source": [
    "act_2021 = pd.read_csv(\"../data/act_2021.csv\")\n",
    "print(act_2021.shape)\n",
    "act_2021.head()"
   ]
  },
  {
   "cell_type": "code",
   "execution_count": 197,
   "id": "e878d1d6-f50e-49fb-8fbc-d8eb2a22607d",
   "metadata": {},
   "outputs": [
    {
     "name": "stdout",
     "output_type": "stream",
     "text": [
      "<class 'pandas.core.frame.DataFrame'>\n",
      "RangeIndex: 51 entries, 0 to 50\n",
      "Data columns (total 3 columns):\n",
      " #   Column         Non-Null Count  Dtype  \n",
      "---  ------         --------------  -----  \n",
      " 0   State          51 non-null     object \n",
      " 1   Participation  51 non-null     int64  \n",
      " 2   Composite      51 non-null     float64\n",
      "dtypes: float64(1), int64(1), object(1)\n",
      "memory usage: 1.3+ KB\n"
     ]
    }
   ],
   "source": [
    "# To check the column info and dtype\n",
    "act_2021.info()"
   ]
  },
  {
   "cell_type": "code",
   "execution_count": null,
   "id": "07a75c8e-0d53-4f1a-ba53-5aa6f8469a65",
   "metadata": {},
   "outputs": [],
   "source": [
    "# To check if there are any NaN in the dataset\n",
    "act_2021.isna().sum()"
   ]
  },
  {
   "cell_type": "markdown",
   "id": "6332c070-a523-46c1-8221-f95f1abe5eb0",
   "metadata": {},
   "source": [
    "ACT 2021 Findings\n",
    "- The participation column is already in integer type\n",
    "- There are exactly 50 states + District of Columbia, no 'National' data"
   ]
  },
  {
   "cell_type": "markdown",
   "id": "035da98a-e91a-40da-af1d-46e07e80f4be",
   "metadata": {},
   "source": [
    "ACT Findings Summary\n",
    "- For this study, the columns that will be used are 'state', 'participation', 'composite'\n",
    "- To standardise, 'participation' and 'composite' columns are to use float type\n",
    "- Since 'National' data is not found in 2018, 2020 dataset, the remaining datasets will omit this data.\n",
    "- 'Participation' column to fall within the range between 0 to 1 instead of %\n"
   ]
  },
  {
   "cell_type": "markdown",
   "id": "712b7d78-690e-426d-bb07-f1d468821d5f",
   "metadata": {},
   "source": [
    "#### SAT 2017 data"
   ]
  },
  {
   "cell_type": "code",
   "execution_count": 198,
   "id": "f99041d5-4fea-4b9f-82d0-51891c66e897",
   "metadata": {},
   "outputs": [
    {
     "name": "stdout",
     "output_type": "stream",
     "text": [
      "(51, 5)\n"
     ]
    },
    {
     "data": {
      "text/html": [
       "<div>\n",
       "<style scoped>\n",
       "    .dataframe tbody tr th:only-of-type {\n",
       "        vertical-align: middle;\n",
       "    }\n",
       "\n",
       "    .dataframe tbody tr th {\n",
       "        vertical-align: top;\n",
       "    }\n",
       "\n",
       "    .dataframe thead th {\n",
       "        text-align: right;\n",
       "    }\n",
       "</style>\n",
       "<table border=\"1\" class=\"dataframe\">\n",
       "  <thead>\n",
       "    <tr style=\"text-align: right;\">\n",
       "      <th></th>\n",
       "      <th>State</th>\n",
       "      <th>Participation</th>\n",
       "      <th>Evidence-Based Reading and Writing</th>\n",
       "      <th>Math</th>\n",
       "      <th>Total</th>\n",
       "    </tr>\n",
       "  </thead>\n",
       "  <tbody>\n",
       "    <tr>\n",
       "      <th>0</th>\n",
       "      <td>Alabama</td>\n",
       "      <td>5%</td>\n",
       "      <td>593</td>\n",
       "      <td>572</td>\n",
       "      <td>1165</td>\n",
       "    </tr>\n",
       "    <tr>\n",
       "      <th>1</th>\n",
       "      <td>Alaska</td>\n",
       "      <td>38%</td>\n",
       "      <td>547</td>\n",
       "      <td>533</td>\n",
       "      <td>1080</td>\n",
       "    </tr>\n",
       "    <tr>\n",
       "      <th>2</th>\n",
       "      <td>Arizona</td>\n",
       "      <td>30%</td>\n",
       "      <td>563</td>\n",
       "      <td>553</td>\n",
       "      <td>1116</td>\n",
       "    </tr>\n",
       "    <tr>\n",
       "      <th>3</th>\n",
       "      <td>Arkansas</td>\n",
       "      <td>3%</td>\n",
       "      <td>614</td>\n",
       "      <td>594</td>\n",
       "      <td>1208</td>\n",
       "    </tr>\n",
       "    <tr>\n",
       "      <th>4</th>\n",
       "      <td>California</td>\n",
       "      <td>53%</td>\n",
       "      <td>531</td>\n",
       "      <td>524</td>\n",
       "      <td>1055</td>\n",
       "    </tr>\n",
       "  </tbody>\n",
       "</table>\n",
       "</div>"
      ],
      "text/plain": [
       "        State Participation  Evidence-Based Reading and Writing  Math  Total\n",
       "0     Alabama            5%                                 593   572   1165\n",
       "1      Alaska           38%                                 547   533   1080\n",
       "2     Arizona           30%                                 563   553   1116\n",
       "3    Arkansas            3%                                 614   594   1208\n",
       "4  California           53%                                 531   524   1055"
      ]
     },
     "execution_count": 198,
     "metadata": {},
     "output_type": "execute_result"
    }
   ],
   "source": [
    "sat_2017 = pd.read_csv(\"../data/sat_2017.csv\")\n",
    "print(sat_2017.shape)\n",
    "sat_2017.head()"
   ]
  },
  {
   "cell_type": "code",
   "execution_count": 199,
   "id": "cf466adb-e9e0-49a3-a12a-95a52b3c88ba",
   "metadata": {},
   "outputs": [
    {
     "name": "stdout",
     "output_type": "stream",
     "text": [
      "<class 'pandas.core.frame.DataFrame'>\n",
      "RangeIndex: 51 entries, 0 to 50\n",
      "Data columns (total 5 columns):\n",
      " #   Column                              Non-Null Count  Dtype \n",
      "---  ------                              --------------  ----- \n",
      " 0   State                               51 non-null     object\n",
      " 1   Participation                       51 non-null     object\n",
      " 2   Evidence-Based Reading and Writing  51 non-null     int64 \n",
      " 3   Math                                51 non-null     int64 \n",
      " 4   Total                               51 non-null     int64 \n",
      "dtypes: int64(3), object(2)\n",
      "memory usage: 2.1+ KB\n"
     ]
    }
   ],
   "source": [
    "# To check the column info and dtype\n",
    "sat_2017.info()"
   ]
  },
  {
   "cell_type": "code",
   "execution_count": null,
   "id": "715c791c-7934-4623-ab9b-a494d187a3de",
   "metadata": {},
   "outputs": [],
   "source": [
    "# To check if there are any NaN in the dataset\n",
    "sat_2017.isna().sum()"
   ]
  },
  {
   "cell_type": "markdown",
   "id": "20425ae5-1442-4553-9901-c294b8196659",
   "metadata": {},
   "source": [
    "#### SAT 2017\n",
    "- 5 columns of data: 'State', 'Participation', 'Evidence-Based Reading and Writing', 'Math', 'Total'\n",
    "- 51 rows of data\n",
    "- 'Participation' column is in object dtype\n"
   ]
  },
  {
   "cell_type": "markdown",
   "id": "5479ad26-9fcf-4b5a-a269-9fa48b128ad3",
   "metadata": {},
   "source": [
    "#### SAT 2018 data"
   ]
  },
  {
   "cell_type": "code",
   "execution_count": 200,
   "id": "b2b9befd-bf96-4da2-87b6-74a89ff389fa",
   "metadata": {},
   "outputs": [
    {
     "name": "stdout",
     "output_type": "stream",
     "text": [
      "(51, 5)\n"
     ]
    },
    {
     "data": {
      "text/html": [
       "<div>\n",
       "<style scoped>\n",
       "    .dataframe tbody tr th:only-of-type {\n",
       "        vertical-align: middle;\n",
       "    }\n",
       "\n",
       "    .dataframe tbody tr th {\n",
       "        vertical-align: top;\n",
       "    }\n",
       "\n",
       "    .dataframe thead th {\n",
       "        text-align: right;\n",
       "    }\n",
       "</style>\n",
       "<table border=\"1\" class=\"dataframe\">\n",
       "  <thead>\n",
       "    <tr style=\"text-align: right;\">\n",
       "      <th></th>\n",
       "      <th>State</th>\n",
       "      <th>Participation</th>\n",
       "      <th>Evidence-Based Reading and Writing</th>\n",
       "      <th>Math</th>\n",
       "      <th>Total</th>\n",
       "    </tr>\n",
       "  </thead>\n",
       "  <tbody>\n",
       "    <tr>\n",
       "      <th>0</th>\n",
       "      <td>Alabama</td>\n",
       "      <td>6%</td>\n",
       "      <td>595</td>\n",
       "      <td>571</td>\n",
       "      <td>1166</td>\n",
       "    </tr>\n",
       "    <tr>\n",
       "      <th>1</th>\n",
       "      <td>Alaska</td>\n",
       "      <td>43%</td>\n",
       "      <td>562</td>\n",
       "      <td>544</td>\n",
       "      <td>1106</td>\n",
       "    </tr>\n",
       "    <tr>\n",
       "      <th>2</th>\n",
       "      <td>Arizona</td>\n",
       "      <td>29%</td>\n",
       "      <td>577</td>\n",
       "      <td>572</td>\n",
       "      <td>1149</td>\n",
       "    </tr>\n",
       "    <tr>\n",
       "      <th>3</th>\n",
       "      <td>Arkansas</td>\n",
       "      <td>5%</td>\n",
       "      <td>592</td>\n",
       "      <td>576</td>\n",
       "      <td>1169</td>\n",
       "    </tr>\n",
       "    <tr>\n",
       "      <th>4</th>\n",
       "      <td>California</td>\n",
       "      <td>60%</td>\n",
       "      <td>540</td>\n",
       "      <td>536</td>\n",
       "      <td>1076</td>\n",
       "    </tr>\n",
       "  </tbody>\n",
       "</table>\n",
       "</div>"
      ],
      "text/plain": [
       "        State Participation  Evidence-Based Reading and Writing  Math  Total\n",
       "0     Alabama            6%                                 595   571   1166\n",
       "1      Alaska           43%                                 562   544   1106\n",
       "2     Arizona           29%                                 577   572   1149\n",
       "3    Arkansas            5%                                 592   576   1169\n",
       "4  California           60%                                 540   536   1076"
      ]
     },
     "execution_count": 200,
     "metadata": {},
     "output_type": "execute_result"
    }
   ],
   "source": [
    "sat_2018 = pd.read_csv(\"../data/sat_2018.csv\")\n",
    "print(sat_2018.shape)\n",
    "sat_2018.head()"
   ]
  },
  {
   "cell_type": "code",
   "execution_count": 201,
   "id": "4e835c0c-4fb4-491a-a8ce-622adbb08449",
   "metadata": {},
   "outputs": [
    {
     "name": "stdout",
     "output_type": "stream",
     "text": [
      "<class 'pandas.core.frame.DataFrame'>\n",
      "RangeIndex: 51 entries, 0 to 50\n",
      "Data columns (total 5 columns):\n",
      " #   Column                              Non-Null Count  Dtype \n",
      "---  ------                              --------------  ----- \n",
      " 0   State                               51 non-null     object\n",
      " 1   Participation                       51 non-null     object\n",
      " 2   Evidence-Based Reading and Writing  51 non-null     int64 \n",
      " 3   Math                                51 non-null     int64 \n",
      " 4   Total                               51 non-null     int64 \n",
      "dtypes: int64(3), object(2)\n",
      "memory usage: 2.1+ KB\n"
     ]
    }
   ],
   "source": [
    "# To check the column info and dtype\n",
    "sat_2018.info()"
   ]
  },
  {
   "cell_type": "code",
   "execution_count": null,
   "id": "709e4a10-caa3-4e4e-b998-558d97841c12",
   "metadata": {},
   "outputs": [],
   "source": [
    "# To check if there are any NaN in the dataset\n",
    "sat_2018.isna().sum()"
   ]
  },
  {
   "cell_type": "markdown",
   "id": "14450952-babf-43c0-a1d7-6c7905e17919",
   "metadata": {},
   "source": [
    "#### SAT 2018\n",
    "- 5 columns of data: 'State', 'Participation', 'Evidence-Based Reading and Writing', 'Math', 'Total'\n",
    "- 51 rows of data\n",
    "- 'Participation' column is in object dtype"
   ]
  },
  {
   "cell_type": "markdown",
   "id": "c427b3bd-35e4-4b6e-b7dc-7291d4a7e1fc",
   "metadata": {},
   "source": [
    "#### SAT 2019 data"
   ]
  },
  {
   "cell_type": "code",
   "execution_count": 202,
   "id": "bb6fbe37-fb9b-4aa0-a3cd-24e43321924d",
   "metadata": {},
   "outputs": [
    {
     "name": "stdout",
     "output_type": "stream",
     "text": [
      "(53, 5)\n"
     ]
    },
    {
     "data": {
      "text/html": [
       "<div>\n",
       "<style scoped>\n",
       "    .dataframe tbody tr th:only-of-type {\n",
       "        vertical-align: middle;\n",
       "    }\n",
       "\n",
       "    .dataframe tbody tr th {\n",
       "        vertical-align: top;\n",
       "    }\n",
       "\n",
       "    .dataframe thead th {\n",
       "        text-align: right;\n",
       "    }\n",
       "</style>\n",
       "<table border=\"1\" class=\"dataframe\">\n",
       "  <thead>\n",
       "    <tr style=\"text-align: right;\">\n",
       "      <th></th>\n",
       "      <th>State</th>\n",
       "      <th>Participation Rate</th>\n",
       "      <th>EBRW</th>\n",
       "      <th>Math</th>\n",
       "      <th>Total</th>\n",
       "    </tr>\n",
       "  </thead>\n",
       "  <tbody>\n",
       "    <tr>\n",
       "      <th>0</th>\n",
       "      <td>Alabama</td>\n",
       "      <td>7%</td>\n",
       "      <td>583</td>\n",
       "      <td>560</td>\n",
       "      <td>1143</td>\n",
       "    </tr>\n",
       "    <tr>\n",
       "      <th>1</th>\n",
       "      <td>Alaska</td>\n",
       "      <td>41%</td>\n",
       "      <td>556</td>\n",
       "      <td>541</td>\n",
       "      <td>1097</td>\n",
       "    </tr>\n",
       "    <tr>\n",
       "      <th>2</th>\n",
       "      <td>Arizona</td>\n",
       "      <td>31%</td>\n",
       "      <td>569</td>\n",
       "      <td>565</td>\n",
       "      <td>1134</td>\n",
       "    </tr>\n",
       "    <tr>\n",
       "      <th>3</th>\n",
       "      <td>Arkansas</td>\n",
       "      <td>6%</td>\n",
       "      <td>582</td>\n",
       "      <td>559</td>\n",
       "      <td>1141</td>\n",
       "    </tr>\n",
       "    <tr>\n",
       "      <th>4</th>\n",
       "      <td>California</td>\n",
       "      <td>63%</td>\n",
       "      <td>534</td>\n",
       "      <td>531</td>\n",
       "      <td>1065</td>\n",
       "    </tr>\n",
       "  </tbody>\n",
       "</table>\n",
       "</div>"
      ],
      "text/plain": [
       "        State Participation Rate  EBRW  Math  Total\n",
       "0     Alabama                 7%   583   560   1143\n",
       "1      Alaska                41%   556   541   1097\n",
       "2     Arizona                31%   569   565   1134\n",
       "3    Arkansas                 6%   582   559   1141\n",
       "4  California                63%   534   531   1065"
      ]
     },
     "execution_count": 202,
     "metadata": {},
     "output_type": "execute_result"
    }
   ],
   "source": [
    "sat_2019 = pd.read_csv(\"../data/sat_2019.csv\")\n",
    "print(sat_2019.shape)\n",
    "sat_2019.head()"
   ]
  },
  {
   "cell_type": "code",
   "execution_count": 203,
   "id": "db03f7a4-12da-4960-a156-849cb59aa03c",
   "metadata": {},
   "outputs": [
    {
     "name": "stdout",
     "output_type": "stream",
     "text": [
      "<class 'pandas.core.frame.DataFrame'>\n",
      "RangeIndex: 53 entries, 0 to 52\n",
      "Data columns (total 5 columns):\n",
      " #   Column              Non-Null Count  Dtype \n",
      "---  ------              --------------  ----- \n",
      " 0   State               53 non-null     object\n",
      " 1   Participation Rate  53 non-null     object\n",
      " 2   EBRW                53 non-null     int64 \n",
      " 3   Math                53 non-null     int64 \n",
      " 4   Total               53 non-null     int64 \n",
      "dtypes: int64(3), object(2)\n",
      "memory usage: 2.2+ KB\n"
     ]
    }
   ],
   "source": [
    "# To check the column info and dtype\n",
    "sat_2019.info()"
   ]
  },
  {
   "cell_type": "code",
   "execution_count": null,
   "id": "3c49a214-ed7b-48d4-b9d4-46ce99425d1a",
   "metadata": {},
   "outputs": [],
   "source": [
    "# To check if there are any NaN in the dataset\n",
    "sat_2019.isna().sum()"
   ]
  },
  {
   "cell_type": "code",
   "execution_count": 204,
   "id": "bfd5a41c-fadc-47e3-90be-a0fa0704c166",
   "metadata": {},
   "outputs": [],
   "source": [
    "# 2018 SAT data has the correct states\n",
    "list_of_states = sat_2018['State'] "
   ]
  },
  {
   "cell_type": "code",
   "execution_count": 205,
   "id": "84a6bb02-5cc2-4a3e-b7c9-902d37244387",
   "metadata": {},
   "outputs": [
    {
     "data": {
      "text/plain": [
       "['Puerto Rico', 'Virgin Islands']"
      ]
     },
     "execution_count": 205,
     "metadata": {},
     "output_type": "execute_result"
    }
   ],
   "source": [
    "# Using 2018 SAT 'state' to cross check with 2019 SAT 'state'. 2019 has two extra rows in 'state' column\n",
    "list(set(sat_2019['State']) - set(list_of_states))"
   ]
  },
  {
   "cell_type": "code",
   "execution_count": 206,
   "id": "f0af89e0-3af6-49a4-8ceb-b4e6d10589b4",
   "metadata": {},
   "outputs": [
    {
     "name": "stdout",
     "output_type": "stream",
     "text": [
      "          State Participation Rate  EBRW  Math  Total\n",
      "39  Puerto Rico                  —   483   462    944\n"
     ]
    },
    {
     "data": {
      "text/html": [
       "<div>\n",
       "<style scoped>\n",
       "    .dataframe tbody tr th:only-of-type {\n",
       "        vertical-align: middle;\n",
       "    }\n",
       "\n",
       "    .dataframe tbody tr th {\n",
       "        vertical-align: top;\n",
       "    }\n",
       "\n",
       "    .dataframe thead th {\n",
       "        text-align: right;\n",
       "    }\n",
       "</style>\n",
       "<table border=\"1\" class=\"dataframe\">\n",
       "  <thead>\n",
       "    <tr style=\"text-align: right;\">\n",
       "      <th></th>\n",
       "      <th>State</th>\n",
       "      <th>Participation Rate</th>\n",
       "      <th>EBRW</th>\n",
       "      <th>Math</th>\n",
       "      <th>Total</th>\n",
       "    </tr>\n",
       "  </thead>\n",
       "  <tbody>\n",
       "    <tr>\n",
       "      <th>47</th>\n",
       "      <td>Virgin Islands</td>\n",
       "      <td>—</td>\n",
       "      <td>490</td>\n",
       "      <td>445</td>\n",
       "      <td>935</td>\n",
       "    </tr>\n",
       "  </tbody>\n",
       "</table>\n",
       "</div>"
      ],
      "text/plain": [
       "             State Participation Rate  EBRW  Math  Total\n",
       "47  Virgin Islands                  —   490   445    935"
      ]
     },
     "execution_count": 206,
     "metadata": {},
     "output_type": "execute_result"
    }
   ],
   "source": [
    "print(sat_2019[sat_2019['State'] == 'Puerto Rico'])\n",
    "sat_2019[sat_2019['State'] == 'Virgin Islands']"
   ]
  },
  {
   "cell_type": "markdown",
   "id": "ec599be5-0c3c-4a49-9c0e-d30aed343b72",
   "metadata": {},
   "source": [
    "#### SAT 2019\n",
    "- 5 columns of data: 'State', 'Participation Rate', 'Evidence-Based Reading and Writing', 'Math', 'Total'\n",
    "- 53 rows of data: This includes ‘Virgin Islands’ and ‘Puerto Rico’ which has no data on the participation rate.\n",
    "- Participation column is in object dtype\n"
   ]
  },
  {
   "cell_type": "markdown",
   "id": "72f0c5aa-ffa9-4b40-a8cc-bfde142ba258",
   "metadata": {},
   "source": [
    "#### SAT 2020 data"
   ]
  },
  {
   "cell_type": "code",
   "execution_count": 207,
   "id": "ada05546-57cd-4bda-b1b3-b2bbdc4f4a8e",
   "metadata": {},
   "outputs": [
    {
     "name": "stdout",
     "output_type": "stream",
     "text": [
      "(51, 3)\n"
     ]
    },
    {
     "data": {
      "text/html": [
       "<div>\n",
       "<style scoped>\n",
       "    .dataframe tbody tr th:only-of-type {\n",
       "        vertical-align: middle;\n",
       "    }\n",
       "\n",
       "    .dataframe tbody tr th {\n",
       "        vertical-align: top;\n",
       "    }\n",
       "\n",
       "    .dataframe thead th {\n",
       "        text-align: right;\n",
       "    }\n",
       "</style>\n",
       "<table border=\"1\" class=\"dataframe\">\n",
       "  <thead>\n",
       "    <tr style=\"text-align: right;\">\n",
       "      <th></th>\n",
       "      <th>State</th>\n",
       "      <th>Participation Rate</th>\n",
       "      <th>Total</th>\n",
       "    </tr>\n",
       "  </thead>\n",
       "  <tbody>\n",
       "    <tr>\n",
       "      <th>0</th>\n",
       "      <td>Alabama</td>\n",
       "      <td>7</td>\n",
       "      <td>1127</td>\n",
       "    </tr>\n",
       "    <tr>\n",
       "      <th>1</th>\n",
       "      <td>Alaska</td>\n",
       "      <td>37</td>\n",
       "      <td>1098</td>\n",
       "    </tr>\n",
       "    <tr>\n",
       "      <th>2</th>\n",
       "      <td>Arizona</td>\n",
       "      <td>29</td>\n",
       "      <td>1139</td>\n",
       "    </tr>\n",
       "    <tr>\n",
       "      <th>3</th>\n",
       "      <td>Arkansas</td>\n",
       "      <td>4</td>\n",
       "      <td>1157</td>\n",
       "    </tr>\n",
       "    <tr>\n",
       "      <th>4</th>\n",
       "      <td>California</td>\n",
       "      <td>67</td>\n",
       "      <td>1049</td>\n",
       "    </tr>\n",
       "  </tbody>\n",
       "</table>\n",
       "</div>"
      ],
      "text/plain": [
       "        State  Participation Rate  Total\n",
       "0     Alabama                   7   1127\n",
       "1      Alaska                  37   1098\n",
       "2     Arizona                  29   1139\n",
       "3    Arkansas                   4   1157\n",
       "4  California                  67   1049"
      ]
     },
     "execution_count": 207,
     "metadata": {},
     "output_type": "execute_result"
    }
   ],
   "source": [
    "sat_2020 = pd.read_csv(\"../data/sat_2020.csv\")\n",
    "print(sat_2020.shape)\n",
    "sat_2020.head()"
   ]
  },
  {
   "cell_type": "code",
   "execution_count": 208,
   "id": "463221ca-9dbf-4168-9383-d1f41a87e264",
   "metadata": {},
   "outputs": [
    {
     "name": "stdout",
     "output_type": "stream",
     "text": [
      "<class 'pandas.core.frame.DataFrame'>\n",
      "RangeIndex: 51 entries, 0 to 50\n",
      "Data columns (total 3 columns):\n",
      " #   Column              Non-Null Count  Dtype \n",
      "---  ------              --------------  ----- \n",
      " 0   State               51 non-null     object\n",
      " 1   Participation Rate  51 non-null     int64 \n",
      " 2   Total               51 non-null     int64 \n",
      "dtypes: int64(2), object(1)\n",
      "memory usage: 1.3+ KB\n"
     ]
    }
   ],
   "source": [
    "# To check the column info and dtype\n",
    "sat_2020.info()"
   ]
  },
  {
   "cell_type": "code",
   "execution_count": null,
   "id": "9ca1673a-fb95-4449-b11c-8f301f10b489",
   "metadata": {},
   "outputs": [],
   "source": [
    "# To check if there are any NaN in the dataset\n",
    "sat_2020.isna().sum()"
   ]
  },
  {
   "cell_type": "markdown",
   "id": "53350df7-ac75-465b-bd1d-2086a95c91a4",
   "metadata": {},
   "source": [
    "#### SAT 2020\n",
    "- 3 columns of data: 'State', 'Participation Rate', 'Total'\n",
    "- 51 rows of data\n",
    "- Participation column is in integer dtype"
   ]
  },
  {
   "cell_type": "markdown",
   "id": "1bf74e14-a9cd-46af-9ce4-73ff0eeac2c2",
   "metadata": {},
   "source": [
    "#### SAT 2021 data"
   ]
  },
  {
   "cell_type": "code",
   "execution_count": 209,
   "id": "bbf771af-6a43-4fe3-b52f-45e0e274ab51",
   "metadata": {},
   "outputs": [
    {
     "name": "stdout",
     "output_type": "stream",
     "text": [
      "(51, 5)\n"
     ]
    },
    {
     "data": {
      "text/html": [
       "<div>\n",
       "<style scoped>\n",
       "    .dataframe tbody tr th:only-of-type {\n",
       "        vertical-align: middle;\n",
       "    }\n",
       "\n",
       "    .dataframe tbody tr th {\n",
       "        vertical-align: top;\n",
       "    }\n",
       "\n",
       "    .dataframe thead th {\n",
       "        text-align: right;\n",
       "    }\n",
       "</style>\n",
       "<table border=\"1\" class=\"dataframe\">\n",
       "  <thead>\n",
       "    <tr style=\"text-align: right;\">\n",
       "      <th></th>\n",
       "      <th>State</th>\n",
       "      <th>Participation Rate</th>\n",
       "      <th>EBRW</th>\n",
       "      <th>Math</th>\n",
       "      <th>Total</th>\n",
       "    </tr>\n",
       "  </thead>\n",
       "  <tbody>\n",
       "    <tr>\n",
       "      <th>0</th>\n",
       "      <td>Alabama</td>\n",
       "      <td>3%</td>\n",
       "      <td>591</td>\n",
       "      <td>568</td>\n",
       "      <td>1159</td>\n",
       "    </tr>\n",
       "    <tr>\n",
       "      <th>1</th>\n",
       "      <td>Alaska</td>\n",
       "      <td>23%</td>\n",
       "      <td>567</td>\n",
       "      <td>553</td>\n",
       "      <td>1119</td>\n",
       "    </tr>\n",
       "    <tr>\n",
       "      <th>2</th>\n",
       "      <td>Arizona</td>\n",
       "      <td>11%</td>\n",
       "      <td>592</td>\n",
       "      <td>589</td>\n",
       "      <td>1181</td>\n",
       "    </tr>\n",
       "    <tr>\n",
       "      <th>3</th>\n",
       "      <td>Arkansas</td>\n",
       "      <td>2%</td>\n",
       "      <td>610</td>\n",
       "      <td>584</td>\n",
       "      <td>1194</td>\n",
       "    </tr>\n",
       "    <tr>\n",
       "      <th>4</th>\n",
       "      <td>California</td>\n",
       "      <td>24%</td>\n",
       "      <td>527</td>\n",
       "      <td>530</td>\n",
       "      <td>1057</td>\n",
       "    </tr>\n",
       "  </tbody>\n",
       "</table>\n",
       "</div>"
      ],
      "text/plain": [
       "        State Participation Rate  EBRW  Math  Total\n",
       "0     Alabama                 3%   591   568   1159\n",
       "1      Alaska                23%   567   553   1119\n",
       "2     Arizona                11%   592   589   1181\n",
       "3    Arkansas                 2%   610   584   1194\n",
       "4  California                24%   527   530   1057"
      ]
     },
     "execution_count": 209,
     "metadata": {},
     "output_type": "execute_result"
    }
   ],
   "source": [
    "sat_2021 = pd.read_csv(\"../data/sat_2021.csv\")\n",
    "print(sat_2021.shape)\n",
    "sat_2021.head()"
   ]
  },
  {
   "cell_type": "code",
   "execution_count": 210,
   "id": "d0c0351b-aafa-4a31-b6bc-148862085a0a",
   "metadata": {},
   "outputs": [
    {
     "name": "stdout",
     "output_type": "stream",
     "text": [
      "<class 'pandas.core.frame.DataFrame'>\n",
      "RangeIndex: 51 entries, 0 to 50\n",
      "Data columns (total 5 columns):\n",
      " #   Column              Non-Null Count  Dtype \n",
      "---  ------              --------------  ----- \n",
      " 0   State               51 non-null     object\n",
      " 1   Participation Rate  51 non-null     object\n",
      " 2   EBRW                51 non-null     int64 \n",
      " 3   Math                51 non-null     int64 \n",
      " 4   Total               51 non-null     int64 \n",
      "dtypes: int64(3), object(2)\n",
      "memory usage: 2.1+ KB\n"
     ]
    }
   ],
   "source": [
    "# To check the column info and dtype\n",
    "sat_2021.info()"
   ]
  },
  {
   "cell_type": "code",
   "execution_count": null,
   "id": "1bb3c92c-dbc7-45de-8ad6-2dda8a4307e5",
   "metadata": {},
   "outputs": [],
   "source": [
    "# To check if there are any NaN in the dataset\n",
    "sat_2021.isna().sum()"
   ]
  },
  {
   "cell_type": "markdown",
   "id": "5e992833-f18f-4f7d-b25f-b45642d5416a",
   "metadata": {
    "tags": []
   },
   "source": [
    "#### SAT 2021\n",
    "- 5 columns of data: 'State', 'Participation', 'EBRW', 'Math', 'Total'\n",
    "- 51 rows of data\n",
    "- Participation column is in object dtype\n"
   ]
  },
  {
   "cell_type": "markdown",
   "id": "d87e0185-4dc8-4164-82b8-b1b7e78a5d12",
   "metadata": {},
   "source": [
    "### SAT Findings Summary\n",
    "- For this study, the columns that will be used are 'state', 'participation', 'total'\n",
    "- To standardise, 'participation' and 'composite' columns are to use float type\n",
    "- 'Virgin Islands' and 'Puerto Rico' exist in 'State' column but 'participation' data is not found in 2019 , and these two are not found in other year datasets, this data shall be removed.\n",
    "- 'Participation' column to fall within the range between 0 to 1\n"
   ]
  },
  {
   "cell_type": "markdown",
   "id": "9ed9d70a-2370-4074-9ba6-dd17bc2cb550",
   "metadata": {},
   "source": [
    "# Data Cleaning"
   ]
  },
  {
   "cell_type": "code",
   "execution_count": 211,
   "id": "c2b6702e-db26-4005-8874-cbf5d79f4d6a",
   "metadata": {},
   "outputs": [],
   "source": [
    "# Function to select only the 3 columns: 'state', 'participation', 'composite' & lower case all selected \n",
    "# columns\n",
    "def dataset_column(df):\n",
    "    df.columns = df.columns.str.lower()\n",
    "    df.rename(columns={'participation rate':'participation'}, inplace = True)\n",
    "    df.drop(df.columns.difference(['state','participation','composite','total']), axis=1, inplace=True)\n",
    "    return df"
   ]
  },
  {
   "cell_type": "code",
   "execution_count": 212,
   "id": "d19c7b97-cfa2-4eb7-8f82-349934aa3d73",
   "metadata": {},
   "outputs": [],
   "source": [
    "# Function to convert the columns that are suppose to be in float type\n",
    "def string_to_float(df, column):\n",
    "    column_float = []\n",
    "    if column == 'participation':\n",
    "        for i in df[column]:\n",
    "            try: column_float.append(float(i.replace(\"%\", \"\"))/100)\n",
    "            except: column_float.append(float(i)/100)\n",
    "    else:\n",
    "        for i in df[column]:\n",
    "            try: column_float.append(float(i.replace(\"%\", \"\")))\n",
    "            except: column_float.append(float(i))\n",
    "    df[column] = column_float\n",
    "    return df"
   ]
  },
  {
   "cell_type": "code",
   "execution_count": 213,
   "id": "4465a41c-e218-4c52-9033-8f14156ff4de",
   "metadata": {},
   "outputs": [],
   "source": [
    "# Function to only have 50 states + District of Columbia in state column\n",
    "def state(df, column):\n",
    "    df[column] = df[column].str.title()\n",
    "    df = df[~df[column].isin(['National', 'Virgin Islands', 'Puerto Rico'])]\n",
    "    df.drop_duplicates(inplace = True, ignore_index=True)\n",
    "    return df"
   ]
  },
  {
   "cell_type": "code",
   "execution_count": 214,
   "id": "4f3cfb1d-b020-4101-a194-fe3091fba590",
   "metadata": {},
   "outputs": [],
   "source": [
    "# Function to add year column\n",
    "def add_year(df, year):\n",
    "    df['year'] = year\n",
    "    return df"
   ]
  },
  {
   "cell_type": "markdown",
   "id": "1d2fc24f-a3f5-4cc7-960c-57964e2c5c11",
   "metadata": {},
   "source": [
    "### Cleaning ACT Datasets"
   ]
  },
  {
   "cell_type": "code",
   "execution_count": 215,
   "id": "29762e0a-1356-4483-bd12-0487be6fb57d",
   "metadata": {},
   "outputs": [
    {
     "name": "stderr",
     "output_type": "stream",
     "text": [
      "C:\\Users\\Jacky\\AppData\\Local\\Temp\\ipykernel_21824\\528749275.py:5: SettingWithCopyWarning: \n",
      "A value is trying to be set on a copy of a slice from a DataFrame\n",
      "\n",
      "See the caveats in the documentation: https://pandas.pydata.org/pandas-docs/stable/user_guide/indexing.html#returning-a-view-versus-a-copy\n",
      "  df.drop_duplicates(inplace = True, ignore_index=True)\n",
      "C:\\Users\\Jacky\\AppData\\Local\\Temp\\ipykernel_21824\\2992532487.py:12: SettingWithCopyWarning: \n",
      "A value is trying to be set on a copy of a slice from a DataFrame.\n",
      "Try using .loc[row_indexer,col_indexer] = value instead\n",
      "\n",
      "See the caveats in the documentation: https://pandas.pydata.org/pandas-docs/stable/user_guide/indexing.html#returning-a-view-versus-a-copy\n",
      "  df[column] = column_float\n"
     ]
    }
   ],
   "source": [
    "#Cleaning ACT 2017 dataset\n",
    "act_2017['Composite'] = act_2017['Composite'].replace('20.2x',20.2)\n",
    "act_2017 = dataset_column(act_2017)\n",
    "act_2017 = state(act_2017, 'state')\n",
    "act_2017 = string_to_float(act_2017, 'participation')\n",
    "act_2017 = string_to_float(act_2017, 'composite')\n",
    "act_2017 = add_year(act_2017, 2017)"
   ]
  },
  {
   "cell_type": "code",
   "execution_count": 216,
   "id": "4abc0a74-5d22-43b5-8323-39d139a71ee0",
   "metadata": {},
   "outputs": [],
   "source": [
    "#Cleaning ACT 2018 dataset\n",
    "act_2018 = dataset_column(act_2018)\n",
    "act_2018 = state(act_2018, 'state')\n",
    "act_2018 = string_to_float(act_2018, 'participation')\n",
    "act_2018 = string_to_float(act_2018, 'composite')\n",
    "act_2018 = add_year(act_2018, 2018)"
   ]
  },
  {
   "cell_type": "code",
   "execution_count": 217,
   "id": "3337dbe4-df28-42ed-bdd7-72d6d1d51259",
   "metadata": {},
   "outputs": [
    {
     "name": "stderr",
     "output_type": "stream",
     "text": [
      "C:\\Users\\Jacky\\AppData\\Local\\Temp\\ipykernel_21824\\528749275.py:5: SettingWithCopyWarning: \n",
      "A value is trying to be set on a copy of a slice from a DataFrame\n",
      "\n",
      "See the caveats in the documentation: https://pandas.pydata.org/pandas-docs/stable/user_guide/indexing.html#returning-a-view-versus-a-copy\n",
      "  df.drop_duplicates(inplace = True, ignore_index=True)\n",
      "C:\\Users\\Jacky\\AppData\\Local\\Temp\\ipykernel_21824\\2992532487.py:12: SettingWithCopyWarning: \n",
      "A value is trying to be set on a copy of a slice from a DataFrame.\n",
      "Try using .loc[row_indexer,col_indexer] = value instead\n",
      "\n",
      "See the caveats in the documentation: https://pandas.pydata.org/pandas-docs/stable/user_guide/indexing.html#returning-a-view-versus-a-copy\n",
      "  df[column] = column_float\n",
      "C:\\Users\\Jacky\\AppData\\Local\\Temp\\ipykernel_21824\\267770319.py:3: SettingWithCopyWarning: \n",
      "A value is trying to be set on a copy of a slice from a DataFrame.\n",
      "Try using .loc[row_indexer,col_indexer] = value instead\n",
      "\n",
      "See the caveats in the documentation: https://pandas.pydata.org/pandas-docs/stable/user_guide/indexing.html#returning-a-view-versus-a-copy\n",
      "  df['year'] = year\n"
     ]
    }
   ],
   "source": [
    "#Cleaning ACT 2019 dataset\n",
    "act_2019 = dataset_column(act_2019)\n",
    "act_2019 = state(act_2019, 'state')\n",
    "act_2019 = string_to_float(act_2019, 'participation')\n",
    "act_2019 = string_to_float(act_2019, 'composite')\n",
    "act_2019 = add_year(act_2019, 2019)"
   ]
  },
  {
   "cell_type": "code",
   "execution_count": 218,
   "id": "746ee61c-5919-4b3e-85f5-227d92c5f354",
   "metadata": {},
   "outputs": [],
   "source": [
    "#Cleaning ACT 2020 dataset\n",
    "act_2020 = dataset_column(act_2020)\n",
    "act_2020 = state(act_2020, 'state')\n",
    "act_2020 = string_to_float(act_2020, 'participation')\n",
    "act_2020 = string_to_float(act_2020, 'composite')\n",
    "act_2020 = add_year(act_2020, 2020)"
   ]
  },
  {
   "cell_type": "code",
   "execution_count": 219,
   "id": "e06dbb4d-6a21-45b6-931c-9ef404d743e6",
   "metadata": {},
   "outputs": [],
   "source": [
    "#Cleaning ACT 2021 dataset\n",
    "act_2021 = dataset_column(act_2021)\n",
    "act_2021 = state(act_2021, 'state')\n",
    "act_2021 = string_to_float(act_2021, 'participation')\n",
    "act_2021 = string_to_float(act_2021, 'composite')\n",
    "act_2021 = add_year(act_2021, 2021)"
   ]
  },
  {
   "cell_type": "markdown",
   "id": "f0b6f081-939a-4225-823f-b68a92d1f526",
   "metadata": {},
   "source": [
    "### Combining ACT 2017 to 2021"
   ]
  },
  {
   "cell_type": "code",
   "execution_count": 220,
   "id": "2864911f-b4e0-4d47-9230-75c317eee08a",
   "metadata": {},
   "outputs": [],
   "source": [
    "act_2017_to_2021 = pd.concat(objs = [act_2017, act_2018, act_2019, act_2020, act_2021])"
   ]
  },
  {
   "cell_type": "code",
   "execution_count": 221,
   "id": "dcbddc23-3967-4dc5-9c87-ee087eb95343",
   "metadata": {},
   "outputs": [],
   "source": [
    "act_2017_to_2021.reset_index(drop=True, inplace=True)"
   ]
  },
  {
   "cell_type": "code",
   "execution_count": 222,
   "id": "13965b9f-f191-4835-8007-3f19ea4b33dc",
   "metadata": {},
   "outputs": [
    {
     "name": "stdout",
     "output_type": "stream",
     "text": [
      "<class 'pandas.core.frame.DataFrame'>\n",
      "RangeIndex: 255 entries, 0 to 254\n",
      "Data columns (total 4 columns):\n",
      " #   Column         Non-Null Count  Dtype  \n",
      "---  ------         --------------  -----  \n",
      " 0   state          255 non-null    object \n",
      " 1   participation  255 non-null    float64\n",
      " 2   composite      255 non-null    float64\n",
      " 3   year           255 non-null    int64  \n",
      "dtypes: float64(2), int64(1), object(1)\n",
      "memory usage: 8.1+ KB\n"
     ]
    }
   ],
   "source": [
    "# To check the column info and dtype\n",
    "act_2017_to_2021.info()"
   ]
  },
  {
   "cell_type": "markdown",
   "id": "0014d13c-804f-4038-8bbe-7cd5dedc403e",
   "metadata": {},
   "source": [
    "### ACT 2017 to 2021 plots - EDA for ACT"
   ]
  },
  {
   "cell_type": "code",
   "execution_count": 223,
   "id": "d3863c73-9445-4912-be71-ce86771b7adc",
   "metadata": {},
   "outputs": [
    {
     "data": {
      "image/png": "[encoded data removed]",
      "text/plain": [
       "<Figure size 1800x360 with 5 Axes>"
      ]
     },
     "metadata": {},
     "output_type": "display_data"
    }
   ],
   "source": [
    "# To find out the changes in ACT participation levels from 2017 to 2021.\n",
    "g = sns.FacetGrid(act_2017_to_2021, col='year',height=5, aspect = 1)\n",
    "g = g.map(plt.hist, 'participation')\n",
    "g.set_ylabels('Count')\n",
    "plt.suptitle(\"ACT Participation Levels between 2017-2021 by State\")\n",
    "plt.tight_layout()"
   ]
  },
  {
   "cell_type": "markdown",
   "id": "64b0107d-f193-4abc-adfc-4d5eb29b7ab1",
   "metadata": {},
   "source": [
    "1. From the ACT Participation Levels between 2017-2018, there is an increase in the participation levels. \n",
    "2. However, the reduction of participation level was seen starting from 2019 till 2021. \n",
    "-   A reduction in the 1.0 level and 0.2 level.\n",
    "-   An increase the 0.1 level."
   ]
  },
  {
   "cell_type": "code",
   "execution_count": 224,
   "id": "1fb49550-b523-4103-a182-789b6a7ed8dd",
   "metadata": {},
   "outputs": [
    {
     "data": {
      "image/png": "[encoded data removed]",
      "text/plain": [
       "<Figure size 1800x360 with 5 Axes>"
      ]
     },
     "metadata": {},
     "output_type": "display_data"
    }
   ],
   "source": [
    "# To find out the changes in ACT composite scores from 2017 to 2021.\n",
    "g = sns.FacetGrid(act_2017_to_2021, col='year',height=5, aspect = 1)\n",
    "g = g.map(plt.hist, 'composite')\n",
    "g.set_ylabels('Count')\n",
    "plt.suptitle(\"ACT Composite Scores between 2017-2021 by State\")\n",
    "plt.tight_layout()"
   ]
  },
  {
   "cell_type": "markdown",
   "id": "8a154279-37ea-421b-8ddc-2e1f171809db",
   "metadata": {},
   "source": [
    "- From the ACT Composite Scores, for the year 2021, there is a clear divide in the student scores where there are students scoring more than 26.\n",
    "- In another group of students scoring the other end of the spectum (composite scores between 18 to 21)"
   ]
  },
  {
   "cell_type": "markdown",
   "id": "7944e085-70da-4f94-b2b6-59d563ab97e6",
   "metadata": {},
   "source": [
    "### Cleaning SAT data"
   ]
  },
  {
   "cell_type": "code",
   "execution_count": 225,
   "id": "3112a928-5b5a-4648-b9a7-c39c91cb76cb",
   "metadata": {},
   "outputs": [],
   "source": [
    "# Cleaning SAT 2017 data\n",
    "sat_2017 = dataset_column(sat_2017)\n",
    "sat_2017 = state(sat_2017, 'state')\n",
    "sat_2017 = string_to_float(sat_2017, 'participation')\n",
    "sat_2017 = add_year(sat_2017, 2017)"
   ]
  },
  {
   "cell_type": "code",
   "execution_count": 226,
   "id": "9ed92c3f-5d1b-4398-9ed7-1632f1abfb48",
   "metadata": {},
   "outputs": [],
   "source": [
    "# Cleaning SAT 2018 data\n",
    "sat_2018 = dataset_column(sat_2018)\n",
    "sat_2018 = state(sat_2018, 'state')\n",
    "sat_2018 = string_to_float(sat_2018, 'participation')\n",
    "sat_2018 = add_year(sat_2018, 2018)"
   ]
  },
  {
   "cell_type": "code",
   "execution_count": 227,
   "id": "12c30d94-199f-4bfc-aa56-2deadcb4ef1d",
   "metadata": {},
   "outputs": [
    {
     "name": "stderr",
     "output_type": "stream",
     "text": [
      "C:\\Users\\Jacky\\AppData\\Local\\Temp\\ipykernel_21824\\528749275.py:5: SettingWithCopyWarning: \n",
      "A value is trying to be set on a copy of a slice from a DataFrame\n",
      "\n",
      "See the caveats in the documentation: https://pandas.pydata.org/pandas-docs/stable/user_guide/indexing.html#returning-a-view-versus-a-copy\n",
      "  df.drop_duplicates(inplace = True, ignore_index=True)\n",
      "C:\\Users\\Jacky\\AppData\\Local\\Temp\\ipykernel_21824\\2992532487.py:12: SettingWithCopyWarning: \n",
      "A value is trying to be set on a copy of a slice from a DataFrame.\n",
      "Try using .loc[row_indexer,col_indexer] = value instead\n",
      "\n",
      "See the caveats in the documentation: https://pandas.pydata.org/pandas-docs/stable/user_guide/indexing.html#returning-a-view-versus-a-copy\n",
      "  df[column] = column_float\n",
      "C:\\Users\\Jacky\\AppData\\Local\\Temp\\ipykernel_21824\\267770319.py:3: SettingWithCopyWarning: \n",
      "A value is trying to be set on a copy of a slice from a DataFrame.\n",
      "Try using .loc[row_indexer,col_indexer] = value instead\n",
      "\n",
      "See the caveats in the documentation: https://pandas.pydata.org/pandas-docs/stable/user_guide/indexing.html#returning-a-view-versus-a-copy\n",
      "  df['year'] = year\n"
     ]
    }
   ],
   "source": [
    "# Cleaning SAT 2019 data\n",
    "sat_2019 = dataset_column(sat_2019)\n",
    "sat_2019 = state(sat_2019, 'state')\n",
    "sat_2019 = string_to_float(sat_2019, 'participation')\n",
    "sat_2019 = add_year(sat_2019, 2019)"
   ]
  },
  {
   "cell_type": "code",
   "execution_count": 228,
   "id": "41f83d9a-d927-4f72-8f9f-36b1f508f23e",
   "metadata": {},
   "outputs": [],
   "source": [
    "# Cleaning SAT 2020 data\n",
    "sat_2020 = dataset_column(sat_2020)\n",
    "sat_2020 = state(sat_2020, 'state')\n",
    "sat_2020 = string_to_float(sat_2020, 'participation')\n",
    "sat_2020 = add_year(sat_2020, 2020)"
   ]
  },
  {
   "cell_type": "code",
   "execution_count": 229,
   "id": "b2b78fed-0ee1-4d77-b761-812011ca52ed",
   "metadata": {},
   "outputs": [],
   "source": [
    "# Cleaning SAT 2021 data\n",
    "sat_2021 = dataset_column(sat_2021)\n",
    "sat_2021 = state(sat_2021, 'state')\n",
    "sat_2021 = string_to_float(sat_2021, 'participation')\n",
    "sat_2021 = add_year(sat_2021, 2021)"
   ]
  },
  {
   "cell_type": "markdown",
   "id": "4a1da6c6-d050-4fa2-829b-f3aa7cb33d01",
   "metadata": {},
   "source": [
    "### SAT 2017 to 2021 data - EDA for SAT"
   ]
  },
  {
   "cell_type": "code",
   "execution_count": 230,
   "id": "1df5255b-f60a-4656-9305-9fbf84c12aca",
   "metadata": {},
   "outputs": [],
   "source": [
    "sat_2017_to_2021 = pd.concat(objs = [sat_2017, sat_2018, sat_2019, sat_2020, sat_2021])"
   ]
  },
  {
   "cell_type": "code",
   "execution_count": 231,
   "id": "d2a2deda-5ece-4f69-8bec-527abfd4b4b4",
   "metadata": {},
   "outputs": [],
   "source": [
    "sat_2017_to_2021.reset_index(drop=True, inplace=True)"
   ]
  },
  {
   "cell_type": "code",
   "execution_count": 232,
   "id": "023f12bb-8633-4d33-8859-1ca442b1431a",
   "metadata": {},
   "outputs": [
    {
     "data": {
      "text/html": [
       "<div>\n",
       "<style scoped>\n",
       "    .dataframe tbody tr th:only-of-type {\n",
       "        vertical-align: middle;\n",
       "    }\n",
       "\n",
       "    .dataframe tbody tr th {\n",
       "        vertical-align: top;\n",
       "    }\n",
       "\n",
       "    .dataframe thead th {\n",
       "        text-align: right;\n",
       "    }\n",
       "</style>\n",
       "<table border=\"1\" class=\"dataframe\">\n",
       "  <thead>\n",
       "    <tr style=\"text-align: right;\">\n",
       "      <th></th>\n",
       "      <th>state</th>\n",
       "      <th>participation</th>\n",
       "      <th>total</th>\n",
       "      <th>year</th>\n",
       "    </tr>\n",
       "  </thead>\n",
       "  <tbody>\n",
       "    <tr>\n",
       "      <th>0</th>\n",
       "      <td>Alabama</td>\n",
       "      <td>0.05</td>\n",
       "      <td>1165</td>\n",
       "      <td>2017</td>\n",
       "    </tr>\n",
       "    <tr>\n",
       "      <th>1</th>\n",
       "      <td>Alaska</td>\n",
       "      <td>0.38</td>\n",
       "      <td>1080</td>\n",
       "      <td>2017</td>\n",
       "    </tr>\n",
       "    <tr>\n",
       "      <th>2</th>\n",
       "      <td>Arizona</td>\n",
       "      <td>0.30</td>\n",
       "      <td>1116</td>\n",
       "      <td>2017</td>\n",
       "    </tr>\n",
       "    <tr>\n",
       "      <th>3</th>\n",
       "      <td>Arkansas</td>\n",
       "      <td>0.03</td>\n",
       "      <td>1208</td>\n",
       "      <td>2017</td>\n",
       "    </tr>\n",
       "    <tr>\n",
       "      <th>4</th>\n",
       "      <td>California</td>\n",
       "      <td>0.53</td>\n",
       "      <td>1055</td>\n",
       "      <td>2017</td>\n",
       "    </tr>\n",
       "  </tbody>\n",
       "</table>\n",
       "</div>"
      ],
      "text/plain": [
       "        state  participation  total  year\n",
       "0     Alabama           0.05   1165  2017\n",
       "1      Alaska           0.38   1080  2017\n",
       "2     Arizona           0.30   1116  2017\n",
       "3    Arkansas           0.03   1208  2017\n",
       "4  California           0.53   1055  2017"
      ]
     },
     "execution_count": 232,
     "metadata": {},
     "output_type": "execute_result"
    }
   ],
   "source": [
    "sat_2017_to_2021.head()"
   ]
  },
  {
   "cell_type": "code",
   "execution_count": 233,
   "id": "08acf435-db92-4298-b1b9-691fee782653",
   "metadata": {},
   "outputs": [
    {
     "name": "stdout",
     "output_type": "stream",
     "text": [
      "<class 'pandas.core.frame.DataFrame'>\n",
      "RangeIndex: 255 entries, 0 to 254\n",
      "Data columns (total 4 columns):\n",
      " #   Column         Non-Null Count  Dtype  \n",
      "---  ------         --------------  -----  \n",
      " 0   state          255 non-null    object \n",
      " 1   participation  255 non-null    float64\n",
      " 2   total          255 non-null    int64  \n",
      " 3   year           255 non-null    int64  \n",
      "dtypes: float64(1), int64(2), object(1)\n",
      "memory usage: 8.1+ KB\n"
     ]
    }
   ],
   "source": [
    "# To check the column info and dtype\n",
    "sat_2017_to_2021.info()"
   ]
  },
  {
   "cell_type": "code",
   "execution_count": 234,
   "id": "77d28481-df33-4cc2-a410-277a054a1d34",
   "metadata": {},
   "outputs": [
    {
     "data": {
      "image/png": "[encoded data removed]",
      "text/plain": [
       "<Figure size 1800x360 with 5 Axes>"
      ]
     },
     "metadata": {},
     "output_type": "display_data"
    }
   ],
   "source": [
    "# To find out the changes in SAT participation levels from 2017 to 2021.\n",
    "g = sns.FacetGrid(sat_2017_to_2021, col='year',height=5, aspect = 1)\n",
    "g = g.map(plt.hist, 'participation')\n",
    "g.set_ylabels('Count')\n",
    "plt.suptitle(\"SAT Participation Levels between 2017-2021 by State\")\n",
    "plt.tight_layout()"
   ]
  },
  {
   "cell_type": "markdown",
   "id": "2f0483e1-70fd-4a99-9b40-1798ce12348e",
   "metadata": {},
   "source": [
    "- From the histogram plots across the years for 2017 to 2019, there is an increase in the participation level.\n",
    "- For 2020 and 2021, there is a sharp drop in the participation levels. (huge decrease for participation at 1.0 level and 0.7 level, and an increase in 0.5 level and 0.0 level)"
   ]
  },
  {
   "cell_type": "code",
   "execution_count": 235,
   "id": "294737fa-fcff-497f-8fdf-b6f0a26e1126",
   "metadata": {},
   "outputs": [
    {
     "data": {
      "image/png": "[encoded data removed]",
      "text/plain": [
       "<Figure size 1800x360 with 5 Axes>"
      ]
     },
     "metadata": {},
     "output_type": "display_data"
    }
   ],
   "source": [
    "# To find out the changes in SAT Total scores from 2017 to 2021.\n",
    "g = sns.FacetGrid(sat_2017_to_2021, col='year',height=5, aspect = 1)\n",
    "g = g.map(plt.hist, 'total')\n",
    "g.set_ylabels('Count')\n",
    "plt.suptitle(\"SAT Total Scores between 2017-2021 by State\")\n",
    "plt.tight_layout()"
   ]
  },
  {
   "cell_type": "markdown",
   "id": "7cb2e4c6-57ca-41f9-8940-16a021eb7cbe",
   "metadata": {},
   "source": [
    "- For 2020 to 2021, the total SAT scores did not reach 1300 levels and the score for 1000 are higher than the rest of the years."
   ]
  },
  {
   "cell_type": "markdown",
   "id": "734d0d10-1be4-4c32-84fe-2b1c3295b480",
   "metadata": {},
   "source": [
    "## COVID-19 Datasets"
   ]
  },
  {
   "cell_type": "markdown",
   "id": "fe68f5d1-cc42-4624-90ae-7151788f0131",
   "metadata": {},
   "source": [
    "#### 2020 COVID-19 Data"
   ]
  },
  {
   "cell_type": "code",
   "execution_count": 236,
   "id": "22c4b780-e854-4be9-8565-2b7f49423b58",
   "metadata": {},
   "outputs": [
    {
     "name": "stdout",
     "output_type": "stream",
     "text": [
      "(884737, 2)\n"
     ]
    },
    {
     "data": {
      "text/html": [
       "<div>\n",
       "<style scoped>\n",
       "    .dataframe tbody tr th:only-of-type {\n",
       "        vertical-align: middle;\n",
       "    }\n",
       "\n",
       "    .dataframe tbody tr th {\n",
       "        vertical-align: top;\n",
       "    }\n",
       "\n",
       "    .dataframe thead th {\n",
       "        text-align: right;\n",
       "    }\n",
       "</style>\n",
       "<table border=\"1\" class=\"dataframe\">\n",
       "  <thead>\n",
       "    <tr style=\"text-align: right;\">\n",
       "      <th></th>\n",
       "      <th>state</th>\n",
       "      <th>cases</th>\n",
       "    </tr>\n",
       "  </thead>\n",
       "  <tbody>\n",
       "    <tr>\n",
       "      <th>0</th>\n",
       "      <td>Washington</td>\n",
       "      <td>1</td>\n",
       "    </tr>\n",
       "    <tr>\n",
       "      <th>1</th>\n",
       "      <td>Washington</td>\n",
       "      <td>1</td>\n",
       "    </tr>\n",
       "    <tr>\n",
       "      <th>2</th>\n",
       "      <td>Washington</td>\n",
       "      <td>1</td>\n",
       "    </tr>\n",
       "    <tr>\n",
       "      <th>3</th>\n",
       "      <td>Illinois</td>\n",
       "      <td>1</td>\n",
       "    </tr>\n",
       "    <tr>\n",
       "      <th>4</th>\n",
       "      <td>Washington</td>\n",
       "      <td>1</td>\n",
       "    </tr>\n",
       "  </tbody>\n",
       "</table>\n",
       "</div>"
      ],
      "text/plain": [
       "        state  cases\n",
       "0  Washington      1\n",
       "1  Washington      1\n",
       "2  Washington      1\n",
       "3    Illinois      1\n",
       "4  Washington      1"
      ]
     },
     "execution_count": 236,
     "metadata": {},
     "output_type": "execute_result"
    }
   ],
   "source": [
    "# Importing the 2020 dataset using columns state and cases only\n",
    "covid_2020 = pd.read_csv(\"../data/us-counties-2020.csv\",\n",
    "                         usecols=['state','cases'])\n",
    "print(covid_2020.shape)\n",
    "covid_2020.head()"
   ]
  },
  {
   "cell_type": "code",
   "execution_count": 237,
   "id": "5d6148a5-5805-476b-a5f7-5c51e2136bea",
   "metadata": {},
   "outputs": [
    {
     "name": "stdout",
     "output_type": "stream",
     "text": [
      "<class 'pandas.core.frame.DataFrame'>\n",
      "RangeIndex: 884737 entries, 0 to 884736\n",
      "Data columns (total 2 columns):\n",
      " #   Column  Non-Null Count   Dtype \n",
      "---  ------  --------------   ----- \n",
      " 0   state   884737 non-null  object\n",
      " 1   cases   884737 non-null  int64 \n",
      "dtypes: int64(1), object(1)\n",
      "memory usage: 13.5+ MB\n"
     ]
    }
   ],
   "source": [
    "# To check the column info and dtype\n",
    "covid_2020.info()"
   ]
  },
  {
   "cell_type": "code",
   "execution_count": 238,
   "id": "5c5d07e9-c551-4fa9-9a8b-0d2deae6e013",
   "metadata": {},
   "outputs": [
    {
     "data": {
      "text/plain": [
       "state    0\n",
       "cases    0\n",
       "dtype: int64"
      ]
     },
     "execution_count": 238,
     "metadata": {},
     "output_type": "execute_result"
    }
   ],
   "source": [
    "#Check if there is any empty data in our dataset\n",
    "covid_2020.isna().sum()"
   ]
  },
  {
   "cell_type": "markdown",
   "id": "9dc9cf0c-3576-4347-a5cb-d6029f8f438c",
   "metadata": {},
   "source": [
    "#### 2021 COVID-19 Data"
   ]
  },
  {
   "cell_type": "code",
   "execution_count": 239,
   "id": "0deca28e-31e2-4ed2-baf1-0c011a38837a",
   "metadata": {},
   "outputs": [
    {
     "name": "stdout",
     "output_type": "stream",
     "text": [
      "(1185373, 2)\n"
     ]
    },
    {
     "data": {
      "text/html": [
       "<div>\n",
       "<style scoped>\n",
       "    .dataframe tbody tr th:only-of-type {\n",
       "        vertical-align: middle;\n",
       "    }\n",
       "\n",
       "    .dataframe tbody tr th {\n",
       "        vertical-align: top;\n",
       "    }\n",
       "\n",
       "    .dataframe thead th {\n",
       "        text-align: right;\n",
       "    }\n",
       "</style>\n",
       "<table border=\"1\" class=\"dataframe\">\n",
       "  <thead>\n",
       "    <tr style=\"text-align: right;\">\n",
       "      <th></th>\n",
       "      <th>state</th>\n",
       "      <th>cases</th>\n",
       "    </tr>\n",
       "  </thead>\n",
       "  <tbody>\n",
       "    <tr>\n",
       "      <th>0</th>\n",
       "      <td>Alabama</td>\n",
       "      <td>4239</td>\n",
       "    </tr>\n",
       "    <tr>\n",
       "      <th>1</th>\n",
       "      <td>Alabama</td>\n",
       "      <td>13823</td>\n",
       "    </tr>\n",
       "    <tr>\n",
       "      <th>2</th>\n",
       "      <td>Alabama</td>\n",
       "      <td>1517</td>\n",
       "    </tr>\n",
       "    <tr>\n",
       "      <th>3</th>\n",
       "      <td>Alabama</td>\n",
       "      <td>1854</td>\n",
       "    </tr>\n",
       "    <tr>\n",
       "      <th>4</th>\n",
       "      <td>Alabama</td>\n",
       "      <td>4693</td>\n",
       "    </tr>\n",
       "  </tbody>\n",
       "</table>\n",
       "</div>"
      ],
      "text/plain": [
       "     state  cases\n",
       "0  Alabama   4239\n",
       "1  Alabama  13823\n",
       "2  Alabama   1517\n",
       "3  Alabama   1854\n",
       "4  Alabama   4693"
      ]
     },
     "execution_count": 239,
     "metadata": {},
     "output_type": "execute_result"
    }
   ],
   "source": [
    "# Importing the 2021 dataset using columns state and cases only\n",
    "covid_2021 = pd.read_csv(\"../data/us-counties-2021.csv\",\n",
    "                         usecols=['state','cases'])\n",
    "print(covid_2021.shape)\n",
    "covid_2021.head()"
   ]
  },
  {
   "cell_type": "code",
   "execution_count": 240,
   "id": "b18f3c53-9ff9-406b-be92-3e1fb1f6ee51",
   "metadata": {},
   "outputs": [
    {
     "name": "stdout",
     "output_type": "stream",
     "text": [
      "<class 'pandas.core.frame.DataFrame'>\n",
      "RangeIndex: 1185373 entries, 0 to 1185372\n",
      "Data columns (total 2 columns):\n",
      " #   Column  Non-Null Count    Dtype \n",
      "---  ------  --------------    ----- \n",
      " 0   state   1185373 non-null  object\n",
      " 1   cases   1185373 non-null  int64 \n",
      "dtypes: int64(1), object(1)\n",
      "memory usage: 18.1+ MB\n"
     ]
    }
   ],
   "source": [
    "# To check the column info and dtype\n",
    "covid_2021.info()"
   ]
  },
  {
   "cell_type": "code",
   "execution_count": 241,
   "id": "090afc20-25e9-4c62-b712-be2ff08559d2",
   "metadata": {},
   "outputs": [
    {
     "data": {
      "text/plain": [
       "state    0\n",
       "cases    0\n",
       "dtype: int64"
      ]
     },
     "execution_count": 241,
     "metadata": {},
     "output_type": "execute_result"
    }
   ],
   "source": [
    "# Check if there is any empty data in our dataset\n",
    "covid_2021.isna().sum()"
   ]
  },
  {
   "cell_type": "code",
   "execution_count": 242,
   "id": "b8dc735c-ee09-4c41-8547-eb1e7963d431",
   "metadata": {},
   "outputs": [
    {
     "name": "stderr",
     "output_type": "stream",
     "text": [
      "C:\\Users\\Jacky\\AppData\\Local\\Temp\\ipykernel_21824\\528749275.py:5: SettingWithCopyWarning: \n",
      "A value is trying to be set on a copy of a slice from a DataFrame\n",
      "\n",
      "See the caveats in the documentation: https://pandas.pydata.org/pandas-docs/stable/user_guide/indexing.html#returning-a-view-versus-a-copy\n",
      "  df.drop_duplicates(inplace = True, ignore_index=True)\n"
     ]
    }
   ],
   "source": [
    "# Cleaning the dataset\n",
    "covid_2020 = state(covid_2020, 'state')"
   ]
  },
  {
   "cell_type": "code",
   "execution_count": 243,
   "id": "5ed94192-f90b-49a2-89e7-4933426363e0",
   "metadata": {},
   "outputs": [],
   "source": [
    "# Grouping the data by state\n",
    "covid_2020_state = covid_2020.groupby('state').sum()"
   ]
  },
  {
   "cell_type": "code",
   "execution_count": 244,
   "id": "f61072a7-903d-4273-ac30-def187101f87",
   "metadata": {},
   "outputs": [],
   "source": [
    "# Resetting the index for the dataframe\n",
    "covid_2020_state.reset_index(inplace=True)"
   ]
  },
  {
   "cell_type": "code",
   "execution_count": 245,
   "id": "d64816a2-6e1e-4388-a14a-3e4110fca1ee",
   "metadata": {},
   "outputs": [
    {
     "data": {
      "text/html": [
       "<div>\n",
       "<style scoped>\n",
       "    .dataframe tbody tr th:only-of-type {\n",
       "        vertical-align: middle;\n",
       "    }\n",
       "\n",
       "    .dataframe tbody tr th {\n",
       "        vertical-align: top;\n",
       "    }\n",
       "\n",
       "    .dataframe thead th {\n",
       "        text-align: right;\n",
       "    }\n",
       "</style>\n",
       "<table border=\"1\" class=\"dataframe\">\n",
       "  <thead>\n",
       "    <tr style=\"text-align: right;\">\n",
       "      <th></th>\n",
       "      <th>state</th>\n",
       "      <th>cases</th>\n",
       "    </tr>\n",
       "  </thead>\n",
       "  <tbody>\n",
       "    <tr>\n",
       "      <th>0</th>\n",
       "      <td>Alabama</td>\n",
       "      <td>22712725</td>\n",
       "    </tr>\n",
       "    <tr>\n",
       "      <th>1</th>\n",
       "      <td>Alaska</td>\n",
       "      <td>2373494</td>\n",
       "    </tr>\n",
       "    <tr>\n",
       "      <th>2</th>\n",
       "      <td>Arizona</td>\n",
       "      <td>45513789</td>\n",
       "    </tr>\n",
       "    <tr>\n",
       "      <th>3</th>\n",
       "      <td>Arkansas</td>\n",
       "      <td>11735820</td>\n",
       "    </tr>\n",
       "    <tr>\n",
       "      <th>4</th>\n",
       "      <td>California</td>\n",
       "      <td>160906426</td>\n",
       "    </tr>\n",
       "  </tbody>\n",
       "</table>\n",
       "</div>"
      ],
      "text/plain": [
       "        state      cases\n",
       "0     Alabama   22712725\n",
       "1      Alaska    2373494\n",
       "2     Arizona   45513789\n",
       "3    Arkansas   11735820\n",
       "4  California  160906426"
      ]
     },
     "execution_count": 245,
     "metadata": {},
     "output_type": "execute_result"
    }
   ],
   "source": [
    "# Check that the data is in correct state\n",
    "covid_2020_state.head()"
   ]
  },
  {
   "cell_type": "code",
   "execution_count": 246,
   "id": "cbf34de6-f99f-4f8b-9675-0446a015a89d",
   "metadata": {},
   "outputs": [
    {
     "name": "stderr",
     "output_type": "stream",
     "text": [
      "C:\\Users\\Jacky\\AppData\\Local\\Temp\\ipykernel_21824\\528749275.py:5: SettingWithCopyWarning: \n",
      "A value is trying to be set on a copy of a slice from a DataFrame\n",
      "\n",
      "See the caveats in the documentation: https://pandas.pydata.org/pandas-docs/stable/user_guide/indexing.html#returning-a-view-versus-a-copy\n",
      "  df.drop_duplicates(inplace = True, ignore_index=True)\n"
     ]
    }
   ],
   "source": [
    "# Cleaning the dataset\n",
    "covid_2021 = state(covid_2021, 'state')"
   ]
  },
  {
   "cell_type": "code",
   "execution_count": 247,
   "id": "8bf9e01c-792f-440c-ae2a-43a928941ede",
   "metadata": {},
   "outputs": [],
   "source": [
    "# Grouping the data by state\n",
    "covid_2021_state = covid_2021.groupby('state').sum()"
   ]
  },
  {
   "cell_type": "code",
   "execution_count": 248,
   "id": "5dd7eec7-e738-4ef8-bdf3-953a9962e711",
   "metadata": {},
   "outputs": [],
   "source": [
    "# Resetting the index for the dataframe\n",
    "covid_2021_state.reset_index(inplace=True)"
   ]
  },
  {
   "cell_type": "code",
   "execution_count": 249,
   "id": "31d9dd75-fa02-4134-8186-b36e04156ecc",
   "metadata": {},
   "outputs": [
    {
     "data": {
      "text/html": [
       "<div>\n",
       "<style scoped>\n",
       "    .dataframe tbody tr th:only-of-type {\n",
       "        vertical-align: middle;\n",
       "    }\n",
       "\n",
       "    .dataframe tbody tr th {\n",
       "        vertical-align: top;\n",
       "    }\n",
       "\n",
       "    .dataframe thead th {\n",
       "        text-align: right;\n",
       "    }\n",
       "</style>\n",
       "<table border=\"1\" class=\"dataframe\">\n",
       "  <thead>\n",
       "    <tr style=\"text-align: right;\">\n",
       "      <th></th>\n",
       "      <th>state</th>\n",
       "      <th>cases</th>\n",
       "    </tr>\n",
       "  </thead>\n",
       "  <tbody>\n",
       "    <tr>\n",
       "      <th>0</th>\n",
       "      <td>Alabama</td>\n",
       "      <td>170160233</td>\n",
       "    </tr>\n",
       "    <tr>\n",
       "      <th>1</th>\n",
       "      <td>Alaska</td>\n",
       "      <td>18025636</td>\n",
       "    </tr>\n",
       "    <tr>\n",
       "      <th>2</th>\n",
       "      <td>American Samoa</td>\n",
       "      <td>34</td>\n",
       "    </tr>\n",
       "    <tr>\n",
       "      <th>3</th>\n",
       "      <td>Arizona</td>\n",
       "      <td>341506251</td>\n",
       "    </tr>\n",
       "    <tr>\n",
       "      <th>4</th>\n",
       "      <td>Arkansas</td>\n",
       "      <td>98857955</td>\n",
       "    </tr>\n",
       "  </tbody>\n",
       "</table>\n",
       "</div>"
      ],
      "text/plain": [
       "            state      cases\n",
       "0         Alabama  170160233\n",
       "1          Alaska   18025636\n",
       "2  American Samoa         34\n",
       "3         Arizona  341506251\n",
       "4        Arkansas   98857955"
      ]
     },
     "execution_count": 249,
     "metadata": {},
     "output_type": "execute_result"
    }
   ],
   "source": [
    "# Check that the data is in correct state\n",
    "covid_2021_state.head()"
   ]
  },
  {
   "cell_type": "markdown",
   "id": "13465f46-aa50-44df-9b15-3b17fc845d2c",
   "metadata": {},
   "source": [
    "## Exploratory data analysis - COVID + ACT/SAT"
   ]
  },
  {
   "cell_type": "markdown",
   "id": "27c8c634-e349-40cc-a87d-09672d83a13b",
   "metadata": {},
   "source": [
    "### To check how much COVID has affected the participation and the score of ACT/SAT"
   ]
  },
  {
   "cell_type": "code",
   "execution_count": 250,
   "id": "f7bd390b-8c37-4c85-b5cc-0b7aa29dec0b",
   "metadata": {},
   "outputs": [],
   "source": [
    "# Renaming column names of ACT 2020\n",
    "act_2020_corona = act_2020.rename(columns={'participation':'part_act_2020','composite':'comp_act_2020'})\n",
    "act_2020_corona.drop(columns='year', inplace= True)"
   ]
  },
  {
   "cell_type": "code",
   "execution_count": 251,
   "id": "af7a65d2-3e85-4450-9294-80fe53ad434b",
   "metadata": {},
   "outputs": [
    {
     "data": {
      "text/html": [
       "<div>\n",
       "<style scoped>\n",
       "    .dataframe tbody tr th:only-of-type {\n",
       "        vertical-align: middle;\n",
       "    }\n",
       "\n",
       "    .dataframe tbody tr th {\n",
       "        vertical-align: top;\n",
       "    }\n",
       "\n",
       "    .dataframe thead th {\n",
       "        text-align: right;\n",
       "    }\n",
       "</style>\n",
       "<table border=\"1\" class=\"dataframe\">\n",
       "  <thead>\n",
       "    <tr style=\"text-align: right;\">\n",
       "      <th></th>\n",
       "      <th>state</th>\n",
       "      <th>part_act_2020</th>\n",
       "      <th>comp_act_2020</th>\n",
       "    </tr>\n",
       "  </thead>\n",
       "  <tbody>\n",
       "    <tr>\n",
       "      <th>0</th>\n",
       "      <td>Alabama</td>\n",
       "      <td>1.00</td>\n",
       "      <td>18.8</td>\n",
       "    </tr>\n",
       "    <tr>\n",
       "      <th>1</th>\n",
       "      <td>Alaska</td>\n",
       "      <td>0.33</td>\n",
       "      <td>20.1</td>\n",
       "    </tr>\n",
       "    <tr>\n",
       "      <th>2</th>\n",
       "      <td>Arizona</td>\n",
       "      <td>0.71</td>\n",
       "      <td>19.1</td>\n",
       "    </tr>\n",
       "    <tr>\n",
       "      <th>3</th>\n",
       "      <td>Arkansas</td>\n",
       "      <td>1.00</td>\n",
       "      <td>19.0</td>\n",
       "    </tr>\n",
       "    <tr>\n",
       "      <th>4</th>\n",
       "      <td>California</td>\n",
       "      <td>0.19</td>\n",
       "      <td>23.3</td>\n",
       "    </tr>\n",
       "  </tbody>\n",
       "</table>\n",
       "</div>"
      ],
      "text/plain": [
       "        state  part_act_2020  comp_act_2020\n",
       "0     Alabama           1.00           18.8\n",
       "1      Alaska           0.33           20.1\n",
       "2     Arizona           0.71           19.1\n",
       "3    Arkansas           1.00           19.0\n",
       "4  California           0.19           23.3"
      ]
     },
     "execution_count": 251,
     "metadata": {},
     "output_type": "execute_result"
    }
   ],
   "source": [
    "act_2020_corona.head()"
   ]
  },
  {
   "cell_type": "code",
   "execution_count": 252,
   "id": "af651d39-0226-4c78-80ce-520686bd12a1",
   "metadata": {},
   "outputs": [
    {
     "data": {
      "text/html": [
       "<div>\n",
       "<style scoped>\n",
       "    .dataframe tbody tr th:only-of-type {\n",
       "        vertical-align: middle;\n",
       "    }\n",
       "\n",
       "    .dataframe tbody tr th {\n",
       "        vertical-align: top;\n",
       "    }\n",
       "\n",
       "    .dataframe thead th {\n",
       "        text-align: right;\n",
       "    }\n",
       "</style>\n",
       "<table border=\"1\" class=\"dataframe\">\n",
       "  <thead>\n",
       "    <tr style=\"text-align: right;\">\n",
       "      <th></th>\n",
       "      <th>state</th>\n",
       "      <th>part_sat_2020</th>\n",
       "      <th>total_sat_2020</th>\n",
       "    </tr>\n",
       "  </thead>\n",
       "  <tbody>\n",
       "    <tr>\n",
       "      <th>0</th>\n",
       "      <td>Alabama</td>\n",
       "      <td>0.07</td>\n",
       "      <td>1127</td>\n",
       "    </tr>\n",
       "    <tr>\n",
       "      <th>1</th>\n",
       "      <td>Alaska</td>\n",
       "      <td>0.37</td>\n",
       "      <td>1098</td>\n",
       "    </tr>\n",
       "    <tr>\n",
       "      <th>2</th>\n",
       "      <td>Arizona</td>\n",
       "      <td>0.29</td>\n",
       "      <td>1139</td>\n",
       "    </tr>\n",
       "    <tr>\n",
       "      <th>3</th>\n",
       "      <td>Arkansas</td>\n",
       "      <td>0.04</td>\n",
       "      <td>1157</td>\n",
       "    </tr>\n",
       "    <tr>\n",
       "      <th>4</th>\n",
       "      <td>California</td>\n",
       "      <td>0.67</td>\n",
       "      <td>1049</td>\n",
       "    </tr>\n",
       "  </tbody>\n",
       "</table>\n",
       "</div>"
      ],
      "text/plain": [
       "        state  part_sat_2020  total_sat_2020\n",
       "0     Alabama           0.07            1127\n",
       "1      Alaska           0.37            1098\n",
       "2     Arizona           0.29            1139\n",
       "3    Arkansas           0.04            1157\n",
       "4  California           0.67            1049"
      ]
     },
     "execution_count": 252,
     "metadata": {},
     "output_type": "execute_result"
    }
   ],
   "source": [
    "# Renaming column names of SAT 2020\n",
    "sat_2020_corona = sat_2020.rename(columns={'participation':'part_sat_2020','total':'total_sat_2020'})\n",
    "sat_2020_corona.drop(columns='year', inplace= True)\n",
    "sat_2020_corona.head()"
   ]
  },
  {
   "cell_type": "code",
   "execution_count": 253,
   "id": "142ac53c-a9c1-483c-b51d-9dee49d6b3b2",
   "metadata": {},
   "outputs": [],
   "source": [
    "# Merging 2020 ACT and 2020 SAT\n",
    "act_sat_2020 = pd.merge(left = act_2020_corona,\n",
    "                        right = sat_2020_corona,\n",
    "                        on = 'state')"
   ]
  },
  {
   "cell_type": "code",
   "execution_count": 254,
   "id": "a00be279-5b73-4bd4-bd67-78b535dca151",
   "metadata": {},
   "outputs": [
    {
     "name": "stdout",
     "output_type": "stream",
     "text": [
      "(51, 5)\n"
     ]
    },
    {
     "data": {
      "text/html": [
       "<div>\n",
       "<style scoped>\n",
       "    .dataframe tbody tr th:only-of-type {\n",
       "        vertical-align: middle;\n",
       "    }\n",
       "\n",
       "    .dataframe tbody tr th {\n",
       "        vertical-align: top;\n",
       "    }\n",
       "\n",
       "    .dataframe thead th {\n",
       "        text-align: right;\n",
       "    }\n",
       "</style>\n",
       "<table border=\"1\" class=\"dataframe\">\n",
       "  <thead>\n",
       "    <tr style=\"text-align: right;\">\n",
       "      <th></th>\n",
       "      <th>state</th>\n",
       "      <th>part_act_2020</th>\n",
       "      <th>comp_act_2020</th>\n",
       "      <th>part_sat_2020</th>\n",
       "      <th>total_sat_2020</th>\n",
       "    </tr>\n",
       "  </thead>\n",
       "  <tbody>\n",
       "    <tr>\n",
       "      <th>0</th>\n",
       "      <td>Alabama</td>\n",
       "      <td>1.00</td>\n",
       "      <td>18.8</td>\n",
       "      <td>0.07</td>\n",
       "      <td>1127</td>\n",
       "    </tr>\n",
       "    <tr>\n",
       "      <th>1</th>\n",
       "      <td>Alaska</td>\n",
       "      <td>0.33</td>\n",
       "      <td>20.1</td>\n",
       "      <td>0.37</td>\n",
       "      <td>1098</td>\n",
       "    </tr>\n",
       "    <tr>\n",
       "      <th>2</th>\n",
       "      <td>Arizona</td>\n",
       "      <td>0.71</td>\n",
       "      <td>19.1</td>\n",
       "      <td>0.29</td>\n",
       "      <td>1139</td>\n",
       "    </tr>\n",
       "    <tr>\n",
       "      <th>3</th>\n",
       "      <td>Arkansas</td>\n",
       "      <td>1.00</td>\n",
       "      <td>19.0</td>\n",
       "      <td>0.04</td>\n",
       "      <td>1157</td>\n",
       "    </tr>\n",
       "    <tr>\n",
       "      <th>4</th>\n",
       "      <td>California</td>\n",
       "      <td>0.19</td>\n",
       "      <td>23.3</td>\n",
       "      <td>0.67</td>\n",
       "      <td>1049</td>\n",
       "    </tr>\n",
       "  </tbody>\n",
       "</table>\n",
       "</div>"
      ],
      "text/plain": [
       "        state  part_act_2020  comp_act_2020  part_sat_2020  total_sat_2020\n",
       "0     Alabama           1.00           18.8           0.07            1127\n",
       "1      Alaska           0.33           20.1           0.37            1098\n",
       "2     Arizona           0.71           19.1           0.29            1139\n",
       "3    Arkansas           1.00           19.0           0.04            1157\n",
       "4  California           0.19           23.3           0.67            1049"
      ]
     },
     "execution_count": 254,
     "metadata": {},
     "output_type": "execute_result"
    }
   ],
   "source": [
    "print(act_sat_2020.shape)\n",
    "act_sat_2020.head()"
   ]
  },
  {
   "cell_type": "code",
   "execution_count": 255,
   "id": "942500cd-7bd5-4312-9421-5ca0e3d3f573",
   "metadata": {},
   "outputs": [
    {
     "data": {
      "text/html": [
       "<div>\n",
       "<style scoped>\n",
       "    .dataframe tbody tr th:only-of-type {\n",
       "        vertical-align: middle;\n",
       "    }\n",
       "\n",
       "    .dataframe tbody tr th {\n",
       "        vertical-align: top;\n",
       "    }\n",
       "\n",
       "    .dataframe thead th {\n",
       "        text-align: right;\n",
       "    }\n",
       "</style>\n",
       "<table border=\"1\" class=\"dataframe\">\n",
       "  <thead>\n",
       "    <tr style=\"text-align: right;\">\n",
       "      <th></th>\n",
       "      <th>part_act_2020</th>\n",
       "      <th>comp_act_2020</th>\n",
       "      <th>part_sat_2020</th>\n",
       "      <th>total_sat_2020</th>\n",
       "    </tr>\n",
       "  </thead>\n",
       "  <tbody>\n",
       "    <tr>\n",
       "      <th>part_act_2020</th>\n",
       "      <td>1.000000</td>\n",
       "      <td>-0.872261</td>\n",
       "      <td>-0.873731</td>\n",
       "      <td>0.681349</td>\n",
       "    </tr>\n",
       "    <tr>\n",
       "      <th>comp_act_2020</th>\n",
       "      <td>-0.872261</td>\n",
       "      <td>1.000000</td>\n",
       "      <td>0.748477</td>\n",
       "      <td>-0.455702</td>\n",
       "    </tr>\n",
       "    <tr>\n",
       "      <th>part_sat_2020</th>\n",
       "      <td>-0.873731</td>\n",
       "      <td>0.748477</td>\n",
       "      <td>1.000000</td>\n",
       "      <td>-0.865907</td>\n",
       "    </tr>\n",
       "    <tr>\n",
       "      <th>total_sat_2020</th>\n",
       "      <td>0.681349</td>\n",
       "      <td>-0.455702</td>\n",
       "      <td>-0.865907</td>\n",
       "      <td>1.000000</td>\n",
       "    </tr>\n",
       "  </tbody>\n",
       "</table>\n",
       "</div>"
      ],
      "text/plain": [
       "                part_act_2020  comp_act_2020  part_sat_2020  total_sat_2020\n",
       "part_act_2020        1.000000      -0.872261      -0.873731        0.681349\n",
       "comp_act_2020       -0.872261       1.000000       0.748477       -0.455702\n",
       "part_sat_2020       -0.873731       0.748477       1.000000       -0.865907\n",
       "total_sat_2020       0.681349      -0.455702      -0.865907        1.000000"
      ]
     },
     "execution_count": 255,
     "metadata": {},
     "output_type": "execute_result"
    }
   ],
   "source": [
    "act_sat_2020.corr()"
   ]
  },
  {
   "cell_type": "markdown",
   "id": "e6777610-84f8-42dd-9457-48232bced4c1",
   "metadata": {},
   "source": [
    "- The ACT participation 2020 has an inverse relation with the SAT participation 2020 of 0.87."
   ]
  },
  {
   "cell_type": "code",
   "execution_count": 263,
   "id": "2dd4f9ee-b40d-49bf-beb2-a3dad03e54f6",
   "metadata": {},
   "outputs": [
    {
     "data": {
      "text/plain": [
       "<seaborn.axisgrid.PairGrid at 0x211289351f0>"
      ]
     },
     "execution_count": 263,
     "metadata": {},
     "output_type": "execute_result"
    },
    {
     "data": {
      "image/png": "[encoded data removed]",
      "text/plain": [
       "<Figure size 720x720 with 20 Axes>"
      ]
     },
     "metadata": {},
     "output_type": "display_data"
    }
   ],
   "source": [
    "sns.pairplot(act_sat_2020)"
   ]
  },
  {
   "cell_type": "code",
   "execution_count": 256,
   "id": "41f2587c-a792-4f93-80fa-817bd584dad1",
   "metadata": {},
   "outputs": [],
   "source": [
    "# Renaming column names of ACT 2021\n",
    "act_2021_corona = act_2021.rename(columns={'participation':'part_act_2021','composite':'comp_act_2021'})\n",
    "act_2021_corona.drop(columns='year', inplace= True)"
   ]
  },
  {
   "cell_type": "code",
   "execution_count": 257,
   "id": "d4086159-98ac-4d8e-bf0c-e2f408b38990",
   "metadata": {},
   "outputs": [
    {
     "data": {
      "text/html": [
       "<div>\n",
       "<style scoped>\n",
       "    .dataframe tbody tr th:only-of-type {\n",
       "        vertical-align: middle;\n",
       "    }\n",
       "\n",
       "    .dataframe tbody tr th {\n",
       "        vertical-align: top;\n",
       "    }\n",
       "\n",
       "    .dataframe thead th {\n",
       "        text-align: right;\n",
       "    }\n",
       "</style>\n",
       "<table border=\"1\" class=\"dataframe\">\n",
       "  <thead>\n",
       "    <tr style=\"text-align: right;\">\n",
       "      <th></th>\n",
       "      <th>state</th>\n",
       "      <th>part_act_2021</th>\n",
       "      <th>comp_act_2021</th>\n",
       "    </tr>\n",
       "  </thead>\n",
       "  <tbody>\n",
       "    <tr>\n",
       "      <th>0</th>\n",
       "      <td>Alabama</td>\n",
       "      <td>1.00</td>\n",
       "      <td>18.7</td>\n",
       "    </tr>\n",
       "    <tr>\n",
       "      <th>1</th>\n",
       "      <td>Alaska</td>\n",
       "      <td>0.16</td>\n",
       "      <td>20.6</td>\n",
       "    </tr>\n",
       "    <tr>\n",
       "      <th>2</th>\n",
       "      <td>Arizona</td>\n",
       "      <td>0.35</td>\n",
       "      <td>19.8</td>\n",
       "    </tr>\n",
       "    <tr>\n",
       "      <th>3</th>\n",
       "      <td>Arkansas</td>\n",
       "      <td>0.99</td>\n",
       "      <td>19.0</td>\n",
       "    </tr>\n",
       "    <tr>\n",
       "      <th>4</th>\n",
       "      <td>California</td>\n",
       "      <td>0.05</td>\n",
       "      <td>26.1</td>\n",
       "    </tr>\n",
       "  </tbody>\n",
       "</table>\n",
       "</div>"
      ],
      "text/plain": [
       "        state  part_act_2021  comp_act_2021\n",
       "0     Alabama           1.00           18.7\n",
       "1      Alaska           0.16           20.6\n",
       "2     Arizona           0.35           19.8\n",
       "3    Arkansas           0.99           19.0\n",
       "4  California           0.05           26.1"
      ]
     },
     "execution_count": 257,
     "metadata": {},
     "output_type": "execute_result"
    }
   ],
   "source": [
    "act_2021_corona.head()"
   ]
  },
  {
   "cell_type": "code",
   "execution_count": 258,
   "id": "4b4f8d83-1d24-4b80-a0fd-ca7414e6b53a",
   "metadata": {},
   "outputs": [
    {
     "data": {
      "text/html": [
       "<div>\n",
       "<style scoped>\n",
       "    .dataframe tbody tr th:only-of-type {\n",
       "        vertical-align: middle;\n",
       "    }\n",
       "\n",
       "    .dataframe tbody tr th {\n",
       "        vertical-align: top;\n",
       "    }\n",
       "\n",
       "    .dataframe thead th {\n",
       "        text-align: right;\n",
       "    }\n",
       "</style>\n",
       "<table border=\"1\" class=\"dataframe\">\n",
       "  <thead>\n",
       "    <tr style=\"text-align: right;\">\n",
       "      <th></th>\n",
       "      <th>state</th>\n",
       "      <th>part_sat_2021</th>\n",
       "      <th>total_sat_2021</th>\n",
       "    </tr>\n",
       "  </thead>\n",
       "  <tbody>\n",
       "    <tr>\n",
       "      <th>0</th>\n",
       "      <td>Alabama</td>\n",
       "      <td>0.03</td>\n",
       "      <td>1159</td>\n",
       "    </tr>\n",
       "    <tr>\n",
       "      <th>1</th>\n",
       "      <td>Alaska</td>\n",
       "      <td>0.23</td>\n",
       "      <td>1119</td>\n",
       "    </tr>\n",
       "    <tr>\n",
       "      <th>2</th>\n",
       "      <td>Arizona</td>\n",
       "      <td>0.11</td>\n",
       "      <td>1181</td>\n",
       "    </tr>\n",
       "    <tr>\n",
       "      <th>3</th>\n",
       "      <td>Arkansas</td>\n",
       "      <td>0.02</td>\n",
       "      <td>1194</td>\n",
       "    </tr>\n",
       "    <tr>\n",
       "      <th>4</th>\n",
       "      <td>California</td>\n",
       "      <td>0.24</td>\n",
       "      <td>1057</td>\n",
       "    </tr>\n",
       "  </tbody>\n",
       "</table>\n",
       "</div>"
      ],
      "text/plain": [
       "        state  part_sat_2021  total_sat_2021\n",
       "0     Alabama           0.03            1159\n",
       "1      Alaska           0.23            1119\n",
       "2     Arizona           0.11            1181\n",
       "3    Arkansas           0.02            1194\n",
       "4  California           0.24            1057"
      ]
     },
     "execution_count": 258,
     "metadata": {},
     "output_type": "execute_result"
    }
   ],
   "source": [
    "# Renaming column names of SAT 2021\n",
    "sat_2021_corona = sat_2021.rename(columns={'participation':'part_sat_2021','total':'total_sat_2021'})\n",
    "sat_2021_corona.drop(columns='year', inplace= True)\n",
    "sat_2021_corona.head()"
   ]
  },
  {
   "cell_type": "code",
   "execution_count": 259,
   "id": "3d3227f1-2980-4b37-8d8d-6b2fcf4308e1",
   "metadata": {},
   "outputs": [],
   "source": [
    "# Merging 2021 ACT and 2021 SAT\n",
    "act_sat_2021 = pd.merge(left = act_2021_corona,\n",
    "                        right = sat_2021_corona,\n",
    "                        on = 'state')"
   ]
  },
  {
   "cell_type": "code",
   "execution_count": 260,
   "id": "82c9d34d-cd44-4951-8752-9d85eee5ea18",
   "metadata": {},
   "outputs": [
    {
     "name": "stdout",
     "output_type": "stream",
     "text": [
      "(51, 5)\n"
     ]
    },
    {
     "data": {
      "text/html": [
       "<div>\n",
       "<style scoped>\n",
       "    .dataframe tbody tr th:only-of-type {\n",
       "        vertical-align: middle;\n",
       "    }\n",
       "\n",
       "    .dataframe tbody tr th {\n",
       "        vertical-align: top;\n",
       "    }\n",
       "\n",
       "    .dataframe thead th {\n",
       "        text-align: right;\n",
       "    }\n",
       "</style>\n",
       "<table border=\"1\" class=\"dataframe\">\n",
       "  <thead>\n",
       "    <tr style=\"text-align: right;\">\n",
       "      <th></th>\n",
       "      <th>state</th>\n",
       "      <th>part_act_2021</th>\n",
       "      <th>comp_act_2021</th>\n",
       "      <th>part_sat_2021</th>\n",
       "      <th>total_sat_2021</th>\n",
       "    </tr>\n",
       "  </thead>\n",
       "  <tbody>\n",
       "    <tr>\n",
       "      <th>0</th>\n",
       "      <td>Alabama</td>\n",
       "      <td>1.00</td>\n",
       "      <td>18.7</td>\n",
       "      <td>0.03</td>\n",
       "      <td>1159</td>\n",
       "    </tr>\n",
       "    <tr>\n",
       "      <th>1</th>\n",
       "      <td>Alaska</td>\n",
       "      <td>0.16</td>\n",
       "      <td>20.6</td>\n",
       "      <td>0.23</td>\n",
       "      <td>1119</td>\n",
       "    </tr>\n",
       "    <tr>\n",
       "      <th>2</th>\n",
       "      <td>Arizona</td>\n",
       "      <td>0.35</td>\n",
       "      <td>19.8</td>\n",
       "      <td>0.11</td>\n",
       "      <td>1181</td>\n",
       "    </tr>\n",
       "    <tr>\n",
       "      <th>3</th>\n",
       "      <td>Arkansas</td>\n",
       "      <td>0.99</td>\n",
       "      <td>19.0</td>\n",
       "      <td>0.02</td>\n",
       "      <td>1194</td>\n",
       "    </tr>\n",
       "    <tr>\n",
       "      <th>4</th>\n",
       "      <td>California</td>\n",
       "      <td>0.05</td>\n",
       "      <td>26.1</td>\n",
       "      <td>0.24</td>\n",
       "      <td>1057</td>\n",
       "    </tr>\n",
       "  </tbody>\n",
       "</table>\n",
       "</div>"
      ],
      "text/plain": [
       "        state  part_act_2021  comp_act_2021  part_sat_2021  total_sat_2021\n",
       "0     Alabama           1.00           18.7           0.03            1159\n",
       "1      Alaska           0.16           20.6           0.23            1119\n",
       "2     Arizona           0.35           19.8           0.11            1181\n",
       "3    Arkansas           0.99           19.0           0.02            1194\n",
       "4  California           0.05           26.1           0.24            1057"
      ]
     },
     "execution_count": 260,
     "metadata": {},
     "output_type": "execute_result"
    }
   ],
   "source": [
    "print(act_sat_2021.shape)\n",
    "act_sat_2021.head()"
   ]
  },
  {
   "cell_type": "code",
   "execution_count": 261,
   "id": "d0be050d-4539-44db-92c5-d6039c105099",
   "metadata": {},
   "outputs": [
    {
     "data": {
      "text/html": [
       "<div>\n",
       "<style scoped>\n",
       "    .dataframe tbody tr th:only-of-type {\n",
       "        vertical-align: middle;\n",
       "    }\n",
       "\n",
       "    .dataframe tbody tr th {\n",
       "        vertical-align: top;\n",
       "    }\n",
       "\n",
       "    .dataframe thead th {\n",
       "        text-align: right;\n",
       "    }\n",
       "</style>\n",
       "<table border=\"1\" class=\"dataframe\">\n",
       "  <thead>\n",
       "    <tr style=\"text-align: right;\">\n",
       "      <th></th>\n",
       "      <th>part_act_2021</th>\n",
       "      <th>comp_act_2021</th>\n",
       "      <th>part_sat_2021</th>\n",
       "      <th>total_sat_2021</th>\n",
       "    </tr>\n",
       "  </thead>\n",
       "  <tbody>\n",
       "    <tr>\n",
       "      <th>part_act_2021</th>\n",
       "      <td>1.000000</td>\n",
       "      <td>-0.837654</td>\n",
       "      <td>-0.739319</td>\n",
       "      <td>0.673754</td>\n",
       "    </tr>\n",
       "    <tr>\n",
       "      <th>comp_act_2021</th>\n",
       "      <td>-0.837654</td>\n",
       "      <td>1.000000</td>\n",
       "      <td>0.661768</td>\n",
       "      <td>-0.451249</td>\n",
       "    </tr>\n",
       "    <tr>\n",
       "      <th>part_sat_2021</th>\n",
       "      <td>-0.739319</td>\n",
       "      <td>0.661768</td>\n",
       "      <td>1.000000</td>\n",
       "      <td>-0.840583</td>\n",
       "    </tr>\n",
       "    <tr>\n",
       "      <th>total_sat_2021</th>\n",
       "      <td>0.673754</td>\n",
       "      <td>-0.451249</td>\n",
       "      <td>-0.840583</td>\n",
       "      <td>1.000000</td>\n",
       "    </tr>\n",
       "  </tbody>\n",
       "</table>\n",
       "</div>"
      ],
      "text/plain": [
       "                part_act_2021  comp_act_2021  part_sat_2021  total_sat_2021\n",
       "part_act_2021        1.000000      -0.837654      -0.739319        0.673754\n",
       "comp_act_2021       -0.837654       1.000000       0.661768       -0.451249\n",
       "part_sat_2021       -0.739319       0.661768       1.000000       -0.840583\n",
       "total_sat_2021       0.673754      -0.451249      -0.840583        1.000000"
      ]
     },
     "execution_count": 261,
     "metadata": {},
     "output_type": "execute_result"
    }
   ],
   "source": [
    "act_sat_2021.corr()"
   ]
  },
  {
   "cell_type": "markdown",
   "id": "b3f4e2f8-b124-45bb-ae2e-7adb78a9f325",
   "metadata": {},
   "source": [
    "- The ACT participation 2021 has an inverse relation with the SAT participation 2021 of 0.83."
   ]
  },
  {
   "cell_type": "code",
   "execution_count": 262,
   "id": "12110605-6da8-4c73-aa4a-7d2d3cc46dca",
   "metadata": {},
   "outputs": [
    {
     "data": {
      "text/plain": [
       "<seaborn.axisgrid.PairGrid at 0x2112dc65580>"
      ]
     },
     "execution_count": 262,
     "metadata": {},
     "output_type": "execute_result"
    },
    {
     "data": {
      "image/png": "[encoded data removed]",
      "text/plain": [
       "<Figure size 720x720 with 20 Axes>"
      ]
     },
     "metadata": {},
     "output_type": "display_data"
    }
   ],
   "source": [
    "# Checking the relationship between for ACT (participation and composite) and SAT (participation and total)\n",
    "sns.pairplot(act_sat_2021)"
   ]
  },
  {
   "cell_type": "markdown",
   "id": "e925fbaf-619e-4c8e-a2dd-a2a9b9adb389",
   "metadata": {},
   "source": [
    "- For both the ACT and SAT the higher the participation level the lower the composite/total score"
   ]
  },
  {
   "cell_type": "markdown",
   "id": "9c9f0b8f-7977-454f-9a1b-748937c57327",
   "metadata": {},
   "source": [
    "### Cross checking using 2020 COVID data wtih 2020 ACT and 2020 SAT"
   ]
  },
  {
   "cell_type": "code",
   "execution_count": 135,
   "id": "0e0219c3-d91e-4ae2-ac35-ad429b31ac30",
   "metadata": {},
   "outputs": [],
   "source": [
    "# Merging COVID 2020 with 2020 ACT + 2020 SAT\n",
    "covid_act_sat_2020 = pd.merge(left = covid_2020_state,\n",
    "                        right = act_sat_2020,\n",
    "                        on = 'state')"
   ]
  },
  {
   "cell_type": "code",
   "execution_count": 136,
   "id": "4275a5e0-8545-4eb0-b40f-805681559b27",
   "metadata": {},
   "outputs": [
    {
     "name": "stdout",
     "output_type": "stream",
     "text": [
      "(51, 6)\n"
     ]
    },
    {
     "data": {
      "text/html": [
       "<div>\n",
       "<style scoped>\n",
       "    .dataframe tbody tr th:only-of-type {\n",
       "        vertical-align: middle;\n",
       "    }\n",
       "\n",
       "    .dataframe tbody tr th {\n",
       "        vertical-align: top;\n",
       "    }\n",
       "\n",
       "    .dataframe thead th {\n",
       "        text-align: right;\n",
       "    }\n",
       "</style>\n",
       "<table border=\"1\" class=\"dataframe\">\n",
       "  <thead>\n",
       "    <tr style=\"text-align: right;\">\n",
       "      <th></th>\n",
       "      <th>state</th>\n",
       "      <th>cases</th>\n",
       "      <th>part_act_2020</th>\n",
       "      <th>comp_act_2020</th>\n",
       "      <th>part_sat_2020</th>\n",
       "      <th>total_sat_2020</th>\n",
       "    </tr>\n",
       "  </thead>\n",
       "  <tbody>\n",
       "    <tr>\n",
       "      <th>0</th>\n",
       "      <td>Alabama</td>\n",
       "      <td>22712725</td>\n",
       "      <td>1.00</td>\n",
       "      <td>18.8</td>\n",
       "      <td>0.07</td>\n",
       "      <td>1127</td>\n",
       "    </tr>\n",
       "    <tr>\n",
       "      <th>1</th>\n",
       "      <td>Alaska</td>\n",
       "      <td>2373494</td>\n",
       "      <td>0.33</td>\n",
       "      <td>20.1</td>\n",
       "      <td>0.37</td>\n",
       "      <td>1098</td>\n",
       "    </tr>\n",
       "    <tr>\n",
       "      <th>2</th>\n",
       "      <td>Arizona</td>\n",
       "      <td>45513789</td>\n",
       "      <td>0.71</td>\n",
       "      <td>19.1</td>\n",
       "      <td>0.29</td>\n",
       "      <td>1139</td>\n",
       "    </tr>\n",
       "    <tr>\n",
       "      <th>3</th>\n",
       "      <td>Arkansas</td>\n",
       "      <td>11735820</td>\n",
       "      <td>1.00</td>\n",
       "      <td>19.0</td>\n",
       "      <td>0.04</td>\n",
       "      <td>1157</td>\n",
       "    </tr>\n",
       "    <tr>\n",
       "      <th>4</th>\n",
       "      <td>California</td>\n",
       "      <td>160906426</td>\n",
       "      <td>0.19</td>\n",
       "      <td>23.3</td>\n",
       "      <td>0.67</td>\n",
       "      <td>1049</td>\n",
       "    </tr>\n",
       "  </tbody>\n",
       "</table>\n",
       "</div>"
      ],
      "text/plain": [
       "        state      cases  part_act_2020  comp_act_2020  part_sat_2020  \\\n",
       "0     Alabama   22712725           1.00           18.8           0.07   \n",
       "1      Alaska    2373494           0.33           20.1           0.37   \n",
       "2     Arizona   45513789           0.71           19.1           0.29   \n",
       "3    Arkansas   11735820           1.00           19.0           0.04   \n",
       "4  California  160906426           0.19           23.3           0.67   \n",
       "\n",
       "   total_sat_2020  \n",
       "0            1127  \n",
       "1            1098  \n",
       "2            1139  \n",
       "3            1157  \n",
       "4            1049  "
      ]
     },
     "execution_count": 136,
     "metadata": {},
     "output_type": "execute_result"
    }
   ],
   "source": [
    "print(covid_act_sat_2020.shape)\n",
    "covid_act_sat_2020.head()"
   ]
  },
  {
   "cell_type": "code",
   "execution_count": 137,
   "id": "368608c9-d892-480d-9257-9929418aab1c",
   "metadata": {},
   "outputs": [
    {
     "data": {
      "text/html": [
       "<div>\n",
       "<style scoped>\n",
       "    .dataframe tbody tr th:only-of-type {\n",
       "        vertical-align: middle;\n",
       "    }\n",
       "\n",
       "    .dataframe tbody tr th {\n",
       "        vertical-align: top;\n",
       "    }\n",
       "\n",
       "    .dataframe thead th {\n",
       "        text-align: right;\n",
       "    }\n",
       "</style>\n",
       "<table border=\"1\" class=\"dataframe\">\n",
       "  <thead>\n",
       "    <tr style=\"text-align: right;\">\n",
       "      <th></th>\n",
       "      <th>cases</th>\n",
       "      <th>part_act_2020</th>\n",
       "      <th>comp_act_2020</th>\n",
       "      <th>part_sat_2020</th>\n",
       "      <th>total_sat_2020</th>\n",
       "    </tr>\n",
       "  </thead>\n",
       "  <tbody>\n",
       "    <tr>\n",
       "      <th>cases</th>\n",
       "      <td>1.000000</td>\n",
       "      <td>-0.220629</td>\n",
       "      <td>0.151201</td>\n",
       "      <td>0.251053</td>\n",
       "      <td>-0.232433</td>\n",
       "    </tr>\n",
       "    <tr>\n",
       "      <th>part_act_2020</th>\n",
       "      <td>-0.220629</td>\n",
       "      <td>1.000000</td>\n",
       "      <td>-0.872261</td>\n",
       "      <td>-0.873731</td>\n",
       "      <td>0.681349</td>\n",
       "    </tr>\n",
       "    <tr>\n",
       "      <th>comp_act_2020</th>\n",
       "      <td>0.151201</td>\n",
       "      <td>-0.872261</td>\n",
       "      <td>1.000000</td>\n",
       "      <td>0.748477</td>\n",
       "      <td>-0.455702</td>\n",
       "    </tr>\n",
       "    <tr>\n",
       "      <th>part_sat_2020</th>\n",
       "      <td>0.251053</td>\n",
       "      <td>-0.873731</td>\n",
       "      <td>0.748477</td>\n",
       "      <td>1.000000</td>\n",
       "      <td>-0.865907</td>\n",
       "    </tr>\n",
       "    <tr>\n",
       "      <th>total_sat_2020</th>\n",
       "      <td>-0.232433</td>\n",
       "      <td>0.681349</td>\n",
       "      <td>-0.455702</td>\n",
       "      <td>-0.865907</td>\n",
       "      <td>1.000000</td>\n",
       "    </tr>\n",
       "  </tbody>\n",
       "</table>\n",
       "</div>"
      ],
      "text/plain": [
       "                   cases  part_act_2020  comp_act_2020  part_sat_2020  \\\n",
       "cases           1.000000      -0.220629       0.151201       0.251053   \n",
       "part_act_2020  -0.220629       1.000000      -0.872261      -0.873731   \n",
       "comp_act_2020   0.151201      -0.872261       1.000000       0.748477   \n",
       "part_sat_2020   0.251053      -0.873731       0.748477       1.000000   \n",
       "total_sat_2020 -0.232433       0.681349      -0.455702      -0.865907   \n",
       "\n",
       "                total_sat_2020  \n",
       "cases                -0.232433  \n",
       "part_act_2020         0.681349  \n",
       "comp_act_2020        -0.455702  \n",
       "part_sat_2020        -0.865907  \n",
       "total_sat_2020        1.000000  "
      ]
     },
     "execution_count": 137,
     "metadata": {},
     "output_type": "execute_result"
    }
   ],
   "source": [
    "covid_act_sat_2020.corr()"
   ]
  },
  {
   "cell_type": "code",
   "execution_count": 138,
   "id": "f862f89b-823f-4e1a-8d45-ae8eeab4770d",
   "metadata": {},
   "outputs": [
    {
     "data": {
      "text/plain": [
       "<AxesSubplot:>"
      ]
     },
     "execution_count": 138,
     "metadata": {},
     "output_type": "execute_result"
    },
    {
     "data": {
      "image/png": "[encoded data removed]",
      "text/plain": [
       "<Figure size 432x288 with 2 Axes>"
      ]
     },
     "metadata": {
      "needs_background": "light"
     },
     "output_type": "display_data"
    }
   ],
   "source": [
    "sns.heatmap(data=covid_act_sat_2020.corr(),annot=True)"
   ]
  },
  {
   "cell_type": "markdown",
   "id": "0854eb2c-0228-4ca4-b81b-62cc6dadd81c",
   "metadata": {},
   "source": [
    "- There is a very weak correlation between COVID cases and the relation between ACT and SAT for the year 2020."
   ]
  },
  {
   "cell_type": "markdown",
   "id": "883cf277-633f-40ca-94fb-9f4d65168b86",
   "metadata": {},
   "source": [
    "### Cross checking using 2021 COVID data wtih 2021 ACT and 2021 SAT"
   ]
  },
  {
   "cell_type": "code",
   "execution_count": 226,
   "id": "291d8c90-6f85-4c82-97e5-b1bee9e44f63",
   "metadata": {},
   "outputs": [],
   "source": [
    "# Merging COVID 2021 with 2021 ACT + 2021 SAT\n",
    "covid_act_sat_2021 = pd.merge(left = covid_2021_state,\n",
    "                        right = act_sat_2021,\n",
    "                        on = 'state')"
   ]
  },
  {
   "cell_type": "code",
   "execution_count": 227,
   "id": "009d4176-2a80-4365-97bc-7b7c8199a049",
   "metadata": {},
   "outputs": [
    {
     "name": "stdout",
     "output_type": "stream",
     "text": [
      "(51, 6)\n"
     ]
    },
    {
     "data": {
      "text/html": [
       "<div>\n",
       "<style scoped>\n",
       "    .dataframe tbody tr th:only-of-type {\n",
       "        vertical-align: middle;\n",
       "    }\n",
       "\n",
       "    .dataframe tbody tr th {\n",
       "        vertical-align: top;\n",
       "    }\n",
       "\n",
       "    .dataframe thead th {\n",
       "        text-align: right;\n",
       "    }\n",
       "</style>\n",
       "<table border=\"1\" class=\"dataframe\">\n",
       "  <thead>\n",
       "    <tr style=\"text-align: right;\">\n",
       "      <th></th>\n",
       "      <th>state</th>\n",
       "      <th>cases</th>\n",
       "      <th>part_act_2021</th>\n",
       "      <th>comp_act_2021</th>\n",
       "      <th>part_sat_2021</th>\n",
       "      <th>total_sat_2021</th>\n",
       "    </tr>\n",
       "  </thead>\n",
       "  <tbody>\n",
       "    <tr>\n",
       "      <th>0</th>\n",
       "      <td>Alabama</td>\n",
       "      <td>170160233</td>\n",
       "      <td>1.00</td>\n",
       "      <td>18.7</td>\n",
       "      <td>0.03</td>\n",
       "      <td>1159</td>\n",
       "    </tr>\n",
       "    <tr>\n",
       "      <th>1</th>\n",
       "      <td>Alaska</td>\n",
       "      <td>18025636</td>\n",
       "      <td>0.16</td>\n",
       "      <td>20.6</td>\n",
       "      <td>0.23</td>\n",
       "      <td>1119</td>\n",
       "    </tr>\n",
       "    <tr>\n",
       "      <th>2</th>\n",
       "      <td>Arizona</td>\n",
       "      <td>341506251</td>\n",
       "      <td>0.35</td>\n",
       "      <td>19.8</td>\n",
       "      <td>0.11</td>\n",
       "      <td>1181</td>\n",
       "    </tr>\n",
       "    <tr>\n",
       "      <th>3</th>\n",
       "      <td>Arkansas</td>\n",
       "      <td>98857955</td>\n",
       "      <td>0.99</td>\n",
       "      <td>19.0</td>\n",
       "      <td>0.02</td>\n",
       "      <td>1194</td>\n",
       "    </tr>\n",
       "    <tr>\n",
       "      <th>4</th>\n",
       "      <td>California</td>\n",
       "      <td>1260416984</td>\n",
       "      <td>0.05</td>\n",
       "      <td>26.1</td>\n",
       "      <td>0.24</td>\n",
       "      <td>1057</td>\n",
       "    </tr>\n",
       "  </tbody>\n",
       "</table>\n",
       "</div>"
      ],
      "text/plain": [
       "        state       cases  part_act_2021  comp_act_2021  part_sat_2021  \\\n",
       "0     Alabama   170160233           1.00           18.7           0.03   \n",
       "1      Alaska    18025636           0.16           20.6           0.23   \n",
       "2     Arizona   341506251           0.35           19.8           0.11   \n",
       "3    Arkansas    98857955           0.99           19.0           0.02   \n",
       "4  California  1260416984           0.05           26.1           0.24   \n",
       "\n",
       "   total_sat_2021  \n",
       "0            1159  \n",
       "1            1119  \n",
       "2            1181  \n",
       "3            1194  \n",
       "4            1057  "
      ]
     },
     "execution_count": 227,
     "metadata": {},
     "output_type": "execute_result"
    }
   ],
   "source": [
    "print(covid_act_sat_2021.shape)\n",
    "covid_act_sat_2021.head()"
   ]
  },
  {
   "cell_type": "code",
   "execution_count": 228,
   "id": "2a1418f9-625b-459b-a1be-25c1d9836b23",
   "metadata": {},
   "outputs": [
    {
     "data": {
      "text/html": [
       "<div>\n",
       "<style scoped>\n",
       "    .dataframe tbody tr th:only-of-type {\n",
       "        vertical-align: middle;\n",
       "    }\n",
       "\n",
       "    .dataframe tbody tr th {\n",
       "        vertical-align: top;\n",
       "    }\n",
       "\n",
       "    .dataframe thead th {\n",
       "        text-align: right;\n",
       "    }\n",
       "</style>\n",
       "<table border=\"1\" class=\"dataframe\">\n",
       "  <thead>\n",
       "    <tr style=\"text-align: right;\">\n",
       "      <th></th>\n",
       "      <th>cases</th>\n",
       "      <th>part_act_2021</th>\n",
       "      <th>comp_act_2021</th>\n",
       "      <th>part_sat_2021</th>\n",
       "      <th>total_sat_2021</th>\n",
       "    </tr>\n",
       "  </thead>\n",
       "  <tbody>\n",
       "    <tr>\n",
       "      <th>cases</th>\n",
       "      <td>1.000000</td>\n",
       "      <td>-0.226273</td>\n",
       "      <td>0.208452</td>\n",
       "      <td>0.142356</td>\n",
       "      <td>-0.252645</td>\n",
       "    </tr>\n",
       "    <tr>\n",
       "      <th>part_act_2021</th>\n",
       "      <td>-0.226273</td>\n",
       "      <td>1.000000</td>\n",
       "      <td>-0.837654</td>\n",
       "      <td>-0.739319</td>\n",
       "      <td>0.673754</td>\n",
       "    </tr>\n",
       "    <tr>\n",
       "      <th>comp_act_2021</th>\n",
       "      <td>0.208452</td>\n",
       "      <td>-0.837654</td>\n",
       "      <td>1.000000</td>\n",
       "      <td>0.661768</td>\n",
       "      <td>-0.451249</td>\n",
       "    </tr>\n",
       "    <tr>\n",
       "      <th>part_sat_2021</th>\n",
       "      <td>0.142356</td>\n",
       "      <td>-0.739319</td>\n",
       "      <td>0.661768</td>\n",
       "      <td>1.000000</td>\n",
       "      <td>-0.840583</td>\n",
       "    </tr>\n",
       "    <tr>\n",
       "      <th>total_sat_2021</th>\n",
       "      <td>-0.252645</td>\n",
       "      <td>0.673754</td>\n",
       "      <td>-0.451249</td>\n",
       "      <td>-0.840583</td>\n",
       "      <td>1.000000</td>\n",
       "    </tr>\n",
       "  </tbody>\n",
       "</table>\n",
       "</div>"
      ],
      "text/plain": [
       "                   cases  part_act_2021  comp_act_2021  part_sat_2021  \\\n",
       "cases           1.000000      -0.226273       0.208452       0.142356   \n",
       "part_act_2021  -0.226273       1.000000      -0.837654      -0.739319   \n",
       "comp_act_2021   0.208452      -0.837654       1.000000       0.661768   \n",
       "part_sat_2021   0.142356      -0.739319       0.661768       1.000000   \n",
       "total_sat_2021 -0.252645       0.673754      -0.451249      -0.840583   \n",
       "\n",
       "                total_sat_2021  \n",
       "cases                -0.252645  \n",
       "part_act_2021         0.673754  \n",
       "comp_act_2021        -0.451249  \n",
       "part_sat_2021        -0.840583  \n",
       "total_sat_2021        1.000000  "
      ]
     },
     "execution_count": 228,
     "metadata": {},
     "output_type": "execute_result"
    }
   ],
   "source": [
    "covid_act_sat_2021.corr()"
   ]
  },
  {
   "cell_type": "code",
   "execution_count": 231,
   "id": "1ce9c486-3447-48db-b784-e764769848b7",
   "metadata": {},
   "outputs": [
    {
     "data": {
      "text/plain": [
       "<AxesSubplot:>"
      ]
     },
     "execution_count": 231,
     "metadata": {},
     "output_type": "execute_result"
    },
    {
     "data": {
      "image/png": "[encoded data removed]",
      "text/plain": [
       "<Figure size 432x288 with 2 Axes>"
      ]
     },
     "metadata": {
      "needs_background": "light"
     },
     "output_type": "display_data"
    }
   ],
   "source": [
    "sns.heatmap(data=covid_act_sat_2021.corr(),annot=True)"
   ]
  },
  {
   "cell_type": "markdown",
   "id": "4ef12a68-b699-46de-b12e-ee3f6fe7c676",
   "metadata": {},
   "source": [
    "- There is a very weak correlation between COVID cases and the relation between ACT and SAT for the year 2021."
   ]
  },
  {
   "cell_type": "markdown",
   "id": "fde51337-36f0-48fe-964e-43024deb51b2",
   "metadata": {},
   "source": [
    "## Per Student Spending Datasets"
   ]
  },
  {
   "cell_type": "code",
   "execution_count": 7,
   "id": "b19e68fa-425d-4a0c-a0e9-dec89fdee93b",
   "metadata": {},
   "outputs": [
    {
     "name": "stdout",
     "output_type": "stream",
     "text": [
      "(51, 2)\n"
     ]
    },
    {
     "data": {
      "text/html": [
       "<div>\n",
       "<style scoped>\n",
       "    .dataframe tbody tr th:only-of-type {\n",
       "        vertical-align: middle;\n",
       "    }\n",
       "\n",
       "    .dataframe tbody tr th {\n",
       "        vertical-align: top;\n",
       "    }\n",
       "\n",
       "    .dataframe thead th {\n",
       "        text-align: right;\n",
       "    }\n",
       "</style>\n",
       "<table border=\"1\" class=\"dataframe\">\n",
       "  <thead>\n",
       "    <tr style=\"text-align: right;\">\n",
       "      <th></th>\n",
       "      <th>state</th>\n",
       "      <th>per_student_spend</th>\n",
       "    </tr>\n",
       "  </thead>\n",
       "  <tbody>\n",
       "    <tr>\n",
       "      <th>0</th>\n",
       "      <td>Alabama</td>\n",
       "      <td>9511</td>\n",
       "    </tr>\n",
       "    <tr>\n",
       "      <th>1</th>\n",
       "      <td>Alaska</td>\n",
       "      <td>17838</td>\n",
       "    </tr>\n",
       "    <tr>\n",
       "      <th>2</th>\n",
       "      <td>Arizona</td>\n",
       "      <td>8004</td>\n",
       "    </tr>\n",
       "    <tr>\n",
       "      <th>3</th>\n",
       "      <td>Arkansas</td>\n",
       "      <td>9967</td>\n",
       "    </tr>\n",
       "    <tr>\n",
       "      <th>4</th>\n",
       "      <td>California</td>\n",
       "      <td>12145</td>\n",
       "    </tr>\n",
       "  </tbody>\n",
       "</table>\n",
       "</div>"
      ],
      "text/plain": [
       "        state  per_student_spend\n",
       "0     Alabama               9511\n",
       "1      Alaska              17838\n",
       "2     Arizona               8004\n",
       "3    Arkansas               9967\n",
       "4  California              12145"
      ]
     },
     "execution_count": 7,
     "metadata": {},
     "output_type": "execute_result"
    }
   ],
   "source": [
    "# Importing the 2017 dataset\n",
    "spend_2017 = pd.read_csv(\"../data/per_student_spend_2017.csv\")\n",
    "print(spend_2017.shape)\n",
    "spend_2017.head()"
   ]
  },
  {
   "cell_type": "code",
   "execution_count": 8,
   "id": "bc409cb1-1033-411d-9fb2-58e024413ec6",
   "metadata": {},
   "outputs": [
    {
     "name": "stdout",
     "output_type": "stream",
     "text": [
      "<class 'pandas.core.frame.DataFrame'>\n",
      "RangeIndex: 51 entries, 0 to 50\n",
      "Data columns (total 2 columns):\n",
      " #   Column             Non-Null Count  Dtype \n",
      "---  ------             --------------  ----- \n",
      " 0   state              51 non-null     object\n",
      " 1   per_student_spend  51 non-null     int64 \n",
      "dtypes: int64(1), object(1)\n",
      "memory usage: 944.0+ bytes\n"
     ]
    }
   ],
   "source": [
    "# To check the column info and dtype\n",
    "spend_2017.info()"
   ]
  },
  {
   "cell_type": "code",
   "execution_count": 9,
   "id": "bd9c0c48-1553-47cc-8426-d6b544452b8d",
   "metadata": {},
   "outputs": [
    {
     "data": {
      "text/plain": [
       "state                0\n",
       "per_student_spend    0\n",
       "dtype: int64"
      ]
     },
     "execution_count": 9,
     "metadata": {},
     "output_type": "execute_result"
    }
   ],
   "source": [
    "# To check if there are any NaN in the dataset\n",
    "spend_2017.isna().sum()"
   ]
  },
  {
   "cell_type": "code",
   "execution_count": 144,
   "id": "24b94c51-5ffa-4375-b4c2-69652e187592",
   "metadata": {},
   "outputs": [
    {
     "name": "stdout",
     "output_type": "stream",
     "text": [
      "(51, 2)\n"
     ]
    },
    {
     "data": {
      "text/html": [
       "<div>\n",
       "<style scoped>\n",
       "    .dataframe tbody tr th:only-of-type {\n",
       "        vertical-align: middle;\n",
       "    }\n",
       "\n",
       "    .dataframe tbody tr th {\n",
       "        vertical-align: top;\n",
       "    }\n",
       "\n",
       "    .dataframe thead th {\n",
       "        text-align: right;\n",
       "    }\n",
       "</style>\n",
       "<table border=\"1\" class=\"dataframe\">\n",
       "  <thead>\n",
       "    <tr style=\"text-align: right;\">\n",
       "      <th></th>\n",
       "      <th>state</th>\n",
       "      <th>per_student_spend</th>\n",
       "    </tr>\n",
       "  </thead>\n",
       "  <tbody>\n",
       "    <tr>\n",
       "      <th>0</th>\n",
       "      <td>Alabama</td>\n",
       "      <td>9696</td>\n",
       "    </tr>\n",
       "    <tr>\n",
       "      <th>1</th>\n",
       "      <td>Alaska</td>\n",
       "      <td>17726</td>\n",
       "    </tr>\n",
       "    <tr>\n",
       "      <th>2</th>\n",
       "      <td>Arizona</td>\n",
       "      <td>8255</td>\n",
       "    </tr>\n",
       "    <tr>\n",
       "      <th>3</th>\n",
       "      <td>Arkansas</td>\n",
       "      <td>10139</td>\n",
       "    </tr>\n",
       "    <tr>\n",
       "      <th>4</th>\n",
       "      <td>California</td>\n",
       "      <td>12143</td>\n",
       "    </tr>\n",
       "  </tbody>\n",
       "</table>\n",
       "</div>"
      ],
      "text/plain": [
       "        state  per_student_spend\n",
       "0     Alabama               9696\n",
       "1      Alaska              17726\n",
       "2     Arizona               8255\n",
       "3    Arkansas              10139\n",
       "4  California              12143"
      ]
     },
     "execution_count": 144,
     "metadata": {},
     "output_type": "execute_result"
    }
   ],
   "source": [
    "# Importing the 2018 dataset\n",
    "spend_2018 = pd.read_csv(\"../data/per_student_spend_2018.csv\")\n",
    "print(spend_2018.shape)\n",
    "spend_2018.head()"
   ]
  },
  {
   "cell_type": "code",
   "execution_count": 145,
   "id": "953f9579-4d5f-4d37-8e23-acdee514fb3b",
   "metadata": {},
   "outputs": [
    {
     "name": "stdout",
     "output_type": "stream",
     "text": [
      "<class 'pandas.core.frame.DataFrame'>\n",
      "RangeIndex: 51 entries, 0 to 50\n",
      "Data columns (total 2 columns):\n",
      " #   Column             Non-Null Count  Dtype \n",
      "---  ------             --------------  ----- \n",
      " 0   state              51 non-null     object\n",
      " 1   per_student_spend  51 non-null     int64 \n",
      "dtypes: int64(1), object(1)\n",
      "memory usage: 944.0+ bytes\n"
     ]
    }
   ],
   "source": [
    "# To check the column info and dtype\n",
    "spend_2018.info()"
   ]
  },
  {
   "cell_type": "code",
   "execution_count": null,
   "id": "ec214a7d-9f7f-4e57-9c7a-e5e09301fdae",
   "metadata": {},
   "outputs": [],
   "source": [
    "# To check if there are any NaN in the dataset\n",
    "spend_2018.isna().sum()"
   ]
  },
  {
   "cell_type": "code",
   "execution_count": 148,
   "id": "cecb146d-3625-4f15-8f2c-deb11b8ef2a4",
   "metadata": {},
   "outputs": [
    {
     "name": "stdout",
     "output_type": "stream",
     "text": [
      "(51, 2)\n"
     ]
    },
    {
     "data": {
      "text/html": [
       "<div>\n",
       "<style scoped>\n",
       "    .dataframe tbody tr th:only-of-type {\n",
       "        vertical-align: middle;\n",
       "    }\n",
       "\n",
       "    .dataframe tbody tr th {\n",
       "        vertical-align: top;\n",
       "    }\n",
       "\n",
       "    .dataframe thead th {\n",
       "        text-align: right;\n",
       "    }\n",
       "</style>\n",
       "<table border=\"1\" class=\"dataframe\">\n",
       "  <thead>\n",
       "    <tr style=\"text-align: right;\">\n",
       "      <th></th>\n",
       "      <th>state</th>\n",
       "      <th>per_student_spend</th>\n",
       "    </tr>\n",
       "  </thead>\n",
       "  <tbody>\n",
       "    <tr>\n",
       "      <th>0</th>\n",
       "      <td>Alabama</td>\n",
       "      <td>10077</td>\n",
       "    </tr>\n",
       "    <tr>\n",
       "      <th>1</th>\n",
       "      <td>Alaska</td>\n",
       "      <td>18394</td>\n",
       "    </tr>\n",
       "    <tr>\n",
       "      <th>2</th>\n",
       "      <td>Arizona</td>\n",
       "      <td>8625</td>\n",
       "    </tr>\n",
       "    <tr>\n",
       "      <th>3</th>\n",
       "      <td>Arkansas</td>\n",
       "      <td>10388</td>\n",
       "    </tr>\n",
       "    <tr>\n",
       "      <th>4</th>\n",
       "      <td>California</td>\n",
       "      <td>14034</td>\n",
       "    </tr>\n",
       "  </tbody>\n",
       "</table>\n",
       "</div>"
      ],
      "text/plain": [
       "        state  per_student_spend\n",
       "0     Alabama              10077\n",
       "1      Alaska              18394\n",
       "2     Arizona               8625\n",
       "3    Arkansas              10388\n",
       "4  California              14034"
      ]
     },
     "execution_count": 148,
     "metadata": {},
     "output_type": "execute_result"
    }
   ],
   "source": [
    "# Importing the 2019 dataset\n",
    "spend_2019 = pd.read_csv(\"../data/per_student_spend_2019.csv\")\n",
    "print(spend_2019.shape)\n",
    "spend_2019.head()"
   ]
  },
  {
   "cell_type": "code",
   "execution_count": 149,
   "id": "c5c95b1c-2518-4fcc-9b29-18a3c602da87",
   "metadata": {},
   "outputs": [
    {
     "name": "stdout",
     "output_type": "stream",
     "text": [
      "<class 'pandas.core.frame.DataFrame'>\n",
      "RangeIndex: 51 entries, 0 to 50\n",
      "Data columns (total 2 columns):\n",
      " #   Column             Non-Null Count  Dtype \n",
      "---  ------             --------------  ----- \n",
      " 0   state              51 non-null     object\n",
      " 1   per_student_spend  51 non-null     int64 \n",
      "dtypes: int64(1), object(1)\n",
      "memory usage: 944.0+ bytes\n"
     ]
    }
   ],
   "source": [
    "# To check the column info and dtype\n",
    "spend_2019.info()"
   ]
  },
  {
   "cell_type": "code",
   "execution_count": null,
   "id": "cdaef7c6-840b-4069-b006-30d7b670dd01",
   "metadata": {},
   "outputs": [],
   "source": [
    "# To check if there are any NaN in the dataset\n",
    "spend_2019.isna().sum()"
   ]
  },
  {
   "cell_type": "code",
   "execution_count": 152,
   "id": "5a7c25cd-b8e7-4af8-83b4-215fc0ecd22b",
   "metadata": {},
   "outputs": [
    {
     "name": "stdout",
     "output_type": "stream",
     "text": [
      "(51, 2)\n"
     ]
    },
    {
     "data": {
      "text/html": [
       "<div>\n",
       "<style scoped>\n",
       "    .dataframe tbody tr th:only-of-type {\n",
       "        vertical-align: middle;\n",
       "    }\n",
       "\n",
       "    .dataframe tbody tr th {\n",
       "        vertical-align: top;\n",
       "    }\n",
       "\n",
       "    .dataframe thead th {\n",
       "        text-align: right;\n",
       "    }\n",
       "</style>\n",
       "<table border=\"1\" class=\"dataframe\">\n",
       "  <thead>\n",
       "    <tr style=\"text-align: right;\">\n",
       "      <th></th>\n",
       "      <th>state</th>\n",
       "      <th>per_student_spend</th>\n",
       "    </tr>\n",
       "  </thead>\n",
       "  <tbody>\n",
       "    <tr>\n",
       "      <th>0</th>\n",
       "      <td>Alabama</td>\n",
       "      <td>10116</td>\n",
       "    </tr>\n",
       "    <tr>\n",
       "      <th>1</th>\n",
       "      <td>Alaska</td>\n",
       "      <td>18313</td>\n",
       "    </tr>\n",
       "    <tr>\n",
       "      <th>2</th>\n",
       "      <td>Arizona</td>\n",
       "      <td>8785</td>\n",
       "    </tr>\n",
       "    <tr>\n",
       "      <th>3</th>\n",
       "      <td>Arkansas</td>\n",
       "      <td>10345</td>\n",
       "    </tr>\n",
       "    <tr>\n",
       "      <th>4</th>\n",
       "      <td>California</td>\n",
       "      <td>14031</td>\n",
       "    </tr>\n",
       "  </tbody>\n",
       "</table>\n",
       "</div>"
      ],
      "text/plain": [
       "        state  per_student_spend\n",
       "0     Alabama              10116\n",
       "1      Alaska              18313\n",
       "2     Arizona               8785\n",
       "3    Arkansas              10345\n",
       "4  California              14031"
      ]
     },
     "execution_count": 152,
     "metadata": {},
     "output_type": "execute_result"
    }
   ],
   "source": [
    "# Importing the 2020 dataset\n",
    "spend_2020 = pd.read_csv(\"../data/per_student_spend_2020.csv\")\n",
    "print(spend_2020.shape)\n",
    "spend_2020.head()"
   ]
  },
  {
   "cell_type": "code",
   "execution_count": 153,
   "id": "2fb2cbac-de35-4d82-9ee7-538d5a2aa1dd",
   "metadata": {},
   "outputs": [
    {
     "name": "stdout",
     "output_type": "stream",
     "text": [
      "<class 'pandas.core.frame.DataFrame'>\n",
      "RangeIndex: 51 entries, 0 to 50\n",
      "Data columns (total 2 columns):\n",
      " #   Column             Non-Null Count  Dtype \n",
      "---  ------             --------------  ----- \n",
      " 0   state              51 non-null     object\n",
      " 1   per_student_spend  51 non-null     int64 \n",
      "dtypes: int64(1), object(1)\n",
      "memory usage: 944.0+ bytes\n"
     ]
    }
   ],
   "source": [
    "# To check the column info and dtype\n",
    "spend_2020.info()"
   ]
  },
  {
   "cell_type": "code",
   "execution_count": null,
   "id": "cc9c3a3c-f916-4558-8255-847193011ca0",
   "metadata": {},
   "outputs": [],
   "source": [
    "# To check if there are any NaN in the dataset\n",
    "spend_2020.isna().sum()"
   ]
  },
  {
   "cell_type": "markdown",
   "id": "b2ffea0b-dc55-46e9-aa3b-9cb270bc1eda",
   "metadata": {
    "tags": []
   },
   "source": [
    "## Exploratory data analysis - Per Student Spending vs Participation and Total/Composite score"
   ]
  },
  {
   "cell_type": "code",
   "execution_count": 142,
   "id": "f6bb9d38-29a9-41a6-bfb8-89554f48d03e",
   "metadata": {},
   "outputs": [],
   "source": [
    "# Merging the datasets with spending.\n",
    "spend_act_2017 = pd.merge(left = spend_2017, right = act_2017[['state','participation','composite']], on = 'state')\n",
    "spend_sat_2017 = pd.merge(left = spend_2017, right = sat_2017[['state','participation','total']], on = 'state')"
   ]
  },
  {
   "cell_type": "code",
   "execution_count": 143,
   "id": "fbbe8f60-dd66-463d-af29-2f9934b8c14a",
   "metadata": {},
   "outputs": [
    {
     "name": "stdout",
     "output_type": "stream",
     "text": [
      "                   per_student_spend  participation  composite\n",
      "per_student_spend           1.000000      -0.485524   0.622740\n",
      "participation              -0.485524       1.000000  -0.854834\n",
      "composite                   0.622740      -0.854834   1.000000\n"
     ]
    },
    {
     "data": {
      "text/html": [
       "<div>\n",
       "<style scoped>\n",
       "    .dataframe tbody tr th:only-of-type {\n",
       "        vertical-align: middle;\n",
       "    }\n",
       "\n",
       "    .dataframe tbody tr th {\n",
       "        vertical-align: top;\n",
       "    }\n",
       "\n",
       "    .dataframe thead th {\n",
       "        text-align: right;\n",
       "    }\n",
       "</style>\n",
       "<table border=\"1\" class=\"dataframe\">\n",
       "  <thead>\n",
       "    <tr style=\"text-align: right;\">\n",
       "      <th></th>\n",
       "      <th>per_student_spend</th>\n",
       "      <th>participation</th>\n",
       "      <th>total</th>\n",
       "    </tr>\n",
       "  </thead>\n",
       "  <tbody>\n",
       "    <tr>\n",
       "      <th>per_student_spend</th>\n",
       "      <td>1.000000</td>\n",
       "      <td>0.396866</td>\n",
       "      <td>-0.247261</td>\n",
       "    </tr>\n",
       "    <tr>\n",
       "      <th>participation</th>\n",
       "      <td>0.396866</td>\n",
       "      <td>1.000000</td>\n",
       "      <td>-0.858530</td>\n",
       "    </tr>\n",
       "    <tr>\n",
       "      <th>total</th>\n",
       "      <td>-0.247261</td>\n",
       "      <td>-0.858530</td>\n",
       "      <td>1.000000</td>\n",
       "    </tr>\n",
       "  </tbody>\n",
       "</table>\n",
       "</div>"
      ],
      "text/plain": [
       "                   per_student_spend  participation     total\n",
       "per_student_spend           1.000000       0.396866 -0.247261\n",
       "participation               0.396866       1.000000 -0.858530\n",
       "total                      -0.247261      -0.858530  1.000000"
      ]
     },
     "execution_count": 143,
     "metadata": {},
     "output_type": "execute_result"
    }
   ],
   "source": [
    "print(spend_act_2017.corr())\n",
    "spend_sat_2017.corr()"
   ]
  },
  {
   "cell_type": "markdown",
   "id": "5a923bf3-042d-4772-b434-03d9f2cb4a1b",
   "metadata": {},
   "source": [
    "- For 2017, there is a correlation between the spending and ACT composite score of 0.62.\n",
    "- For 2017, there is a negative correlation between the spending and ACT participation of 0.49.\n",
    "- There is a weak correlation for SAT particpation and spending of 0.4.\n",
    "- There is a weak correlation for SAT total score and spending of -0.25."
   ]
  },
  {
   "cell_type": "code",
   "execution_count": 146,
   "id": "65658185-df18-48c4-9d72-486d622f1883",
   "metadata": {},
   "outputs": [],
   "source": [
    "# Merging the datasets with spending.\n",
    "spend_act_2018 = pd.merge(left = spend_2018, right = act_2018[['state','participation','composite']], on = 'state')\n",
    "spend_sat_2018 = pd.merge(left = spend_2018, right = sat_2018[['state','participation','total']], on = 'state')"
   ]
  },
  {
   "cell_type": "code",
   "execution_count": 147,
   "id": "f3b21305-30fc-444f-a396-089a3fc4fe20",
   "metadata": {},
   "outputs": [
    {
     "name": "stdout",
     "output_type": "stream",
     "text": [
      "                   per_student_spend  participation  composite\n",
      "per_student_spend           1.000000      -0.517904   0.649085\n",
      "participation              -0.517904       1.000000  -0.861362\n",
      "composite                   0.649085      -0.861362   1.000000\n"
     ]
    },
    {
     "data": {
      "text/html": [
       "<div>\n",
       "<style scoped>\n",
       "    .dataframe tbody tr th:only-of-type {\n",
       "        vertical-align: middle;\n",
       "    }\n",
       "\n",
       "    .dataframe tbody tr th {\n",
       "        vertical-align: top;\n",
       "    }\n",
       "\n",
       "    .dataframe thead th {\n",
       "        text-align: right;\n",
       "    }\n",
       "</style>\n",
       "<table border=\"1\" class=\"dataframe\">\n",
       "  <thead>\n",
       "    <tr style=\"text-align: right;\">\n",
       "      <th></th>\n",
       "      <th>per_student_spend</th>\n",
       "      <th>participation</th>\n",
       "      <th>total</th>\n",
       "    </tr>\n",
       "  </thead>\n",
       "  <tbody>\n",
       "    <tr>\n",
       "      <th>per_student_spend</th>\n",
       "      <td>1.000000</td>\n",
       "      <td>0.457744</td>\n",
       "      <td>-0.148759</td>\n",
       "    </tr>\n",
       "    <tr>\n",
       "      <th>participation</th>\n",
       "      <td>0.457744</td>\n",
       "      <td>1.000000</td>\n",
       "      <td>-0.778045</td>\n",
       "    </tr>\n",
       "    <tr>\n",
       "      <th>total</th>\n",
       "      <td>-0.148759</td>\n",
       "      <td>-0.778045</td>\n",
       "      <td>1.000000</td>\n",
       "    </tr>\n",
       "  </tbody>\n",
       "</table>\n",
       "</div>"
      ],
      "text/plain": [
       "                   per_student_spend  participation     total\n",
       "per_student_spend           1.000000       0.457744 -0.148759\n",
       "participation               0.457744       1.000000 -0.778045\n",
       "total                      -0.148759      -0.778045  1.000000"
      ]
     },
     "execution_count": 147,
     "metadata": {},
     "output_type": "execute_result"
    }
   ],
   "source": [
    "print(spend_act_2018.corr())\n",
    "spend_sat_2018.corr()"
   ]
  },
  {
   "cell_type": "markdown",
   "id": "3a181970-547e-4b61-b981-bccb819974f9",
   "metadata": {},
   "source": [
    "- For 2018, there is a correlation between the spending and ACT composite score of 0.64.\n",
    "- For 2018, there is a negative correlation between the spending and ACT participation of 0.52.\n",
    "- The spending has some correlation with the SAT participation of 0.46.\n",
    "- There is a very weak correlation for SAT total score and spending of -0.15"
   ]
  },
  {
   "cell_type": "code",
   "execution_count": 150,
   "id": "58703120-9fd3-4a52-9316-c1cf0a2a434f",
   "metadata": {},
   "outputs": [],
   "source": [
    "# Merging the datasets with spending.\n",
    "spend_act_2019 = pd.merge(left = spend_2019, right = act_2019[['state','participation','composite']], on = 'state')\n",
    "spend_sat_2019 = pd.merge(left = spend_2019, right = sat_2019[['state','participation','total']], on = 'state')"
   ]
  },
  {
   "cell_type": "code",
   "execution_count": 151,
   "id": "40482391-0346-4a64-a755-082c6d985e0e",
   "metadata": {},
   "outputs": [
    {
     "name": "stdout",
     "output_type": "stream",
     "text": [
      "                   per_student_spend  participation  composite\n",
      "per_student_spend           1.000000      -0.540368   0.648532\n",
      "participation              -0.540368       1.000000  -0.865062\n",
      "composite                   0.648532      -0.865062   1.000000\n"
     ]
    },
    {
     "data": {
      "text/html": [
       "<div>\n",
       "<style scoped>\n",
       "    .dataframe tbody tr th:only-of-type {\n",
       "        vertical-align: middle;\n",
       "    }\n",
       "\n",
       "    .dataframe tbody tr th {\n",
       "        vertical-align: top;\n",
       "    }\n",
       "\n",
       "    .dataframe thead th {\n",
       "        text-align: right;\n",
       "    }\n",
       "</style>\n",
       "<table border=\"1\" class=\"dataframe\">\n",
       "  <thead>\n",
       "    <tr style=\"text-align: right;\">\n",
       "      <th></th>\n",
       "      <th>per_student_spend</th>\n",
       "      <th>participation</th>\n",
       "      <th>total</th>\n",
       "    </tr>\n",
       "  </thead>\n",
       "  <tbody>\n",
       "    <tr>\n",
       "      <th>per_student_spend</th>\n",
       "      <td>1.000000</td>\n",
       "      <td>0.412228</td>\n",
       "      <td>-0.189751</td>\n",
       "    </tr>\n",
       "    <tr>\n",
       "      <th>participation</th>\n",
       "      <td>0.412228</td>\n",
       "      <td>1.000000</td>\n",
       "      <td>-0.857615</td>\n",
       "    </tr>\n",
       "    <tr>\n",
       "      <th>total</th>\n",
       "      <td>-0.189751</td>\n",
       "      <td>-0.857615</td>\n",
       "      <td>1.000000</td>\n",
       "    </tr>\n",
       "  </tbody>\n",
       "</table>\n",
       "</div>"
      ],
      "text/plain": [
       "                   per_student_spend  participation     total\n",
       "per_student_spend           1.000000       0.412228 -0.189751\n",
       "participation               0.412228       1.000000 -0.857615\n",
       "total                      -0.189751      -0.857615  1.000000"
      ]
     },
     "execution_count": 151,
     "metadata": {},
     "output_type": "execute_result"
    }
   ],
   "source": [
    "print(spend_act_2019.corr())\n",
    "spend_sat_2019.corr()"
   ]
  },
  {
   "cell_type": "markdown",
   "id": "a31f6397-a369-445a-bdc4-fe85b7b32596",
   "metadata": {},
   "source": [
    "- For 2019, there is a correlation between the spending and ACT composite score of 0.65.\n",
    "- For 2019, there is a negative correlation between the spending and ACT participation of 0.54.\n",
    "- The spending has a weak correlation with the SAT participation of 0.41.\n",
    "- There is a very weak correlation for SAT total score and spending of -0.19."
   ]
  },
  {
   "cell_type": "code",
   "execution_count": 154,
   "id": "ad327922-8d8a-43b3-98f6-36fdbf9d3fe7",
   "metadata": {},
   "outputs": [],
   "source": [
    "# Merging the datasets with spending.\n",
    "spend_act_2020 = pd.merge(left = spend_2020, right = act_2020[['state','participation','composite']], on = 'state')\n",
    "spend_sat_2020 = pd.merge(left = spend_2020, right = sat_2020[['state','participation','total']], on = 'state')"
   ]
  },
  {
   "cell_type": "code",
   "execution_count": 155,
   "id": "f8a95533-6020-4b7b-a1a5-7107d0edc08e",
   "metadata": {},
   "outputs": [
    {
     "name": "stdout",
     "output_type": "stream",
     "text": [
      "                   per_student_spend  participation  composite\n",
      "per_student_spend           1.000000      -0.541101   0.644289\n",
      "participation              -0.541101       1.000000  -0.871089\n",
      "composite                   0.644289      -0.871089   1.000000\n"
     ]
    },
    {
     "data": {
      "text/html": [
       "<div>\n",
       "<style scoped>\n",
       "    .dataframe tbody tr th:only-of-type {\n",
       "        vertical-align: middle;\n",
       "    }\n",
       "\n",
       "    .dataframe tbody tr th {\n",
       "        vertical-align: top;\n",
       "    }\n",
       "\n",
       "    .dataframe thead th {\n",
       "        text-align: right;\n",
       "    }\n",
       "</style>\n",
       "<table border=\"1\" class=\"dataframe\">\n",
       "  <thead>\n",
       "    <tr style=\"text-align: right;\">\n",
       "      <th></th>\n",
       "      <th>per_student_spend</th>\n",
       "      <th>participation</th>\n",
       "      <th>total</th>\n",
       "    </tr>\n",
       "  </thead>\n",
       "  <tbody>\n",
       "    <tr>\n",
       "      <th>per_student_spend</th>\n",
       "      <td>1.000000</td>\n",
       "      <td>0.427361</td>\n",
       "      <td>-0.195504</td>\n",
       "    </tr>\n",
       "    <tr>\n",
       "      <th>participation</th>\n",
       "      <td>0.427361</td>\n",
       "      <td>1.000000</td>\n",
       "      <td>-0.860836</td>\n",
       "    </tr>\n",
       "    <tr>\n",
       "      <th>total</th>\n",
       "      <td>-0.195504</td>\n",
       "      <td>-0.860836</td>\n",
       "      <td>1.000000</td>\n",
       "    </tr>\n",
       "  </tbody>\n",
       "</table>\n",
       "</div>"
      ],
      "text/plain": [
       "                   per_student_spend  participation     total\n",
       "per_student_spend           1.000000       0.427361 -0.195504\n",
       "participation               0.427361       1.000000 -0.860836\n",
       "total                      -0.195504      -0.860836  1.000000"
      ]
     },
     "execution_count": 155,
     "metadata": {},
     "output_type": "execute_result"
    }
   ],
   "source": [
    "print(spend_act_2020.corr())\n",
    "spend_sat_2020.corr()"
   ]
  },
  {
   "cell_type": "markdown",
   "id": "fb2d1496-60ba-4221-afcf-059a90a87112",
   "metadata": {},
   "source": [
    "- For 2020, there is a correlation between the spending and ACT composite score of 0.64.\n",
    "- For 2020, there is a negative correlation between the spending and ACT participation of 0.54.\n",
    "- The spending has a weak correlation with the SAT participation of 0.42.\n",
    "- There is a very weak correlation for SAT total score and spending of -0.20."
   ]
  },
  {
   "cell_type": "code",
   "execution_count": 149,
   "id": "d5996309-833e-4fc5-a2b9-3cc61be7c55f",
   "metadata": {},
   "outputs": [
    {
     "data": {
      "text/plain": [
       "2.529266132877793"
      ]
     },
     "execution_count": 149,
     "metadata": {},
     "output_type": "execute_result"
    }
   ],
   "source": [
    "# To calculate the percentage increase in spending between 2020 and 2019\n",
    "((spend_2020['per_student_spend'] - spend_2019['per_student_spend'])/spend_2019['per_student_spend']*100).mean()"
   ]
  },
  {
   "cell_type": "code",
   "execution_count": 150,
   "id": "94c0214a-2c2a-41be-a9f1-adea930ff23e",
   "metadata": {},
   "outputs": [
    {
     "data": {
      "text/plain": [
       "3.805181281397517"
      ]
     },
     "execution_count": 150,
     "metadata": {},
     "output_type": "execute_result"
    }
   ],
   "source": [
    "# To calculate the percentage increase in spending between 2019 and 2018\n",
    "((spend_2019['per_student_spend'] - spend_2018['per_student_spend'])/spend_2018['per_student_spend']*100).mean()"
   ]
  },
  {
   "cell_type": "code",
   "execution_count": 151,
   "id": "448b03c7-29d3-433b-8a0a-cee850fb0a7c",
   "metadata": {},
   "outputs": [
    {
     "data": {
      "text/plain": [
       "3.047113391781287"
      ]
     },
     "execution_count": 151,
     "metadata": {},
     "output_type": "execute_result"
    }
   ],
   "source": [
    "# To calculate the percentage increase in spending between 2019 and 2018\n",
    "((spend_2018['per_student_spend'] - spend_2017['per_student_spend'])/spend_2017['per_student_spend']*100).mean()"
   ]
  },
  {
   "cell_type": "markdown",
   "id": "017d8c39-1ea5-49e4-b54a-deb5bd0d569b",
   "metadata": {},
   "source": [
    "- On average there is a 2.5 to 3.8% increase in per student spending from 2017 to 2020"
   ]
  },
  {
   "cell_type": "markdown",
   "id": "bdd45406-4d01-4cf0-a014-38fd599671a3",
   "metadata": {},
   "source": [
    "# Summary"
   ]
  },
  {
   "cell_type": "markdown",
   "id": "9f6dbd4e-b412-4bbb-866e-44679141f4f0",
   "metadata": {},
   "source": [
    "#### ACT and SAT"
   ]
  },
  {
   "cell_type": "markdown",
   "id": "600ccf9f-fe00-4a2c-a4be-6c203c24d9bb",
   "metadata": {},
   "source": [
    "ACT\n",
    "1. From the ACT Participation Levels between 2017-2018, there is an increase in the participation levels. \n",
    "2. However, the reduction of participation level was seen starting from 2019 till 2021. \n",
    "-   A reduction in the 1.0 participation level and 0.2 participation level.\n",
    "-   An increase the 0.1 participation level.\n",
    "\n",
    "- From the ACT Composite Scores, for the year 2021, there is a clear divide in the student scores where there are students scoring more than 26.\n",
    "- In another group of students scoring the other end of the spectrum (composite scores between 18 to 21)\n",
    "\n",
    "\n",
    "SAT\n",
    "- From the histogram plots across the years for 2017 to 2019, there is an increase in the participation level.\n",
    "- For 2020 and 2021, there is a sharp drop in the participation levels. (huge decrease for participation at 1.0 level and 0.7 level, and an increase in 0.5 level and 0.0 level)\n",
    "- For 2020 to 2021, the total SAT scores did not reach 1300 levels and the score for 1000 are higher than the rest of the years.\n",
    "\n",
    "Comparing Participation Levels correlation between ACT and SAT\n",
    "- The ACT participation 2020 has an inverse relation with the SAT participation 2020 of 0.87.\n",
    "- The ACT participation 2021 has an inverse relation with the SAT participation 2021 of 0.83."
   ]
  },
  {
   "cell_type": "markdown",
   "id": "4a596afe-ee25-46d3-b534-cabb4e4e016a",
   "metadata": {},
   "source": [
    "#### COVID19 DATA"
   ]
  },
  {
   "cell_type": "markdown",
   "id": "f2722571-cfc8-4799-b63e-19eea85fedd2",
   "metadata": {},
   "source": [
    "- There is a very weak correlation between COVID cases and the relation between ACT and SAT for the years 2020 and 2021."
   ]
  },
  {
   "cell_type": "markdown",
   "id": "769a5cb1-1c81-4d8b-a5eb-434586b5e3d8",
   "metadata": {},
   "source": [
    "#### Per Student Spending"
   ]
  },
  {
   "cell_type": "markdown",
   "id": "29cb6728-b07d-4207-a6d6-17a54c370e57",
   "metadata": {},
   "source": [
    "- On average there is a 2.5 to 3.8% increase in per student spending from 2017 to 2020\n",
    "- Across the years between 2017 to 2020, there is a correlation between the spending and ACT composite score of 0.62 to 0.64.\n",
    "- Across the years between 2017 to 2020, there is a negative correlation between the spending and ACT participation of 0.49 to 0.54.\n",
    "- The spending has a weak correlation with the SAT participation of 0.39 to 0.46.\n",
    "- The spending does not have much correlation with SAT total score."
   ]
  },
  {
   "cell_type": "markdown",
   "id": "a0d7fd3c-b5a3-4a0d-947d-0f3095cc59e4",
   "metadata": {},
   "source": [
    "### Conclusions and Recommendations"
   ]
  },
  {
   "cell_type": "markdown",
   "id": "487f5e26-9bad-480a-97a3-0ac83c446d92",
   "metadata": {},
   "source": [
    "#### Conclusions"
   ]
  },
  {
   "cell_type": "markdown",
   "id": "6f354e33-8985-4c61-a643-273535255e02",
   "metadata": {},
   "source": [
    "1. From the above analysis, there is a fall in the participation level in both the ACT and SAT. There is a divide for the composite score for ACT and SAT students are scoring on either ends of the spectrum. \n",
    "2. There is weak correlation data between the COVID cases in each state versus ACT and SAT participation level and composite/total score.\n",
    "3. The per student spending has strong correlation with the ACT composite score but a negative correlation on the ACT participation level. Whereas, the per student spending has a weak correlation with the SAT participation level and not much correlation with the SAT total score.\n",
    "\n",
    "Even though there is a weak correlation data for the COVID cases, it does not mean that the ACT and SAT are independent of COVID. Rather there could be other factors that could be affecting the outcome of ACT and SAT where the study of per student spending shows some relation with ACT."
   ]
  },
  {
   "cell_type": "markdown",
   "id": "28b0f26e-6101-4058-b927-369b2f1d1b40",
   "metadata": {},
   "source": [
    "#### Recommendations"
   ]
  },
  {
   "cell_type": "markdown",
   "id": "95b91b87-7496-4326-a4be-72c56ab41fda",
   "metadata": {},
   "source": [
    "1. Futher analysis would need to be explored include mitigation or precaution that was taken to ensure that ACT or SAT could be continue to be taken during COVID at State level.\n",
    "2. Universities that used other metric for entry requirements and do not require ACT/SAT score for admissions.\n",
    "3. States that either still maintain or changed their policy on ACT or SAT as a Graduation requirement.\n",
    "4. Other social economic factors such as income level and family & social support.\n",
    "5. The analysis could also be performed on county level rather than on state level."
   ]
  },
  {
   "cell_type": "markdown",
   "id": "e8e26689-c89a-4572-bcb6-2257cd551496",
   "metadata": {},
   "source": []
  }
 ],
 "metadata": {
  "kernelspec": {
   "display_name": "Python 3 (ipykernel)",
   "language": "python",
   "name": "python3"
  },
  "language_info": {
   "codemirror_mode": {
    "name": "ipython",
    "version": 3
   },
   "file_extension": ".py",
   "mimetype": "text/x-python",
   "name": "python",
   "nbconvert_exporter": "python",
   "pygments_lexer": "ipython3",
   "version": "3.9.12"
  }
 },
 "nbformat": 4,
 "nbformat_minor": 5
}
