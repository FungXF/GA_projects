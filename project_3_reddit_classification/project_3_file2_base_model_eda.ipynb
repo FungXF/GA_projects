{
 "cells": [
  {
   "cell_type": "markdown",
   "id": "45bdf66b-5833-4fa0-b2ba-b2929d72b8d6",
   "metadata": {},
   "source": [
    "# Reddit Classification "
   ]
  },
  {
   "cell_type": "markdown",
   "id": "030c0be1-b1ce-4e7a-9445-ff67ecbd9e43",
   "metadata": {},
   "source": [
    "## Notebook 2 of 5 - Base Model, Data Cleaning and EDA"
   ]
  },
  {
   "cell_type": "markdown",
   "id": "b602472d-1b16-4b0c-bd32-fc6a3ea37006",
   "metadata": {},
   "source": [
    "# Importing Libraries"
   ]
  },
  {
   "cell_type": "code",
   "execution_count": 1,
   "id": "22eaac92-2815-4d95-8f92-defb422bb5d9",
   "metadata": {},
   "outputs": [],
   "source": [
    "import numpy as np\n",
    "import pandas as pd\n",
    "import seaborn as sns\n",
    "from nltk.tokenize import sent_tokenize, word_tokenize, RegexpTokenizer \n",
    "from nltk.stem import WordNetLemmatizer \n",
    "from nltk.stem.porter import PorterStemmer \n",
    "from nltk.corpus import stopwords \n",
    "from nltk.sentiment.vader import SentimentIntensityAnalyzer\n",
    "import re\n",
    "from sklearn.metrics import accuracy_score, confusion_matrix, ConfusionMatrixDisplay \n",
    "from sklearn.model_selection import train_test_split, GridSearchCV \n",
    "from sklearn.pipeline import Pipeline \n",
    "\n",
    "from sklearn.feature_extraction.text import CountVectorizer, TfidfVectorizer\n",
    "\n",
    "from sklearn.linear_model import LogisticRegression\n",
    "from sklearn.neighbors import KNeighborsClassifier\n",
    "from sklearn.naive_bayes import MultinomialNB\n",
    "from sklearn.ensemble import RandomForestClassifier\n",
    "\n",
    "from datetime import datetime\n",
    "import matplotlib.pyplot as plt\n",
    "from tqdm import tqdm\n",
    "sns.set_theme()"
   ]
  },
  {
   "cell_type": "code",
   "execution_count": 2,
   "id": "a8d2a0f6-8056-4c07-b258-0242943c1dc2",
   "metadata": {},
   "outputs": [],
   "source": [
    "# Importing the 'anxiety file\n",
    "anxiety_df = pd.read_csv('datasets/anxiety.csv')"
   ]
  },
  {
   "cell_type": "code",
   "execution_count": 3,
   "id": "f3ad087f-3946-40db-9d3e-b8029d97c8fd",
   "metadata": {},
   "outputs": [
    {
     "name": "stdout",
     "output_type": "stream",
     "text": [
      "<class 'pandas.core.frame.DataFrame'>\n",
      "RangeIndex: 15242 entries, 0 to 15241\n",
      "Data columns (total 5 columns):\n",
      " #   Column      Non-Null Count  Dtype \n",
      "---  ------      --------------  ----- \n",
      " 0   Unnamed: 0  15242 non-null  int64 \n",
      " 1   date_time   15242 non-null  object\n",
      " 2   subreddit   15242 non-null  object\n",
      " 3   selftext    14562 non-null  object\n",
      " 4   title       15242 non-null  object\n",
      "dtypes: int64(1), object(4)\n",
      "memory usage: 595.5+ KB\n"
     ]
    }
   ],
   "source": [
    "anxiety_df.info()"
   ]
  },
  {
   "cell_type": "code",
   "execution_count": 4,
   "id": "66e77b5d-6c22-4572-8f90-4c648fb885c5",
   "metadata": {},
   "outputs": [],
   "source": [
    "# Concatenate between title and selftext with a space inbetween and create a new column\n",
    "anxiety_df['title_text'] = anxiety_df['title'] +' '+ anxiety_df['selftext'].fillna('')"
   ]
  },
  {
   "cell_type": "code",
   "execution_count": 5,
   "id": "b40282c3-516f-4f9a-9e4f-9c2c4f17fcb2",
   "metadata": {},
   "outputs": [],
   "source": [
    "# Select these 3 columns only from the dataframe\n",
    "anxiety_df = anxiety_df[['subreddit','title_text','date_time']]"
   ]
  },
  {
   "cell_type": "code",
   "execution_count": 6,
   "id": "c02c387d-e5cb-4cd6-b601-b24ec2358500",
   "metadata": {},
   "outputs": [
    {
     "data": {
      "text/html": [
       "<div>\n",
       "<style scoped>\n",
       "    .dataframe tbody tr th:only-of-type {\n",
       "        vertical-align: middle;\n",
       "    }\n",
       "\n",
       "    .dataframe tbody tr th {\n",
       "        vertical-align: top;\n",
       "    }\n",
       "\n",
       "    .dataframe thead th {\n",
       "        text-align: right;\n",
       "    }\n",
       "</style>\n",
       "<table border=\"1\" class=\"dataframe\">\n",
       "  <thead>\n",
       "    <tr style=\"text-align: right;\">\n",
       "      <th></th>\n",
       "      <th>subreddit</th>\n",
       "      <th>title_text</th>\n",
       "      <th>date_time</th>\n",
       "    </tr>\n",
       "  </thead>\n",
       "  <tbody>\n",
       "    <tr>\n",
       "      <th>0</th>\n",
       "      <td>Anxiety</td>\n",
       "      <td>Aching across chest and stomach and tiredness ...</td>\n",
       "      <td>2022-10-03 07:50:04</td>\n",
       "    </tr>\n",
       "    <tr>\n",
       "      <th>1</th>\n",
       "      <td>Anxiety</td>\n",
       "      <td>Very cold hands and feet while anxious Hey, so...</td>\n",
       "      <td>2022-10-03 07:49:48</td>\n",
       "    </tr>\n",
       "    <tr>\n",
       "      <th>2</th>\n",
       "      <td>Anxiety</td>\n",
       "      <td>Feeling of lost sensation I keep feeling like ...</td>\n",
       "      <td>2022-10-03 07:42:30</td>\n",
       "    </tr>\n",
       "    <tr>\n",
       "      <th>3</th>\n",
       "      <td>Anxiety</td>\n",
       "      <td>needs someone to talk to.. hi im dealing with ...</td>\n",
       "      <td>2022-10-03 07:41:39</td>\n",
       "    </tr>\n",
       "    <tr>\n",
       "      <th>4</th>\n",
       "      <td>Anxiety</td>\n",
       "      <td>Nothing helps my anxiety apart from benzodiaze...</td>\n",
       "      <td>2022-10-03 07:38:55</td>\n",
       "    </tr>\n",
       "    <tr>\n",
       "      <th>...</th>\n",
       "      <td>...</td>\n",
       "      <td>...</td>\n",
       "      <td>...</td>\n",
       "    </tr>\n",
       "    <tr>\n",
       "      <th>15237</th>\n",
       "      <td>Anxiety</td>\n",
       "      <td>I hate talking about myself Like seriously, ha...</td>\n",
       "      <td>2022-08-01 04:40:47</td>\n",
       "    </tr>\n",
       "    <tr>\n",
       "      <th>15238</th>\n",
       "      <td>Anxiety</td>\n",
       "      <td>Absolutely petrified of going to college I str...</td>\n",
       "      <td>2022-08-01 04:30:02</td>\n",
       "    </tr>\n",
       "    <tr>\n",
       "      <th>15239</th>\n",
       "      <td>Anxiety</td>\n",
       "      <td>Trouble being interesting My biggest insecurit...</td>\n",
       "      <td>2022-08-01 04:29:46</td>\n",
       "    </tr>\n",
       "    <tr>\n",
       "      <th>15240</th>\n",
       "      <td>Anxiety</td>\n",
       "      <td>Tight throat throughout the day / waking up mu...</td>\n",
       "      <td>2022-08-01 04:27:03</td>\n",
       "    </tr>\n",
       "    <tr>\n",
       "      <th>15241</th>\n",
       "      <td>Anxiety</td>\n",
       "      <td>Why did i get two mouth ulcers after vaginal s...</td>\n",
       "      <td>2022-08-01 04:22:06</td>\n",
       "    </tr>\n",
       "  </tbody>\n",
       "</table>\n",
       "<p>15242 rows × 3 columns</p>\n",
       "</div>"
      ],
      "text/plain": [
       "      subreddit                                         title_text  \\\n",
       "0       Anxiety  Aching across chest and stomach and tiredness ...   \n",
       "1       Anxiety  Very cold hands and feet while anxious Hey, so...   \n",
       "2       Anxiety  Feeling of lost sensation I keep feeling like ...   \n",
       "3       Anxiety  needs someone to talk to.. hi im dealing with ...   \n",
       "4       Anxiety  Nothing helps my anxiety apart from benzodiaze...   \n",
       "...         ...                                                ...   \n",
       "15237   Anxiety  I hate talking about myself Like seriously, ha...   \n",
       "15238   Anxiety  Absolutely petrified of going to college I str...   \n",
       "15239   Anxiety  Trouble being interesting My biggest insecurit...   \n",
       "15240   Anxiety  Tight throat throughout the day / waking up mu...   \n",
       "15241   Anxiety  Why did i get two mouth ulcers after vaginal s...   \n",
       "\n",
       "                 date_time  \n",
       "0      2022-10-03 07:50:04  \n",
       "1      2022-10-03 07:49:48  \n",
       "2      2022-10-03 07:42:30  \n",
       "3      2022-10-03 07:41:39  \n",
       "4      2022-10-03 07:38:55  \n",
       "...                    ...  \n",
       "15237  2022-08-01 04:40:47  \n",
       "15238  2022-08-01 04:30:02  \n",
       "15239  2022-08-01 04:29:46  \n",
       "15240  2022-08-01 04:27:03  \n",
       "15241  2022-08-01 04:22:06  \n",
       "\n",
       "[15242 rows x 3 columns]"
      ]
     },
     "execution_count": 6,
     "metadata": {},
     "output_type": "execute_result"
    }
   ],
   "source": [
    "anxiety_df"
   ]
  },
  {
   "cell_type": "code",
   "execution_count": 7,
   "id": "1747d3c6-961a-40e9-b73d-0cf6bf86bad7",
   "metadata": {},
   "outputs": [],
   "source": [
    "# Importing the 'depression file\n",
    "depression_df = pd.read_csv('datasets/depression.csv')"
   ]
  },
  {
   "cell_type": "code",
   "execution_count": 8,
   "id": "eb1f8eb0-c97d-46f3-818a-ad9dafe4ca29",
   "metadata": {},
   "outputs": [
    {
     "data": {
      "text/html": [
       "<div>\n",
       "<style scoped>\n",
       "    .dataframe tbody tr th:only-of-type {\n",
       "        vertical-align: middle;\n",
       "    }\n",
       "\n",
       "    .dataframe tbody tr th {\n",
       "        vertical-align: top;\n",
       "    }\n",
       "\n",
       "    .dataframe thead th {\n",
       "        text-align: right;\n",
       "    }\n",
       "</style>\n",
       "<table border=\"1\" class=\"dataframe\">\n",
       "  <thead>\n",
       "    <tr style=\"text-align: right;\">\n",
       "      <th></th>\n",
       "      <th>Unnamed: 0</th>\n",
       "      <th>date_time</th>\n",
       "      <th>subreddit</th>\n",
       "      <th>selftext</th>\n",
       "      <th>title</th>\n",
       "    </tr>\n",
       "  </thead>\n",
       "  <tbody>\n",
       "    <tr>\n",
       "      <th>0</th>\n",
       "      <td>0</td>\n",
       "      <td>2022-10-03 07:49:52</td>\n",
       "      <td>depression</td>\n",
       "      <td>I was in the hospital due to depression. I was...</td>\n",
       "      <td>suicidal ideation spectrum</td>\n",
       "    </tr>\n",
       "    <tr>\n",
       "      <th>1</th>\n",
       "      <td>1</td>\n",
       "      <td>2022-10-03 07:49:11</td>\n",
       "      <td>depression</td>\n",
       "      <td>It seems like it just gets worse and worse. So...</td>\n",
       "      <td>Need Advice</td>\n",
       "    </tr>\n",
       "    <tr>\n",
       "      <th>2</th>\n",
       "      <td>2</td>\n",
       "      <td>2022-10-03 07:46:13</td>\n",
       "      <td>depression</td>\n",
       "      <td>I don’t know where to begin, but I think I’m n...</td>\n",
       "      <td>I’m giving up</td>\n",
       "    </tr>\n",
       "    <tr>\n",
       "      <th>3</th>\n",
       "      <td>3</td>\n",
       "      <td>2022-10-03 07:40:33</td>\n",
       "      <td>depression</td>\n",
       "      <td>[removed]</td>\n",
       "      <td>The world is a lonely place</td>\n",
       "    </tr>\n",
       "    <tr>\n",
       "      <th>4</th>\n",
       "      <td>4</td>\n",
       "      <td>2022-10-03 07:39:03</td>\n",
       "      <td>depression</td>\n",
       "      <td>[removed]</td>\n",
       "      <td>Trigger warning: My friend commited suicide a ...</td>\n",
       "    </tr>\n",
       "  </tbody>\n",
       "</table>\n",
       "</div>"
      ],
      "text/plain": [
       "   Unnamed: 0            date_time   subreddit  \\\n",
       "0           0  2022-10-03 07:49:52  depression   \n",
       "1           1  2022-10-03 07:49:11  depression   \n",
       "2           2  2022-10-03 07:46:13  depression   \n",
       "3           3  2022-10-03 07:40:33  depression   \n",
       "4           4  2022-10-03 07:39:03  depression   \n",
       "\n",
       "                                            selftext  \\\n",
       "0  I was in the hospital due to depression. I was...   \n",
       "1  It seems like it just gets worse and worse. So...   \n",
       "2  I don’t know where to begin, but I think I’m n...   \n",
       "3                                          [removed]   \n",
       "4                                          [removed]   \n",
       "\n",
       "                                               title  \n",
       "0                         suicidal ideation spectrum  \n",
       "1                                        Need Advice  \n",
       "2                                      I’m giving up  \n",
       "3                        The world is a lonely place  \n",
       "4  Trigger warning: My friend commited suicide a ...  "
      ]
     },
     "execution_count": 8,
     "metadata": {},
     "output_type": "execute_result"
    }
   ],
   "source": [
    "depression_df.head()"
   ]
  },
  {
   "cell_type": "code",
   "execution_count": 9,
   "id": "5d078a06-d15d-4a2a-a58c-673b85e80e6e",
   "metadata": {},
   "outputs": [
    {
     "name": "stdout",
     "output_type": "stream",
     "text": [
      "<class 'pandas.core.frame.DataFrame'>\n",
      "RangeIndex: 15238 entries, 0 to 15237\n",
      "Data columns (total 5 columns):\n",
      " #   Column      Non-Null Count  Dtype \n",
      "---  ------      --------------  ----- \n",
      " 0   Unnamed: 0  15238 non-null  int64 \n",
      " 1   date_time   15238 non-null  object\n",
      " 2   subreddit   15238 non-null  object\n",
      " 3   selftext    15238 non-null  object\n",
      " 4   title       15238 non-null  object\n",
      "dtypes: int64(1), object(4)\n",
      "memory usage: 595.4+ KB\n"
     ]
    }
   ],
   "source": [
    "depression_df.info()"
   ]
  },
  {
   "cell_type": "code",
   "execution_count": 10,
   "id": "20ac3af5-fd69-4706-9d9b-043558db159a",
   "metadata": {},
   "outputs": [],
   "source": [
    "# Concatenate between title and selftext with a space inbetween and create a new column\n",
    "depression_df['title_text'] = depression_df['title'] +' '+ depression_df['selftext'].fillna('')"
   ]
  },
  {
   "cell_type": "code",
   "execution_count": 11,
   "id": "99bd8a6f-b241-4637-af3d-d37099f72ba0",
   "metadata": {},
   "outputs": [],
   "source": [
    "# Select these 3 columns only from the dataframe\n",
    "depression_df = depression_df[['subreddit','title_text','date_time']]"
   ]
  },
  {
   "cell_type": "code",
   "execution_count": 12,
   "id": "dcb588b9-b098-436e-a1e9-f891fa213ede",
   "metadata": {},
   "outputs": [
    {
     "data": {
      "text/html": [
       "<div>\n",
       "<style scoped>\n",
       "    .dataframe tbody tr th:only-of-type {\n",
       "        vertical-align: middle;\n",
       "    }\n",
       "\n",
       "    .dataframe tbody tr th {\n",
       "        vertical-align: top;\n",
       "    }\n",
       "\n",
       "    .dataframe thead th {\n",
       "        text-align: right;\n",
       "    }\n",
       "</style>\n",
       "<table border=\"1\" class=\"dataframe\">\n",
       "  <thead>\n",
       "    <tr style=\"text-align: right;\">\n",
       "      <th></th>\n",
       "      <th>subreddit</th>\n",
       "      <th>title_text</th>\n",
       "      <th>date_time</th>\n",
       "    </tr>\n",
       "  </thead>\n",
       "  <tbody>\n",
       "    <tr>\n",
       "      <th>0</th>\n",
       "      <td>depression</td>\n",
       "      <td>suicidal ideation spectrum I was in the hospit...</td>\n",
       "      <td>2022-10-03 07:49:52</td>\n",
       "    </tr>\n",
       "    <tr>\n",
       "      <th>1</th>\n",
       "      <td>depression</td>\n",
       "      <td>Need Advice It seems like it just gets worse a...</td>\n",
       "      <td>2022-10-03 07:49:11</td>\n",
       "    </tr>\n",
       "    <tr>\n",
       "      <th>2</th>\n",
       "      <td>depression</td>\n",
       "      <td>I’m giving up I don’t know where to begin, but...</td>\n",
       "      <td>2022-10-03 07:46:13</td>\n",
       "    </tr>\n",
       "    <tr>\n",
       "      <th>3</th>\n",
       "      <td>depression</td>\n",
       "      <td>The world is a lonely place [removed]</td>\n",
       "      <td>2022-10-03 07:40:33</td>\n",
       "    </tr>\n",
       "    <tr>\n",
       "      <th>4</th>\n",
       "      <td>depression</td>\n",
       "      <td>Trigger warning: My friend commited suicide a ...</td>\n",
       "      <td>2022-10-03 07:39:03</td>\n",
       "    </tr>\n",
       "    <tr>\n",
       "      <th>...</th>\n",
       "      <td>...</td>\n",
       "      <td>...</td>\n",
       "      <td>...</td>\n",
       "    </tr>\n",
       "    <tr>\n",
       "      <th>15233</th>\n",
       "      <td>depression</td>\n",
       "      <td>December 31, 2022 I am so tired of everything ...</td>\n",
       "      <td>2022-08-23 12:13:43</td>\n",
       "    </tr>\n",
       "    <tr>\n",
       "      <th>15234</th>\n",
       "      <td>depression</td>\n",
       "      <td>I feel so empty now I don't know what to do an...</td>\n",
       "      <td>2022-08-23 12:09:46</td>\n",
       "    </tr>\n",
       "    <tr>\n",
       "      <th>15235</th>\n",
       "      <td>depression</td>\n",
       "      <td>Are psychology and psychotherapy a fraud? I am...</td>\n",
       "      <td>2022-08-23 12:02:33</td>\n",
       "    </tr>\n",
       "    <tr>\n",
       "      <th>15236</th>\n",
       "      <td>depression</td>\n",
       "      <td>Tried to kill myself today and can't even do t...</td>\n",
       "      <td>2022-08-23 11:57:36</td>\n",
       "    </tr>\n",
       "    <tr>\n",
       "      <th>15237</th>\n",
       "      <td>depression</td>\n",
       "      <td>Depression? Mood Swings? Both? I don’t underst...</td>\n",
       "      <td>2022-08-23 11:44:58</td>\n",
       "    </tr>\n",
       "  </tbody>\n",
       "</table>\n",
       "<p>15238 rows × 3 columns</p>\n",
       "</div>"
      ],
      "text/plain": [
       "        subreddit                                         title_text  \\\n",
       "0      depression  suicidal ideation spectrum I was in the hospit...   \n",
       "1      depression  Need Advice It seems like it just gets worse a...   \n",
       "2      depression  I’m giving up I don’t know where to begin, but...   \n",
       "3      depression              The world is a lonely place [removed]   \n",
       "4      depression  Trigger warning: My friend commited suicide a ...   \n",
       "...           ...                                                ...   \n",
       "15233  depression  December 31, 2022 I am so tired of everything ...   \n",
       "15234  depression  I feel so empty now I don't know what to do an...   \n",
       "15235  depression  Are psychology and psychotherapy a fraud? I am...   \n",
       "15236  depression  Tried to kill myself today and can't even do t...   \n",
       "15237  depression  Depression? Mood Swings? Both? I don’t underst...   \n",
       "\n",
       "                 date_time  \n",
       "0      2022-10-03 07:49:52  \n",
       "1      2022-10-03 07:49:11  \n",
       "2      2022-10-03 07:46:13  \n",
       "3      2022-10-03 07:40:33  \n",
       "4      2022-10-03 07:39:03  \n",
       "...                    ...  \n",
       "15233  2022-08-23 12:13:43  \n",
       "15234  2022-08-23 12:09:46  \n",
       "15235  2022-08-23 12:02:33  \n",
       "15236  2022-08-23 11:57:36  \n",
       "15237  2022-08-23 11:44:58  \n",
       "\n",
       "[15238 rows x 3 columns]"
      ]
     },
     "execution_count": 12,
     "metadata": {},
     "output_type": "execute_result"
    }
   ],
   "source": [
    "depression_df"
   ]
  },
  {
   "cell_type": "code",
   "execution_count": 13,
   "id": "1f672b95-05d4-44de-b036-adc6ad6b0c0a",
   "metadata": {},
   "outputs": [
    {
     "data": {
      "text/plain": [
       "\"suicidal ideation spectrum I was in the hospital due to depression. I was reading my progress notes and it stated I was laying on bed crying and telling the nurse I want to die and I don't want to live anymore. I don't remember this but I know I was not suicidal. \\n\\nI was wondering if this is considered suicidal ideation because they wrote in my notes that I was suicidal? Can it lead to a misdiagnosis if I know I was not suicidal?\""
      ]
     },
     "execution_count": 13,
     "metadata": {},
     "output_type": "execute_result"
    }
   ],
   "source": [
    "# Checking that the concat is done correctly\n",
    "depression_df['title_text'][0]"
   ]
  },
  {
   "cell_type": "code",
   "execution_count": 14,
   "id": "3d8aa0b1-57d0-46e2-9709-b2253b7ae31d",
   "metadata": {},
   "outputs": [],
   "source": [
    "# Combining the two dataframes\n",
    "anxiety_depression = pd.concat([anxiety_df,depression_df],ignore_index=True)"
   ]
  },
  {
   "cell_type": "code",
   "execution_count": 15,
   "id": "9478787b-e2b8-4597-a9db-302fa6e592e2",
   "metadata": {},
   "outputs": [
    {
     "data": {
      "text/html": [
       "<div>\n",
       "<style scoped>\n",
       "    .dataframe tbody tr th:only-of-type {\n",
       "        vertical-align: middle;\n",
       "    }\n",
       "\n",
       "    .dataframe tbody tr th {\n",
       "        vertical-align: top;\n",
       "    }\n",
       "\n",
       "    .dataframe thead th {\n",
       "        text-align: right;\n",
       "    }\n",
       "</style>\n",
       "<table border=\"1\" class=\"dataframe\">\n",
       "  <thead>\n",
       "    <tr style=\"text-align: right;\">\n",
       "      <th></th>\n",
       "      <th>subreddit</th>\n",
       "      <th>title_text</th>\n",
       "      <th>date_time</th>\n",
       "    </tr>\n",
       "  </thead>\n",
       "  <tbody>\n",
       "    <tr>\n",
       "      <th>0</th>\n",
       "      <td>Anxiety</td>\n",
       "      <td>Aching across chest and stomach and tiredness ...</td>\n",
       "      <td>2022-10-03 07:50:04</td>\n",
       "    </tr>\n",
       "    <tr>\n",
       "      <th>1</th>\n",
       "      <td>Anxiety</td>\n",
       "      <td>Very cold hands and feet while anxious Hey, so...</td>\n",
       "      <td>2022-10-03 07:49:48</td>\n",
       "    </tr>\n",
       "    <tr>\n",
       "      <th>2</th>\n",
       "      <td>Anxiety</td>\n",
       "      <td>Feeling of lost sensation I keep feeling like ...</td>\n",
       "      <td>2022-10-03 07:42:30</td>\n",
       "    </tr>\n",
       "    <tr>\n",
       "      <th>3</th>\n",
       "      <td>Anxiety</td>\n",
       "      <td>needs someone to talk to.. hi im dealing with ...</td>\n",
       "      <td>2022-10-03 07:41:39</td>\n",
       "    </tr>\n",
       "    <tr>\n",
       "      <th>4</th>\n",
       "      <td>Anxiety</td>\n",
       "      <td>Nothing helps my anxiety apart from benzodiaze...</td>\n",
       "      <td>2022-10-03 07:38:55</td>\n",
       "    </tr>\n",
       "    <tr>\n",
       "      <th>...</th>\n",
       "      <td>...</td>\n",
       "      <td>...</td>\n",
       "      <td>...</td>\n",
       "    </tr>\n",
       "    <tr>\n",
       "      <th>30475</th>\n",
       "      <td>depression</td>\n",
       "      <td>December 31, 2022 I am so tired of everything ...</td>\n",
       "      <td>2022-08-23 12:13:43</td>\n",
       "    </tr>\n",
       "    <tr>\n",
       "      <th>30476</th>\n",
       "      <td>depression</td>\n",
       "      <td>I feel so empty now I don't know what to do an...</td>\n",
       "      <td>2022-08-23 12:09:46</td>\n",
       "    </tr>\n",
       "    <tr>\n",
       "      <th>30477</th>\n",
       "      <td>depression</td>\n",
       "      <td>Are psychology and psychotherapy a fraud? I am...</td>\n",
       "      <td>2022-08-23 12:02:33</td>\n",
       "    </tr>\n",
       "    <tr>\n",
       "      <th>30478</th>\n",
       "      <td>depression</td>\n",
       "      <td>Tried to kill myself today and can't even do t...</td>\n",
       "      <td>2022-08-23 11:57:36</td>\n",
       "    </tr>\n",
       "    <tr>\n",
       "      <th>30479</th>\n",
       "      <td>depression</td>\n",
       "      <td>Depression? Mood Swings? Both? I don’t underst...</td>\n",
       "      <td>2022-08-23 11:44:58</td>\n",
       "    </tr>\n",
       "  </tbody>\n",
       "</table>\n",
       "<p>30480 rows × 3 columns</p>\n",
       "</div>"
      ],
      "text/plain": [
       "        subreddit                                         title_text  \\\n",
       "0         Anxiety  Aching across chest and stomach and tiredness ...   \n",
       "1         Anxiety  Very cold hands and feet while anxious Hey, so...   \n",
       "2         Anxiety  Feeling of lost sensation I keep feeling like ...   \n",
       "3         Anxiety  needs someone to talk to.. hi im dealing with ...   \n",
       "4         Anxiety  Nothing helps my anxiety apart from benzodiaze...   \n",
       "...           ...                                                ...   \n",
       "30475  depression  December 31, 2022 I am so tired of everything ...   \n",
       "30476  depression  I feel so empty now I don't know what to do an...   \n",
       "30477  depression  Are psychology and psychotherapy a fraud? I am...   \n",
       "30478  depression  Tried to kill myself today and can't even do t...   \n",
       "30479  depression  Depression? Mood Swings? Both? I don’t underst...   \n",
       "\n",
       "                 date_time  \n",
       "0      2022-10-03 07:50:04  \n",
       "1      2022-10-03 07:49:48  \n",
       "2      2022-10-03 07:42:30  \n",
       "3      2022-10-03 07:41:39  \n",
       "4      2022-10-03 07:38:55  \n",
       "...                    ...  \n",
       "30475  2022-08-23 12:13:43  \n",
       "30476  2022-08-23 12:09:46  \n",
       "30477  2022-08-23 12:02:33  \n",
       "30478  2022-08-23 11:57:36  \n",
       "30479  2022-08-23 11:44:58  \n",
       "\n",
       "[30480 rows x 3 columns]"
      ]
     },
     "execution_count": 15,
     "metadata": {},
     "output_type": "execute_result"
    }
   ],
   "source": [
    "anxiety_depression"
   ]
  },
  {
   "cell_type": "code",
   "execution_count": 16,
   "id": "2e7526fb-dc8e-4f80-bdb3-4d8da8608a59",
   "metadata": {},
   "outputs": [],
   "source": [
    "# Mapping subredit: Anxiety = 1, depression = 0 \n",
    "anxiety_depression['subreddit'] = anxiety_depression['subreddit'].map({'Anxiety':1,'depression':0})"
   ]
  },
  {
   "cell_type": "code",
   "execution_count": 17,
   "id": "bf2aa4b7-97e3-481c-af39-5860dbaeea67",
   "metadata": {},
   "outputs": [],
   "source": [
    "# Renaming response column so that it would not be a common word (i.e. there might be post that contains the word 'subreddit')\n",
    "anxiety_depression.rename(columns={'subreddit':'is_anxiety'},inplace=True)"
   ]
  },
  {
   "cell_type": "code",
   "execution_count": 18,
   "id": "bd1e6680-d7b2-4f51-af6e-0efba7422049",
   "metadata": {},
   "outputs": [
    {
     "data": {
      "text/html": [
       "<div>\n",
       "<style scoped>\n",
       "    .dataframe tbody tr th:only-of-type {\n",
       "        vertical-align: middle;\n",
       "    }\n",
       "\n",
       "    .dataframe tbody tr th {\n",
       "        vertical-align: top;\n",
       "    }\n",
       "\n",
       "    .dataframe thead th {\n",
       "        text-align: right;\n",
       "    }\n",
       "</style>\n",
       "<table border=\"1\" class=\"dataframe\">\n",
       "  <thead>\n",
       "    <tr style=\"text-align: right;\">\n",
       "      <th></th>\n",
       "      <th>is_anxiety</th>\n",
       "      <th>title_text</th>\n",
       "      <th>date_time</th>\n",
       "    </tr>\n",
       "  </thead>\n",
       "  <tbody>\n",
       "    <tr>\n",
       "      <th>0</th>\n",
       "      <td>1</td>\n",
       "      <td>Aching across chest and stomach and tiredness ...</td>\n",
       "      <td>2022-10-03 07:50:04</td>\n",
       "    </tr>\n",
       "    <tr>\n",
       "      <th>1</th>\n",
       "      <td>1</td>\n",
       "      <td>Very cold hands and feet while anxious Hey, so...</td>\n",
       "      <td>2022-10-03 07:49:48</td>\n",
       "    </tr>\n",
       "    <tr>\n",
       "      <th>2</th>\n",
       "      <td>1</td>\n",
       "      <td>Feeling of lost sensation I keep feeling like ...</td>\n",
       "      <td>2022-10-03 07:42:30</td>\n",
       "    </tr>\n",
       "    <tr>\n",
       "      <th>3</th>\n",
       "      <td>1</td>\n",
       "      <td>needs someone to talk to.. hi im dealing with ...</td>\n",
       "      <td>2022-10-03 07:41:39</td>\n",
       "    </tr>\n",
       "    <tr>\n",
       "      <th>4</th>\n",
       "      <td>1</td>\n",
       "      <td>Nothing helps my anxiety apart from benzodiaze...</td>\n",
       "      <td>2022-10-03 07:38:55</td>\n",
       "    </tr>\n",
       "    <tr>\n",
       "      <th>...</th>\n",
       "      <td>...</td>\n",
       "      <td>...</td>\n",
       "      <td>...</td>\n",
       "    </tr>\n",
       "    <tr>\n",
       "      <th>30475</th>\n",
       "      <td>0</td>\n",
       "      <td>December 31, 2022 I am so tired of everything ...</td>\n",
       "      <td>2022-08-23 12:13:43</td>\n",
       "    </tr>\n",
       "    <tr>\n",
       "      <th>30476</th>\n",
       "      <td>0</td>\n",
       "      <td>I feel so empty now I don't know what to do an...</td>\n",
       "      <td>2022-08-23 12:09:46</td>\n",
       "    </tr>\n",
       "    <tr>\n",
       "      <th>30477</th>\n",
       "      <td>0</td>\n",
       "      <td>Are psychology and psychotherapy a fraud? I am...</td>\n",
       "      <td>2022-08-23 12:02:33</td>\n",
       "    </tr>\n",
       "    <tr>\n",
       "      <th>30478</th>\n",
       "      <td>0</td>\n",
       "      <td>Tried to kill myself today and can't even do t...</td>\n",
       "      <td>2022-08-23 11:57:36</td>\n",
       "    </tr>\n",
       "    <tr>\n",
       "      <th>30479</th>\n",
       "      <td>0</td>\n",
       "      <td>Depression? Mood Swings? Both? I don’t underst...</td>\n",
       "      <td>2022-08-23 11:44:58</td>\n",
       "    </tr>\n",
       "  </tbody>\n",
       "</table>\n",
       "<p>30480 rows × 3 columns</p>\n",
       "</div>"
      ],
      "text/plain": [
       "       is_anxiety                                         title_text  \\\n",
       "0               1  Aching across chest and stomach and tiredness ...   \n",
       "1               1  Very cold hands and feet while anxious Hey, so...   \n",
       "2               1  Feeling of lost sensation I keep feeling like ...   \n",
       "3               1  needs someone to talk to.. hi im dealing with ...   \n",
       "4               1  Nothing helps my anxiety apart from benzodiaze...   \n",
       "...           ...                                                ...   \n",
       "30475           0  December 31, 2022 I am so tired of everything ...   \n",
       "30476           0  I feel so empty now I don't know what to do an...   \n",
       "30477           0  Are psychology and psychotherapy a fraud? I am...   \n",
       "30478           0  Tried to kill myself today and can't even do t...   \n",
       "30479           0  Depression? Mood Swings? Both? I don’t underst...   \n",
       "\n",
       "                 date_time  \n",
       "0      2022-10-03 07:50:04  \n",
       "1      2022-10-03 07:49:48  \n",
       "2      2022-10-03 07:42:30  \n",
       "3      2022-10-03 07:41:39  \n",
       "4      2022-10-03 07:38:55  \n",
       "...                    ...  \n",
       "30475  2022-08-23 12:13:43  \n",
       "30476  2022-08-23 12:09:46  \n",
       "30477  2022-08-23 12:02:33  \n",
       "30478  2022-08-23 11:57:36  \n",
       "30479  2022-08-23 11:44:58  \n",
       "\n",
       "[30480 rows x 3 columns]"
      ]
     },
     "execution_count": 18,
     "metadata": {},
     "output_type": "execute_result"
    }
   ],
   "source": [
    "anxiety_depression"
   ]
  },
  {
   "cell_type": "markdown",
   "id": "aa7ea70b-f441-4df2-b1c9-3e74ac6e38b7",
   "metadata": {},
   "source": [
    "# Base Model"
   ]
  },
  {
   "cell_type": "markdown",
   "id": "f63bd5d6-abbd-4d8d-a72e-916ffdde0537",
   "metadata": {},
   "source": [
    "- For the base model, no preprocessing was done and the `title_text` was directly input into the vectoriser and estimator model.\n",
    "- Vectoriser: CountVectorizer()\n",
    "- Estimator: LogisticRegression()"
   ]
  },
  {
   "cell_type": "code",
   "execution_count": 19,
   "id": "8d0bb906-0774-415c-991e-db16ec5d6d4d",
   "metadata": {},
   "outputs": [],
   "source": [
    "# Assigning the X and y\n",
    "X = anxiety_depression['title_text']\n",
    "y = anxiety_depression['is_anxiety']"
   ]
  },
  {
   "cell_type": "code",
   "execution_count": 20,
   "id": "3cf2ed32-ee7d-4be8-974b-44db665e837f",
   "metadata": {},
   "outputs": [
    {
     "data": {
      "text/plain": [
       "1    0.500066\n",
       "0    0.499934\n",
       "Name: is_anxiety, dtype: float64"
      ]
     },
     "execution_count": 20,
     "metadata": {},
     "output_type": "execute_result"
    }
   ],
   "source": [
    "# This is a balanced dataset\n",
    "y.value_counts(normalize = True)"
   ]
  },
  {
   "cell_type": "code",
   "execution_count": 21,
   "id": "e2c4a85e-3d34-4376-9743-9f9d726d056e",
   "metadata": {},
   "outputs": [],
   "source": [
    "# Splitting the data for training and testing, a default test size of 0.25 was applied\n",
    "X_train_base, X_test_base, y_train_base, y_test_base = train_test_split(X,\n",
    "                                                                        y,\n",
    "                                                                        stratify=y,\n",
    "                                                                        random_state=42)"
   ]
  },
  {
   "cell_type": "code",
   "execution_count": 22,
   "id": "17159e9b-230b-401d-a128-11c0090a1c05",
   "metadata": {},
   "outputs": [
    {
     "data": {
      "text/plain": [
       "6748     tips to sleep better Recently I've started an ...\n",
       "29320    i hate my life 。\\ni wake up everyday feeling n...\n",
       "10329    Skin picking (19f) with bad social skills// \\n...\n",
       "3180     Dont know whats real anymore?. Really. I dont ...\n",
       "16214    Brushing my teeth is hard. All my energy snaps...\n",
       "                               ...                        \n",
       "9064     clonindine Has anyone taken this to help with ...\n",
       "19564    Started sertraline 50mg what side effects did ...\n",
       "19967    I wish it'd all end I want it all to end right...\n",
       "791      Just started fluoxetine, Advice? Hello. I iust...\n",
       "19021    is this depression? Since the End of summer i ...\n",
       "Name: title_text, Length: 22860, dtype: object"
      ]
     },
     "execution_count": 22,
     "metadata": {},
     "output_type": "execute_result"
    }
   ],
   "source": [
    "X_train_base"
   ]
  },
  {
   "cell_type": "code",
   "execution_count": 23,
   "id": "b1fa6d53-7f60-4ad9-9384-cf3a209092b5",
   "metadata": {},
   "outputs": [],
   "source": [
    "# Instantiate a CountVectorizer with the default hyperparameters.\n",
    "cvec = CountVectorizer()"
   ]
  },
  {
   "cell_type": "code",
   "execution_count": 24,
   "id": "2a2ed0e8-ea61-41eb-a455-c2019a247c1d",
   "metadata": {},
   "outputs": [],
   "source": [
    "# Fit the vectorizer on our corpus and transform it.\n",
    "X_train_base_vec = cvec.fit_transform(X_train_base)"
   ]
  },
  {
   "cell_type": "code",
   "execution_count": 25,
   "id": "f4ab3b58-9ee4-4308-9f95-e80dd5943881",
   "metadata": {},
   "outputs": [
    {
     "data": {
      "text/plain": [
       "<22860x32132 sparse matrix of type '<class 'numpy.int64'>'\n",
       "\twith 1832390 stored elements in Compressed Sparse Row format>"
      ]
     },
     "execution_count": 25,
     "metadata": {},
     "output_type": "execute_result"
    }
   ],
   "source": [
    "# After vectorization, it has 32132 'dimensions'.\n",
    "X_train_base_vec"
   ]
  },
  {
   "cell_type": "code",
   "execution_count": 26,
   "id": "8c4763f7-bb6f-4c24-979d-6cbd8318192f",
   "metadata": {},
   "outputs": [],
   "source": [
    "# Vectorize the X_test\n",
    "X_test_base_vec = cvec.transform(X_test_base)"
   ]
  },
  {
   "cell_type": "code",
   "execution_count": 27,
   "id": "2267ac73-45e0-47c7-8e98-38146ba45984",
   "metadata": {},
   "outputs": [],
   "source": [
    "# Instantiate the estimator, a max_iter of 700 was applied to overcome a convergence issue.\n",
    "logisreg = LogisticRegression(max_iter=700)"
   ]
  },
  {
   "cell_type": "code",
   "execution_count": 28,
   "id": "8bbaab1e-64a4-497b-b3c3-619cfecc57f8",
   "metadata": {},
   "outputs": [
    {
     "data": {
      "text/html": [
       "<style>#sk-container-id-1 {color: black;background-color: white;}#sk-container-id-1 pre{padding: 0;}#sk-container-id-1 div.sk-toggleable {background-color: white;}#sk-container-id-1 label.sk-toggleable__label {cursor: pointer;display: block;width: 100%;margin-bottom: 0;padding: 0.3em;box-sizing: border-box;text-align: center;}#sk-container-id-1 label.sk-toggleable__label-arrow:before {content: \"▸\";float: left;margin-right: 0.25em;color: #696969;}#sk-container-id-1 label.sk-toggleable__label-arrow:hover:before {color: black;}#sk-container-id-1 div.sk-estimator:hover label.sk-toggleable__label-arrow:before {color: black;}#sk-container-id-1 div.sk-toggleable__content {max-height: 0;max-width: 0;overflow: hidden;text-align: left;background-color: #f0f8ff;}#sk-container-id-1 div.sk-toggleable__content pre {margin: 0.2em;color: black;border-radius: 0.25em;background-color: #f0f8ff;}#sk-container-id-1 input.sk-toggleable__control:checked~div.sk-toggleable__content {max-height: 200px;max-width: 100%;overflow: auto;}#sk-container-id-1 input.sk-toggleable__control:checked~label.sk-toggleable__label-arrow:before {content: \"▾\";}#sk-container-id-1 div.sk-estimator input.sk-toggleable__control:checked~label.sk-toggleable__label {background-color: #d4ebff;}#sk-container-id-1 div.sk-label input.sk-toggleable__control:checked~label.sk-toggleable__label {background-color: #d4ebff;}#sk-container-id-1 input.sk-hidden--visually {border: 0;clip: rect(1px 1px 1px 1px);clip: rect(1px, 1px, 1px, 1px);height: 1px;margin: -1px;overflow: hidden;padding: 0;position: absolute;width: 1px;}#sk-container-id-1 div.sk-estimator {font-family: monospace;background-color: #f0f8ff;border: 1px dotted black;border-radius: 0.25em;box-sizing: border-box;margin-bottom: 0.5em;}#sk-container-id-1 div.sk-estimator:hover {background-color: #d4ebff;}#sk-container-id-1 div.sk-parallel-item::after {content: \"\";width: 100%;border-bottom: 1px solid gray;flex-grow: 1;}#sk-container-id-1 div.sk-label:hover label.sk-toggleable__label {background-color: #d4ebff;}#sk-container-id-1 div.sk-serial::before {content: \"\";position: absolute;border-left: 1px solid gray;box-sizing: border-box;top: 0;bottom: 0;left: 50%;z-index: 0;}#sk-container-id-1 div.sk-serial {display: flex;flex-direction: column;align-items: center;background-color: white;padding-right: 0.2em;padding-left: 0.2em;position: relative;}#sk-container-id-1 div.sk-item {position: relative;z-index: 1;}#sk-container-id-1 div.sk-parallel {display: flex;align-items: stretch;justify-content: center;background-color: white;position: relative;}#sk-container-id-1 div.sk-item::before, #sk-container-id-1 div.sk-parallel-item::before {content: \"\";position: absolute;border-left: 1px solid gray;box-sizing: border-box;top: 0;bottom: 0;left: 50%;z-index: -1;}#sk-container-id-1 div.sk-parallel-item {display: flex;flex-direction: column;z-index: 1;position: relative;background-color: white;}#sk-container-id-1 div.sk-parallel-item:first-child::after {align-self: flex-end;width: 50%;}#sk-container-id-1 div.sk-parallel-item:last-child::after {align-self: flex-start;width: 50%;}#sk-container-id-1 div.sk-parallel-item:only-child::after {width: 0;}#sk-container-id-1 div.sk-dashed-wrapped {border: 1px dashed gray;margin: 0 0.4em 0.5em 0.4em;box-sizing: border-box;padding-bottom: 0.4em;background-color: white;}#sk-container-id-1 div.sk-label label {font-family: monospace;font-weight: bold;display: inline-block;line-height: 1.2em;}#sk-container-id-1 div.sk-label-container {text-align: center;}#sk-container-id-1 div.sk-container {/* jupyter's `normalize.less` sets `[hidden] { display: none; }` but bootstrap.min.css set `[hidden] { display: none !important; }` so we also need the `!important` here to be able to override the default hidden behavior on the sphinx rendered scikit-learn.org. See: https://github.com/scikit-learn/scikit-learn/issues/21755 */display: inline-block !important;position: relative;}#sk-container-id-1 div.sk-text-repr-fallback {display: none;}</style><div id=\"sk-container-id-1\" class=\"sk-top-container\"><div class=\"sk-text-repr-fallback\"><pre>LogisticRegression(max_iter=700)</pre><b>In a Jupyter environment, please rerun this cell to show the HTML representation or trust the notebook. <br />On GitHub, the HTML representation is unable to render, please try loading this page with nbviewer.org.</b></div><div class=\"sk-container\" hidden><div class=\"sk-item\"><div class=\"sk-estimator sk-toggleable\"><input class=\"sk-toggleable__control sk-hidden--visually\" id=\"sk-estimator-id-1\" type=\"checkbox\" checked><label for=\"sk-estimator-id-1\" class=\"sk-toggleable__label sk-toggleable__label-arrow\">LogisticRegression</label><div class=\"sk-toggleable__content\"><pre>LogisticRegression(max_iter=700)</pre></div></div></div></div></div>"
      ],
      "text/plain": [
       "LogisticRegression(max_iter=700)"
      ]
     },
     "execution_count": 28,
     "metadata": {},
     "output_type": "execute_result"
    }
   ],
   "source": [
    "# Fitting to logisticRegression model.\n",
    "logisreg.fit(X_train_base_vec,y_train_base)"
   ]
  },
  {
   "cell_type": "code",
   "execution_count": 29,
   "id": "6b1768fb-964c-494b-83a1-01e0c92bceac",
   "metadata": {},
   "outputs": [
    {
     "data": {
      "text/plain": [
       "array([0, 0, 0, ..., 1, 1, 0], dtype=int64)"
      ]
     },
     "execution_count": 29,
     "metadata": {},
     "output_type": "execute_result"
    }
   ],
   "source": [
    "# Check the prediction from test results\n",
    "logisreg.predict(X_test_base_vec)"
   ]
  },
  {
   "cell_type": "code",
   "execution_count": 30,
   "id": "19137a30-6d51-45b3-b0b0-e1fb3a3dfb24",
   "metadata": {},
   "outputs": [
    {
     "data": {
      "text/plain": [
       "0.9709536307961505"
      ]
     },
     "execution_count": 30,
     "metadata": {},
     "output_type": "execute_result"
    }
   ],
   "source": [
    "# Check the training score\n",
    "logisreg.score(X_train_base_vec, y_train_base)"
   ]
  },
  {
   "cell_type": "code",
   "execution_count": 31,
   "id": "67733f56-e19e-44b4-82df-eadd3938b5a3",
   "metadata": {},
   "outputs": [
    {
     "data": {
      "text/plain": [
       "0.8863517060367454"
      ]
     },
     "execution_count": 31,
     "metadata": {},
     "output_type": "execute_result"
    }
   ],
   "source": [
    "# Check the train score\n",
    "logisreg.score(X_test_base_vec, y_test_base)"
   ]
  },
  {
   "cell_type": "code",
   "execution_count": 32,
   "id": "715f23df-288c-48d9-9f4a-90f27e6abdfb",
   "metadata": {},
   "outputs": [
    {
     "data": {
      "text/plain": [
       "array([[3450,  360],\n",
       "       [ 506, 3304]], dtype=int64)"
      ]
     },
     "execution_count": 32,
     "metadata": {},
     "output_type": "execute_result"
    }
   ],
   "source": [
    "# Get the confusion matrix from the predicted labels and compared to true labels\n",
    "confusion_matrix(y_test_base, logisreg.predict(X_test_base_vec))"
   ]
  },
  {
   "cell_type": "code",
   "execution_count": 33,
   "id": "5a3e3b75-57a9-47dd-91ee-93dbbf2b4599",
   "metadata": {},
   "outputs": [
    {
     "data": {
      "image/png": "[encoded data removed]",
      "text/plain": [
       "<Figure size 640x480 with 2 Axes>"
      ]
     },
     "metadata": {},
     "output_type": "display_data"
    }
   ],
   "source": [
    "# Plotting the confusion matrix\n",
    "cm_base = confusion_matrix(y_test_base, logisreg.predict(X_test_base_vec))\n",
    "dist = ConfusionMatrixDisplay(confusion_matrix=cm_base, display_labels=['depression', 'anxiety'])\n",
    "dist.plot()\n",
    "plt.grid(False)"
   ]
  },
  {
   "cell_type": "markdown",
   "id": "2eea69a2-edab-468e-aa1b-5e01f876c566",
   "metadata": {},
   "source": [
    "- The Base Model of using CountVectorizer and Logistic Regression has provided a good baseline model of classifying 'Anxiety' and 'Depression' with scores of 88.6% accuracy. \n",
    "- However, the train score is 97.1% which is higher than the test score which suggest that it is overfitted.\n",
    "- It is also observed that the dimensionality is too high where the number of columns is more than the number of rows."
   ]
  },
  {
   "cell_type": "markdown",
   "id": "b6bdc8ef-9e4c-4376-a2f2-788816d71bc3",
   "metadata": {},
   "source": [
    "# Pre-Processing\n",
    "- Regex\n",
    "- Remove duplicated rows\n",
    "- Tokenizing (Via-Vectorization)\n",
    "- Lemmatizing/Stemming (Via-Vectorization)\n",
    "- Stop word removal (Via-Vectorization + Custom Words)"
   ]
  },
  {
   "cell_type": "markdown",
   "id": "c6d0da58-67b9-40f0-a8b4-cd55b3fe7af5",
   "metadata": {},
   "source": [
    "## Regex \n",
    "- To retrive only characters and remove special characters and numbers"
   ]
  },
  {
   "cell_type": "code",
   "execution_count": 34,
   "id": "56a6bfb8-76cd-460e-b0ee-8198244a2a37",
   "metadata": {},
   "outputs": [],
   "source": [
    "# Creating a Regex function to select only text .\n",
    "def split_it(text):\n",
    "    x = re.findall(\"[a-zA-Z]+\", str(text))\n",
    "    return(' '.join(x))"
   ]
  },
  {
   "cell_type": "code",
   "execution_count": 35,
   "id": "e75f0a69-eff8-4fd9-aa42-01694952dab3",
   "metadata": {},
   "outputs": [],
   "source": [
    "# Creating a new column 'title_text_re'\n",
    "anxiety_depression['title_text_re'] = anxiety_depression['title_text'].apply(split_it)"
   ]
  },
  {
   "cell_type": "code",
   "execution_count": 36,
   "id": "6af7663e-ef67-4c5e-b112-a75a0b9d07f3",
   "metadata": {},
   "outputs": [
    {
     "data": {
      "text/html": [
       "<div>\n",
       "<style scoped>\n",
       "    .dataframe tbody tr th:only-of-type {\n",
       "        vertical-align: middle;\n",
       "    }\n",
       "\n",
       "    .dataframe tbody tr th {\n",
       "        vertical-align: top;\n",
       "    }\n",
       "\n",
       "    .dataframe thead th {\n",
       "        text-align: right;\n",
       "    }\n",
       "</style>\n",
       "<table border=\"1\" class=\"dataframe\">\n",
       "  <thead>\n",
       "    <tr style=\"text-align: right;\">\n",
       "      <th></th>\n",
       "      <th>is_anxiety</th>\n",
       "      <th>title_text</th>\n",
       "      <th>date_time</th>\n",
       "      <th>title_text_re</th>\n",
       "    </tr>\n",
       "  </thead>\n",
       "  <tbody>\n",
       "    <tr>\n",
       "      <th>0</th>\n",
       "      <td>1</td>\n",
       "      <td>Aching across chest and stomach and tiredness ...</td>\n",
       "      <td>2022-10-03 07:50:04</td>\n",
       "      <td>Aching across chest and stomach and tiredness ...</td>\n",
       "    </tr>\n",
       "    <tr>\n",
       "      <th>1</th>\n",
       "      <td>1</td>\n",
       "      <td>Very cold hands and feet while anxious Hey, so...</td>\n",
       "      <td>2022-10-03 07:49:48</td>\n",
       "      <td>Very cold hands and feet while anxious Hey so ...</td>\n",
       "    </tr>\n",
       "    <tr>\n",
       "      <th>2</th>\n",
       "      <td>1</td>\n",
       "      <td>Feeling of lost sensation I keep feeling like ...</td>\n",
       "      <td>2022-10-03 07:42:30</td>\n",
       "      <td>Feeling of lost sensation I keep feeling like ...</td>\n",
       "    </tr>\n",
       "    <tr>\n",
       "      <th>3</th>\n",
       "      <td>1</td>\n",
       "      <td>needs someone to talk to.. hi im dealing with ...</td>\n",
       "      <td>2022-10-03 07:41:39</td>\n",
       "      <td>needs someone to talk to hi im dealing with in...</td>\n",
       "    </tr>\n",
       "    <tr>\n",
       "      <th>4</th>\n",
       "      <td>1</td>\n",
       "      <td>Nothing helps my anxiety apart from benzodiaze...</td>\n",
       "      <td>2022-10-03 07:38:55</td>\n",
       "      <td>Nothing helps my anxiety apart from benzodiaze...</td>\n",
       "    </tr>\n",
       "    <tr>\n",
       "      <th>...</th>\n",
       "      <td>...</td>\n",
       "      <td>...</td>\n",
       "      <td>...</td>\n",
       "      <td>...</td>\n",
       "    </tr>\n",
       "    <tr>\n",
       "      <th>30475</th>\n",
       "      <td>0</td>\n",
       "      <td>December 31, 2022 I am so tired of everything ...</td>\n",
       "      <td>2022-08-23 12:13:43</td>\n",
       "      <td>December I am so tired of everything and every...</td>\n",
       "    </tr>\n",
       "    <tr>\n",
       "      <th>30476</th>\n",
       "      <td>0</td>\n",
       "      <td>I feel so empty now I don't know what to do an...</td>\n",
       "      <td>2022-08-23 12:09:46</td>\n",
       "      <td>I feel so empty now I don t know what to do an...</td>\n",
       "    </tr>\n",
       "    <tr>\n",
       "      <th>30477</th>\n",
       "      <td>0</td>\n",
       "      <td>Are psychology and psychotherapy a fraud? I am...</td>\n",
       "      <td>2022-08-23 12:02:33</td>\n",
       "      <td>Are psychology and psychotherapy a fraud I am ...</td>\n",
       "    </tr>\n",
       "    <tr>\n",
       "      <th>30478</th>\n",
       "      <td>0</td>\n",
       "      <td>Tried to kill myself today and can't even do t...</td>\n",
       "      <td>2022-08-23 11:57:36</td>\n",
       "      <td>Tried to kill myself today and can t even do t...</td>\n",
       "    </tr>\n",
       "    <tr>\n",
       "      <th>30479</th>\n",
       "      <td>0</td>\n",
       "      <td>Depression? Mood Swings? Both? I don’t underst...</td>\n",
       "      <td>2022-08-23 11:44:58</td>\n",
       "      <td>Depression Mood Swings Both I don t understand...</td>\n",
       "    </tr>\n",
       "  </tbody>\n",
       "</table>\n",
       "<p>30480 rows × 4 columns</p>\n",
       "</div>"
      ],
      "text/plain": [
       "       is_anxiety                                         title_text  \\\n",
       "0               1  Aching across chest and stomach and tiredness ...   \n",
       "1               1  Very cold hands and feet while anxious Hey, so...   \n",
       "2               1  Feeling of lost sensation I keep feeling like ...   \n",
       "3               1  needs someone to talk to.. hi im dealing with ...   \n",
       "4               1  Nothing helps my anxiety apart from benzodiaze...   \n",
       "...           ...                                                ...   \n",
       "30475           0  December 31, 2022 I am so tired of everything ...   \n",
       "30476           0  I feel so empty now I don't know what to do an...   \n",
       "30477           0  Are psychology and psychotherapy a fraud? I am...   \n",
       "30478           0  Tried to kill myself today and can't even do t...   \n",
       "30479           0  Depression? Mood Swings? Both? I don’t underst...   \n",
       "\n",
       "                 date_time                                      title_text_re  \n",
       "0      2022-10-03 07:50:04  Aching across chest and stomach and tiredness ...  \n",
       "1      2022-10-03 07:49:48  Very cold hands and feet while anxious Hey so ...  \n",
       "2      2022-10-03 07:42:30  Feeling of lost sensation I keep feeling like ...  \n",
       "3      2022-10-03 07:41:39  needs someone to talk to hi im dealing with in...  \n",
       "4      2022-10-03 07:38:55  Nothing helps my anxiety apart from benzodiaze...  \n",
       "...                    ...                                                ...  \n",
       "30475  2022-08-23 12:13:43  December I am so tired of everything and every...  \n",
       "30476  2022-08-23 12:09:46  I feel so empty now I don t know what to do an...  \n",
       "30477  2022-08-23 12:02:33  Are psychology and psychotherapy a fraud I am ...  \n",
       "30478  2022-08-23 11:57:36  Tried to kill myself today and can t even do t...  \n",
       "30479  2022-08-23 11:44:58  Depression Mood Swings Both I don t understand...  \n",
       "\n",
       "[30480 rows x 4 columns]"
      ]
     },
     "execution_count": 36,
     "metadata": {},
     "output_type": "execute_result"
    }
   ],
   "source": [
    "anxiety_depression"
   ]
  },
  {
   "cell_type": "code",
   "execution_count": 37,
   "id": "161f98d3-0ed7-4b4c-affe-f9442be607c2",
   "metadata": {},
   "outputs": [
    {
     "data": {
      "text/plain": [
       "1"
      ]
     },
     "execution_count": 37,
     "metadata": {},
     "output_type": "execute_result"
    }
   ],
   "source": [
    "# Count how many columns that is not able to extract the text\n",
    "(anxiety_depression['title_text_re'] == '').sum()"
   ]
  },
  {
   "cell_type": "code",
   "execution_count": 38,
   "id": "79fe6c1b-d3d7-46a2-b614-a47847ccff99",
   "metadata": {},
   "outputs": [
    {
     "data": {
      "text/html": [
       "<div>\n",
       "<style scoped>\n",
       "    .dataframe tbody tr th:only-of-type {\n",
       "        vertical-align: middle;\n",
       "    }\n",
       "\n",
       "    .dataframe tbody tr th {\n",
       "        vertical-align: top;\n",
       "    }\n",
       "\n",
       "    .dataframe thead th {\n",
       "        text-align: right;\n",
       "    }\n",
       "</style>\n",
       "<table border=\"1\" class=\"dataframe\">\n",
       "  <thead>\n",
       "    <tr style=\"text-align: right;\">\n",
       "      <th></th>\n",
       "      <th>is_anxiety</th>\n",
       "      <th>title_text</th>\n",
       "      <th>date_time</th>\n",
       "      <th>title_text_re</th>\n",
       "    </tr>\n",
       "  </thead>\n",
       "  <tbody>\n",
       "    <tr>\n",
       "      <th>30030</th>\n",
       "      <td>0</td>\n",
       "      <td>𝕨𝕙𝕒𝕥 𝕒 𝕝𝕠𝕒𝕕 𝕠𝕗 𝕠𝕝𝕕 𝕓𝕠𝕝𝕝𝕠𝕔𝕜𝕤 ☠︎︎ Ⓢ︎Ⓞ︎Ⓜ︎Ⓔ︎Ⓑ︎Ⓞ︎Ⓓ︎...</td>\n",
       "      <td>2022-08-24 18:03:11</td>\n",
       "      <td></td>\n",
       "    </tr>\n",
       "  </tbody>\n",
       "</table>\n",
       "</div>"
      ],
      "text/plain": [
       "       is_anxiety                                         title_text  \\\n",
       "30030           0  𝕨𝕙𝕒𝕥 𝕒 𝕝𝕠𝕒𝕕 𝕠𝕗 𝕠𝕝𝕕 𝕓𝕠𝕝𝕝𝕠𝕔𝕜𝕤 ☠︎︎ Ⓢ︎Ⓞ︎Ⓜ︎Ⓔ︎Ⓑ︎Ⓞ︎Ⓓ︎...   \n",
       "\n",
       "                 date_time title_text_re  \n",
       "30030  2022-08-24 18:03:11                "
      ]
     },
     "execution_count": 38,
     "metadata": {},
     "output_type": "execute_result"
    }
   ],
   "source": [
    "# Regex cannot detect this type of font, there is no output\n",
    "anxiety_depression[anxiety_depression['title_text_re'] == '']"
   ]
  },
  {
   "cell_type": "code",
   "execution_count": 39,
   "id": "8c5a7299-e59a-4d77-b727-6b8d43015da9",
   "metadata": {},
   "outputs": [],
   "source": [
    "# Since there is only one column that cannot be processed, it will be dropped\n",
    "anxiety_depression.drop(index=30030,inplace=True)"
   ]
  },
  {
   "cell_type": "markdown",
   "id": "9bc106b0-888e-4639-9f99-419031400a96",
   "metadata": {},
   "source": [
    "## Removing duplicated Rows"
   ]
  },
  {
   "cell_type": "code",
   "execution_count": 40,
   "id": "3e547a70-75eb-4b15-a9a8-c5058930d490",
   "metadata": {},
   "outputs": [
    {
     "data": {
      "text/plain": [
       "572"
      ]
     },
     "execution_count": 40,
     "metadata": {},
     "output_type": "execute_result"
    }
   ],
   "source": [
    "# Check if there are any duplicated rows \n",
    "anxiety_depression['title_text_re'].duplicated().sum()"
   ]
  },
  {
   "cell_type": "code",
   "execution_count": 41,
   "id": "c2118dcd-18d4-4cfd-ae21-6b2bc8c6d967",
   "metadata": {},
   "outputs": [
    {
     "name": "stdout",
     "output_type": "stream",
     "text": [
      "<class 'pandas.core.frame.DataFrame'>\n",
      "Int64Index: 30479 entries, 0 to 30479\n",
      "Data columns (total 4 columns):\n",
      " #   Column         Non-Null Count  Dtype \n",
      "---  ------         --------------  ----- \n",
      " 0   is_anxiety     30479 non-null  int64 \n",
      " 1   title_text     30479 non-null  object\n",
      " 2   date_time      30479 non-null  object\n",
      " 3   title_text_re  30479 non-null  object\n",
      "dtypes: int64(1), object(3)\n",
      "memory usage: 1.2+ MB\n"
     ]
    }
   ],
   "source": [
    "anxiety_depression.info()"
   ]
  },
  {
   "cell_type": "code",
   "execution_count": 42,
   "id": "7b63960b-7750-4eea-bb33-ddf7b712c776",
   "metadata": {},
   "outputs": [],
   "source": [
    "# Since there are 572 duplicated rows, it shalled be dropped as it is only 1.87% of data.\n",
    "anxiety_depression.drop_duplicates(subset='title_text_re',ignore_index=True,inplace=True)"
   ]
  },
  {
   "cell_type": "markdown",
   "id": "cbe96406-2e17-403e-b8b6-dccffd396ffb",
   "metadata": {},
   "source": [
    "## Stopwords\n",
    "Create a `custom_stop_words` list with stop words list from CountVectorizer and TfidfVectorizer and from EDA in the next section"
   ]
  },
  {
   "cell_type": "code",
   "execution_count": 43,
   "id": "b4e424da-097c-4162-86c1-48d41889a106",
   "metadata": {},
   "outputs": [
    {
     "name": "stdout",
     "output_type": "stream",
     "text": [
      "frozenset({'i', 'hundred', 'his', 'fifty', 'namely', 'so', 'behind', 'such', 'own', 'whatever', 'the', 'twenty', 'thereupon', 'but', 'without', 'up', 'themselves', 'then', 'therein', 'toward', 'too', 'became', 'becoming', 'afterwards', 'also', 'seem', 'seems', 'whereby', 'what', 'anyhow', 'mine', 'rather', 'latter', 'put', 'describe', 'formerly', 'cry', 'off', 'con', 'through', 'sixty', 'other', 'been', 'per', 'detail', 'nevertheless', 'co', 'only', 'from', 'keep', 'three', 'give', 'whereafter', 'made', 'thereafter', 'further', 'etc', 'full', 'well', 'any', 'that', 'until', 'at', 'therefore', 'before', 'somehow', 'has', 'below', 'them', 'less', 'first', 'they', 'more', 'had', 'nothing', 'eg', 'inc', 'least', 'where', 'somewhere', 'now', 'these', 'always', 'everything', 'may', 'him', 'twelve', 'her', 'hereafter', 'must', 'nowhere', 'never', 'fill', 'ours', 'each', 'she', 'none', 'can', 'nobody', 'everyone', 'done', 'get', 'being', 'else', 'many', 'side', 'during', 'might', 'otherwise', 'there', 'forty', 'you', 'become', 'call', 'former', 'my', 'anything', 'two', 'hers', 'another', 'cant', 'herein', 'whenever', 'go', 'thereby', 'often', 'thick', 'an', 'throughout', 'hasnt', 'mostly', 'everywhere', 'indeed', 'both', 'do', 'four', 'whoever', 'due', 'others', 'should', 'anywhere', 'against', 'un', 'fifteen', 'although', 'whereas', 'fire', 'along', 'are', 'same', 'those', 'eight', 'across', 'all', 'how', 'whether', 'me', 'every', 'show', 'for', 'still', 'please', 'since', 'ie', 'beyond', 'perhaps', 'with', 'again', 'whither', 'neither', 'itself', 'could', 'either', 'himself', 'eleven', 'into', 'no', 'however', 'to', 'upon', 'together', 'except', 'he', 'on', 'elsewhere', 'few', 'wherever', 'ourselves', 'after', 'beforehand', 'wherein', 'this', 'amongst', 'move', 'thru', 'front', 'de', 'or', 'most', 'us', 'your', 'name', 'have', 'our', 'once', 'its', 'because', 'amount', 'serious', 'anyway', 'within', 'not', 'though', 'very', 'is', 'their', 'a', 'out', 'will', 'above', 'if', 'beside', 'last', 'six', 'sincere', 'interest', 'hereby', 'ltd', 'meanwhile', 'yourselves', 'whence', 'something', 'take', 'much', 'find', 'than', 'see', 'who', 'sometime', 'hereupon', 'onto', 'couldnt', 'amoungst', 'was', 'even', 'seeming', 'myself', 'noone', 'several', 'via', 'found', 'herself', 'am', 'mill', 'almost', 'hence', 'as', 'latterly', 'under', 'third', 'moreover', 'enough', 'yours', 'seemed', 'whom', 'in', 'empty', 'down', 'someone', 'top', 'one', 'nor', 'whose', 'about', 'around', 'nine', 'thus', 'of', 'ever', 'by', 'bottom', 'here', 'which', 'over', 'when', 'alone', 'between', 're', 'be', 'thin', 'yourself', 'next', 'ten', 'towards', 'and', 'why', 'yet', 'whole', 'back', 'whereupon', 'five', 'becomes', 'besides', 'among', 'already', 'anyone', 'were', 'it', 'while', 'we', 'cannot', 'part', 'sometimes', 'system', 'thence', 'would', 'some', 'bill'})\n"
     ]
    }
   ],
   "source": [
    "# Check the stopwords in CountVectorizer\n",
    "print(CountVectorizer(stop_words = 'english').get_stop_words())"
   ]
  },
  {
   "cell_type": "code",
   "execution_count": 44,
   "id": "f41c20fb-1206-4852-8116-a0fadd9728ea",
   "metadata": {},
   "outputs": [
    {
     "name": "stdout",
     "output_type": "stream",
     "text": [
      "frozenset({'i', 'hundred', 'his', 'fifty', 'namely', 'so', 'behind', 'such', 'own', 'whatever', 'the', 'twenty', 'thereupon', 'but', 'without', 'up', 'themselves', 'then', 'therein', 'toward', 'too', 'became', 'becoming', 'afterwards', 'also', 'seem', 'seems', 'whereby', 'what', 'anyhow', 'mine', 'rather', 'latter', 'put', 'describe', 'formerly', 'cry', 'off', 'con', 'through', 'sixty', 'other', 'been', 'per', 'detail', 'nevertheless', 'co', 'only', 'from', 'keep', 'three', 'give', 'whereafter', 'made', 'thereafter', 'further', 'etc', 'full', 'well', 'any', 'that', 'until', 'at', 'therefore', 'before', 'somehow', 'has', 'below', 'them', 'less', 'first', 'they', 'more', 'had', 'nothing', 'eg', 'inc', 'least', 'where', 'somewhere', 'now', 'these', 'always', 'everything', 'may', 'him', 'twelve', 'her', 'hereafter', 'must', 'nowhere', 'never', 'fill', 'ours', 'each', 'she', 'none', 'can', 'nobody', 'everyone', 'done', 'get', 'being', 'else', 'many', 'side', 'during', 'might', 'otherwise', 'there', 'forty', 'you', 'become', 'call', 'former', 'my', 'anything', 'two', 'hers', 'another', 'cant', 'herein', 'whenever', 'go', 'thereby', 'often', 'thick', 'an', 'throughout', 'hasnt', 'mostly', 'everywhere', 'indeed', 'both', 'do', 'four', 'whoever', 'due', 'others', 'should', 'anywhere', 'against', 'un', 'fifteen', 'although', 'whereas', 'fire', 'along', 'are', 'same', 'those', 'eight', 'across', 'all', 'how', 'whether', 'me', 'every', 'show', 'for', 'still', 'please', 'since', 'ie', 'beyond', 'perhaps', 'with', 'again', 'whither', 'neither', 'itself', 'could', 'either', 'himself', 'eleven', 'into', 'no', 'however', 'to', 'upon', 'together', 'except', 'he', 'on', 'elsewhere', 'few', 'wherever', 'ourselves', 'after', 'beforehand', 'wherein', 'this', 'amongst', 'move', 'thru', 'front', 'de', 'or', 'most', 'us', 'your', 'name', 'have', 'our', 'once', 'its', 'because', 'amount', 'serious', 'anyway', 'within', 'not', 'though', 'very', 'is', 'their', 'a', 'out', 'will', 'above', 'if', 'beside', 'last', 'six', 'sincere', 'interest', 'hereby', 'ltd', 'meanwhile', 'yourselves', 'whence', 'something', 'take', 'much', 'find', 'than', 'see', 'who', 'sometime', 'hereupon', 'onto', 'couldnt', 'amoungst', 'was', 'even', 'seeming', 'myself', 'noone', 'several', 'via', 'found', 'herself', 'am', 'mill', 'almost', 'hence', 'as', 'latterly', 'under', 'third', 'moreover', 'enough', 'yours', 'seemed', 'whom', 'in', 'empty', 'down', 'someone', 'top', 'one', 'nor', 'whose', 'about', 'around', 'nine', 'thus', 'of', 'ever', 'by', 'bottom', 'here', 'which', 'over', 'when', 'alone', 'between', 're', 'be', 'thin', 'yourself', 'next', 'ten', 'towards', 'and', 'why', 'yet', 'whole', 'back', 'whereupon', 'five', 'becomes', 'besides', 'among', 'already', 'anyone', 'were', 'it', 'while', 'we', 'cannot', 'part', 'sometimes', 'system', 'thence', 'would', 'some', 'bill'})\n"
     ]
    }
   ],
   "source": [
    "# Check the stopwords in TFIDFVectorizer\n",
    "print(TfidfVectorizer(stop_words = 'english').get_stop_words())"
   ]
  },
  {
   "cell_type": "code",
   "execution_count": 45,
   "id": "a2ba5060-b33a-4f22-95bf-1f89493ed523",
   "metadata": {},
   "outputs": [],
   "source": [
    "# Custom stopwords that were gathered from the dataset that are either not relevant or title words\n",
    "stop_words = frozenset(['removed','deleted','anxiety','anxious','depression','depressed'])"
   ]
  },
  {
   "cell_type": "code",
   "execution_count": 46,
   "id": "6cbe43d3-a898-49f8-8e2b-822aa923dd23",
   "metadata": {},
   "outputs": [],
   "source": [
    "# Since CountVectorizer and TFIDF has the same stopwords, we add in to our stop word list to create a custom_stop_word list\n",
    "custom_stop_words = stop_words.union(CountVectorizer(stop_words = 'english').get_stop_words())"
   ]
  },
  {
   "cell_type": "code",
   "execution_count": 47,
   "id": "f24cdb6a-5973-4df5-9842-3ac19f9ac00a",
   "metadata": {
    "scrolled": true,
    "tags": []
   },
   "outputs": [
    {
     "data": {
      "text/plain": [
       "frozenset({'a',\n",
       "           'about',\n",
       "           'above',\n",
       "           'across',\n",
       "           'after',\n",
       "           'afterwards',\n",
       "           'again',\n",
       "           'against',\n",
       "           'all',\n",
       "           'almost',\n",
       "           'alone',\n",
       "           'along',\n",
       "           'already',\n",
       "           'also',\n",
       "           'although',\n",
       "           'always',\n",
       "           'am',\n",
       "           'among',\n",
       "           'amongst',\n",
       "           'amoungst',\n",
       "           'amount',\n",
       "           'an',\n",
       "           'and',\n",
       "           'another',\n",
       "           'anxiety',\n",
       "           'anxious',\n",
       "           'any',\n",
       "           'anyhow',\n",
       "           'anyone',\n",
       "           'anything',\n",
       "           'anyway',\n",
       "           'anywhere',\n",
       "           'are',\n",
       "           'around',\n",
       "           'as',\n",
       "           'at',\n",
       "           'back',\n",
       "           'be',\n",
       "           'became',\n",
       "           'because',\n",
       "           'become',\n",
       "           'becomes',\n",
       "           'becoming',\n",
       "           'been',\n",
       "           'before',\n",
       "           'beforehand',\n",
       "           'behind',\n",
       "           'being',\n",
       "           'below',\n",
       "           'beside',\n",
       "           'besides',\n",
       "           'between',\n",
       "           'beyond',\n",
       "           'bill',\n",
       "           'both',\n",
       "           'bottom',\n",
       "           'but',\n",
       "           'by',\n",
       "           'call',\n",
       "           'can',\n",
       "           'cannot',\n",
       "           'cant',\n",
       "           'co',\n",
       "           'con',\n",
       "           'could',\n",
       "           'couldnt',\n",
       "           'cry',\n",
       "           'de',\n",
       "           'deleted',\n",
       "           'depressed',\n",
       "           'depression',\n",
       "           'describe',\n",
       "           'detail',\n",
       "           'do',\n",
       "           'done',\n",
       "           'down',\n",
       "           'due',\n",
       "           'during',\n",
       "           'each',\n",
       "           'eg',\n",
       "           'eight',\n",
       "           'either',\n",
       "           'eleven',\n",
       "           'else',\n",
       "           'elsewhere',\n",
       "           'empty',\n",
       "           'enough',\n",
       "           'etc',\n",
       "           'even',\n",
       "           'ever',\n",
       "           'every',\n",
       "           'everyone',\n",
       "           'everything',\n",
       "           'everywhere',\n",
       "           'except',\n",
       "           'few',\n",
       "           'fifteen',\n",
       "           'fifty',\n",
       "           'fill',\n",
       "           'find',\n",
       "           'fire',\n",
       "           'first',\n",
       "           'five',\n",
       "           'for',\n",
       "           'former',\n",
       "           'formerly',\n",
       "           'forty',\n",
       "           'found',\n",
       "           'four',\n",
       "           'from',\n",
       "           'front',\n",
       "           'full',\n",
       "           'further',\n",
       "           'get',\n",
       "           'give',\n",
       "           'go',\n",
       "           'had',\n",
       "           'has',\n",
       "           'hasnt',\n",
       "           'have',\n",
       "           'he',\n",
       "           'hence',\n",
       "           'her',\n",
       "           'here',\n",
       "           'hereafter',\n",
       "           'hereby',\n",
       "           'herein',\n",
       "           'hereupon',\n",
       "           'hers',\n",
       "           'herself',\n",
       "           'him',\n",
       "           'himself',\n",
       "           'his',\n",
       "           'how',\n",
       "           'however',\n",
       "           'hundred',\n",
       "           'i',\n",
       "           'ie',\n",
       "           'if',\n",
       "           'in',\n",
       "           'inc',\n",
       "           'indeed',\n",
       "           'interest',\n",
       "           'into',\n",
       "           'is',\n",
       "           'it',\n",
       "           'its',\n",
       "           'itself',\n",
       "           'keep',\n",
       "           'last',\n",
       "           'latter',\n",
       "           'latterly',\n",
       "           'least',\n",
       "           'less',\n",
       "           'ltd',\n",
       "           'made',\n",
       "           'many',\n",
       "           'may',\n",
       "           'me',\n",
       "           'meanwhile',\n",
       "           'might',\n",
       "           'mill',\n",
       "           'mine',\n",
       "           'more',\n",
       "           'moreover',\n",
       "           'most',\n",
       "           'mostly',\n",
       "           'move',\n",
       "           'much',\n",
       "           'must',\n",
       "           'my',\n",
       "           'myself',\n",
       "           'name',\n",
       "           'namely',\n",
       "           'neither',\n",
       "           'never',\n",
       "           'nevertheless',\n",
       "           'next',\n",
       "           'nine',\n",
       "           'no',\n",
       "           'nobody',\n",
       "           'none',\n",
       "           'noone',\n",
       "           'nor',\n",
       "           'not',\n",
       "           'nothing',\n",
       "           'now',\n",
       "           'nowhere',\n",
       "           'of',\n",
       "           'off',\n",
       "           'often',\n",
       "           'on',\n",
       "           'once',\n",
       "           'one',\n",
       "           'only',\n",
       "           'onto',\n",
       "           'or',\n",
       "           'other',\n",
       "           'others',\n",
       "           'otherwise',\n",
       "           'our',\n",
       "           'ours',\n",
       "           'ourselves',\n",
       "           'out',\n",
       "           'over',\n",
       "           'own',\n",
       "           'part',\n",
       "           'per',\n",
       "           'perhaps',\n",
       "           'please',\n",
       "           'put',\n",
       "           'rather',\n",
       "           're',\n",
       "           'removed',\n",
       "           'same',\n",
       "           'see',\n",
       "           'seem',\n",
       "           'seemed',\n",
       "           'seeming',\n",
       "           'seems',\n",
       "           'serious',\n",
       "           'several',\n",
       "           'she',\n",
       "           'should',\n",
       "           'show',\n",
       "           'side',\n",
       "           'since',\n",
       "           'sincere',\n",
       "           'six',\n",
       "           'sixty',\n",
       "           'so',\n",
       "           'some',\n",
       "           'somehow',\n",
       "           'someone',\n",
       "           'something',\n",
       "           'sometime',\n",
       "           'sometimes',\n",
       "           'somewhere',\n",
       "           'still',\n",
       "           'such',\n",
       "           'system',\n",
       "           'take',\n",
       "           'ten',\n",
       "           'than',\n",
       "           'that',\n",
       "           'the',\n",
       "           'their',\n",
       "           'them',\n",
       "           'themselves',\n",
       "           'then',\n",
       "           'thence',\n",
       "           'there',\n",
       "           'thereafter',\n",
       "           'thereby',\n",
       "           'therefore',\n",
       "           'therein',\n",
       "           'thereupon',\n",
       "           'these',\n",
       "           'they',\n",
       "           'thick',\n",
       "           'thin',\n",
       "           'third',\n",
       "           'this',\n",
       "           'those',\n",
       "           'though',\n",
       "           'three',\n",
       "           'through',\n",
       "           'throughout',\n",
       "           'thru',\n",
       "           'thus',\n",
       "           'to',\n",
       "           'together',\n",
       "           'too',\n",
       "           'top',\n",
       "           'toward',\n",
       "           'towards',\n",
       "           'twelve',\n",
       "           'twenty',\n",
       "           'two',\n",
       "           'un',\n",
       "           'under',\n",
       "           'until',\n",
       "           'up',\n",
       "           'upon',\n",
       "           'us',\n",
       "           'very',\n",
       "           'via',\n",
       "           'was',\n",
       "           'we',\n",
       "           'well',\n",
       "           'were',\n",
       "           'what',\n",
       "           'whatever',\n",
       "           'when',\n",
       "           'whence',\n",
       "           'whenever',\n",
       "           'where',\n",
       "           'whereafter',\n",
       "           'whereas',\n",
       "           'whereby',\n",
       "           'wherein',\n",
       "           'whereupon',\n",
       "           'wherever',\n",
       "           'whether',\n",
       "           'which',\n",
       "           'while',\n",
       "           'whither',\n",
       "           'who',\n",
       "           'whoever',\n",
       "           'whole',\n",
       "           'whom',\n",
       "           'whose',\n",
       "           'why',\n",
       "           'will',\n",
       "           'with',\n",
       "           'within',\n",
       "           'without',\n",
       "           'would',\n",
       "           'yet',\n",
       "           'you',\n",
       "           'your',\n",
       "           'yours',\n",
       "           'yourself',\n",
       "           'yourselves'})"
      ]
     },
     "execution_count": 47,
     "metadata": {},
     "output_type": "execute_result"
    }
   ],
   "source": [
    "custom_stop_words"
   ]
  },
  {
   "cell_type": "code",
   "execution_count": 48,
   "id": "256eb5b3-354c-40e0-a7a2-60dd390bf6f7",
   "metadata": {},
   "outputs": [],
   "source": [
    "# Removing stop_words\n",
    "cvec2 = CountVectorizer(stop_words = custom_stop_words)"
   ]
  },
  {
   "cell_type": "code",
   "execution_count": 49,
   "id": "5386b137-54b7-4a34-91f5-86685e151fee",
   "metadata": {},
   "outputs": [],
   "source": [
    "X_train_base_vec2 = cvec2.fit_transform(X_train_base)"
   ]
  },
  {
   "cell_type": "code",
   "execution_count": 50,
   "id": "bac0a72f-d5d6-4bec-97e9-f390c74ec624",
   "metadata": {},
   "outputs": [],
   "source": [
    "X_train_base_df = pd.DataFrame(X_train_base_vec2.toarray(), columns=cvec2.get_feature_names_out())"
   ]
  },
  {
   "cell_type": "markdown",
   "id": "698f5a71-8bba-486e-b274-82df3556deae",
   "metadata": {},
   "source": [
    "# EDA"
   ]
  },
  {
   "cell_type": "markdown",
   "id": "81d90783-3edf-48c7-bfc3-5ffecb5c83da",
   "metadata": {},
   "source": [
    "## Keywords were identified and removed by adding to the custom stop words list above."
   ]
  },
  {
   "cell_type": "code",
   "execution_count": 51,
   "id": "d20b0eb3-9b9d-49fb-b9a1-701593ed38f5",
   "metadata": {
    "scrolled": true,
    "tags": []
   },
   "outputs": [
    {
     "data": {
      "text/plain": [
       "just       27890\n",
       "like       24767\n",
       "feel       20893\n",
       "don        18382\n",
       "ve         14615\n",
       "know       13616\n",
       "want       11479\n",
       "life       11170\n",
       "time       10438\n",
       "really     10093\n",
       "people      8325\n",
       "going       7546\n",
       "think       7003\n",
       "day         6860\n",
       "help        6701\n",
       "feeling     6403\n",
       "things      6330\n",
       "years       5865\n",
       "work        5571\n",
       "friends     5371\n",
       "bad         5170\n",
       "got         5124\n",
       "make        4647\n",
       "need        4382\n",
       "having      4376\n",
       "anymore     4361\n",
       "talk        4358\n",
       "im          4340\n",
       "better      4322\n",
       "good        4278\n",
       "way         4206\n",
       "getting     4134\n",
       "started     3998\n",
       "ll          3805\n",
       "school      3726\n",
       "felt        3712\n",
       "year        3693\n",
       "didn        3685\n",
       "panic       3681\n",
       "days        3649\n",
       "dtype: int64"
      ]
     },
     "execution_count": 51,
     "metadata": {},
     "output_type": "execute_result"
    }
   ],
   "source": [
    "# Checking the keywords by count using CountVectorizer\n",
    "X_train_base_df.sum().sort_values(ascending=False).head(40)"
   ]
  },
  {
   "cell_type": "code",
   "execution_count": 52,
   "id": "182fce85-6b67-46f9-b820-855934706cee",
   "metadata": {},
   "outputs": [
    {
     "data": {
      "image/png": "[encoded data removed]",
      "text/plain": [
       "<Figure size 1200x1000 with 1 Axes>"
      ]
     },
     "metadata": {},
     "output_type": "display_data"
    }
   ],
   "source": [
    "# Unigram - plot of top 40 (previous plots observed some stopwords that is keyword to the topics which \n",
    "# were removed, till this final version)\n",
    "plt.figure(figsize=(12,10))\n",
    "plt.xlabel('Word Count')\n",
    "plt.ylabel('Most Common Words')\n",
    "plt.title('Top 40 Common Words vs Count')\n",
    "X_train_base_df.sum().sort_values(ascending=False).head(40).plot(kind=\"barh\");"
   ]
  },
  {
   "cell_type": "markdown",
   "id": "01c98898-7ed6-4624-b877-b1946e7d5ed0",
   "metadata": {},
   "source": [
    "## Looking into Bigram and Trigram for keywords"
   ]
  },
  {
   "cell_type": "code",
   "execution_count": 53,
   "id": "d30322bd-16c7-492d-a936-b6a05366365e",
   "metadata": {},
   "outputs": [
    {
     "data": {
      "text/plain": [
       "feel like        10224\n",
       "don know          6998\n",
       "don want          3703\n",
       "just want         2524\n",
       "feels like        2212\n",
       "panic attack      1983\n",
       "panic attacks     1736\n",
       "just feel         1534\n",
       "just don          1365\n",
       "mental health     1348\n",
       "dtype: int64"
      ]
     },
     "execution_count": 53,
     "metadata": {},
     "output_type": "execute_result"
    }
   ],
   "source": [
    "# Bigram\n",
    "# Look at list of most common words for bigram\n",
    "cvec_bi = CountVectorizer(stop_words=custom_stop_words,ngram_range=(2,2), max_features = 10000)\n",
    "vec_bi = cvec_bi.fit_transform(anxiety_depression['title_text_re'])\n",
    "vec_bi_df = pd.DataFrame(vec_bi.todense(), columns=cvec_bi.get_feature_names_out())\n",
    "vec_bi_df.sum().sort_values(ascending=False).head(10)"
   ]
  },
  {
   "cell_type": "code",
   "execution_count": 54,
   "id": "9ebefed0-4da8-44de-957f-5b6829077c1d",
   "metadata": {},
   "outputs": [
    {
     "data": {
      "image/png": "[encoded data removed]",
      "text/plain": [
       "<Figure size 500x500 with 1 Axes>"
      ]
     },
     "metadata": {},
     "output_type": "display_data"
    }
   ],
   "source": [
    "# Bigram - plot of top 5 words\n",
    "plt.figure(figsize=(5,5))\n",
    "plt.xlabel('Word Count')\n",
    "plt.ylabel('Most Common Words')\n",
    "plt.title('Top 5 Common Words vs Count - Bigram')\n",
    "vec_bi_df.sum().sort_values(ascending=False).head(5).plot(kind=\"barh\");"
   ]
  },
  {
   "cell_type": "code",
   "execution_count": 55,
   "id": "bb0be8d1-c6b8-44fd-b8ef-062e80a2ce6d",
   "metadata": {},
   "outputs": [
    {
     "data": {
      "text/plain": [
       "just feel like      535\n",
       "just don know       504\n",
       "don feel like       473\n",
       "don know anymore    397\n",
       "feel like going     318\n",
       "feel like just      288\n",
       "feel like ve        280\n",
       "feel like don       265\n",
       "makes feel like     263\n",
       "don know feel       244\n",
       "dtype: int64"
      ]
     },
     "execution_count": 55,
     "metadata": {},
     "output_type": "execute_result"
    }
   ],
   "source": [
    "#Trigram\n",
    "#Look at list of most common words for trigram\n",
    "cvec_tri = CountVectorizer(stop_words=custom_stop_words,ngram_range=(3,3), max_features = 10000)\n",
    "vec_tri = cvec_tri.fit_transform(anxiety_depression['title_text_re'])\n",
    "vec_tri_df = pd.DataFrame(vec_tri.toarray(), columns=cvec_tri.get_feature_names_out())\n",
    "vec_tri_df.sum().sort_values(ascending=False).head(10)"
   ]
  },
  {
   "cell_type": "code",
   "execution_count": 56,
   "id": "325a1e9b-43ae-468e-9189-53ddab563c35",
   "metadata": {},
   "outputs": [
    {
     "data": {
      "image/png": "[encoded data removed]",
      "text/plain": [
       "<Figure size 500x500 with 1 Axes>"
      ]
     },
     "metadata": {},
     "output_type": "display_data"
    }
   ],
   "source": [
    "#Trigram - plot of top 5 words\n",
    "plt.figure(figsize=(5,5))\n",
    "plt.xlabel('Word Count')\n",
    "plt.ylabel('Most Common Words')\n",
    "plt.title('Top 5 Common Words vs Count - Trigram')\n",
    "vec_tri_df.sum().sort_values(ascending=False).head(5).plot(kind=\"barh\");"
   ]
  },
  {
   "cell_type": "markdown",
   "id": "fc33a528-507c-460b-b5a9-9eda7463e956",
   "metadata": {},
   "source": [
    "From the above, we observed that the bigram and trigram produces the same types of words used in the text. These are not key words in either of the classes. Thus, the custom stop words created fufills the criteria of removing keywords that can easily fall into the classes."
   ]
  },
  {
   "cell_type": "markdown",
   "id": "4fb04d5c-b7dc-4164-aae8-4fc051613cfb",
   "metadata": {},
   "source": [
    "## Exploring the length of posts (word count and character count)"
   ]
  },
  {
   "cell_type": "code",
   "execution_count": 57,
   "id": "dd1ef14c-de01-4910-9cd0-f96f67e2c3a5",
   "metadata": {},
   "outputs": [
    {
     "data": {
      "text/plain": [
       "0         354\n",
       "1        1763\n",
       "2         390\n",
       "3         189\n",
       "4         486\n",
       "         ... \n",
       "29902     976\n",
       "29903     592\n",
       "29904     593\n",
       "29905     475\n",
       "29906     906\n",
       "Name: title_text_re, Length: 29907, dtype: int64"
      ]
     },
     "execution_count": 57,
     "metadata": {},
     "output_type": "execute_result"
    }
   ],
   "source": [
    "anxiety_depression['title_text_re'].apply(len)"
   ]
  },
  {
   "cell_type": "code",
   "execution_count": 58,
   "id": "a42a5e84-8830-4de6-9abe-e28a675f6391",
   "metadata": {},
   "outputs": [],
   "source": [
    "# Creating another column for character count for each post\n",
    "anxiety_depression['status_length'] = anxiety_depression['title_text_re'].apply(len)"
   ]
  },
  {
   "cell_type": "code",
   "execution_count": 59,
   "id": "3cbf33b0-293e-4bc3-a393-fd13ca4f2039",
   "metadata": {},
   "outputs": [
    {
     "data": {
      "text/plain": [
       "0         70\n",
       "1        339\n",
       "2         80\n",
       "3         37\n",
       "4         91\n",
       "        ... \n",
       "29902    206\n",
       "29903    130\n",
       "29904    108\n",
       "29905    105\n",
       "29906    188\n",
       "Name: title_text_re, Length: 29907, dtype: int64"
      ]
     },
     "execution_count": 59,
     "metadata": {},
     "output_type": "execute_result"
    }
   ],
   "source": [
    "anxiety_depression['title_text_re'].apply(lambda n: len(n.split()))"
   ]
  },
  {
   "cell_type": "code",
   "execution_count": 60,
   "id": "7e4ade6f-b65d-43a9-92a7-d46deee921d4",
   "metadata": {},
   "outputs": [],
   "source": [
    "# Creating another column for word count for each post\n",
    "anxiety_depression['status_word_count'] = anxiety_depression['title_text_re'].apply(lambda n: len(n.split()))"
   ]
  },
  {
   "cell_type": "code",
   "execution_count": 61,
   "id": "485ea235-a47e-4467-b7d7-325250497553",
   "metadata": {},
   "outputs": [
    {
     "data": {
      "image/png": "[encoded data removed]",
      "text/plain": [
       "<Figure size 1000x1000 with 2 Axes>"
      ]
     },
     "metadata": {},
     "output_type": "display_data"
    }
   ],
   "source": [
    "# Plots of Word and Character Count and total counts\n",
    "fig, axes = plt.subplots(2, 1, figsize=(10,10))\n",
    "\n",
    "anxiety_depression.hist('status_word_count', ax=axes[0], bins = 50)\n",
    "anxiety_depression.hist('status_length', ax=axes[1], bins = 50)\n",
    "\n",
    "axes[0].set_title('Count of Post of Word Count')\n",
    "axes[1].set_title('Count of Post of Character Length')\n",
    "axes[0].set_xlabel('Word Count')\n",
    "axes[1].set_xlabel('Character Length')\n",
    "axes[0].set_ylabel('Count')\n",
    "axes[1].set_ylabel('Count')\n",
    "axes[0].set_xlim([0,800])\n",
    "axes[1].set_xlim([0,3000])\n",
    "plt.tight_layout()"
   ]
  },
  {
   "cell_type": "code",
   "execution_count": 62,
   "id": "9ee19a42-3277-4f57-96db-023863d801e8",
   "metadata": {},
   "outputs": [
    {
     "data": {
      "text/plain": [
       "96.41889858561541"
      ]
     },
     "execution_count": 62,
     "metadata": {},
     "output_type": "execute_result"
    }
   ],
   "source": [
    "# There are 96.4% of post with less than 512 words.\n",
    "(anxiety_depression['status_word_count']<512).sum()/len(anxiety_depression)*100"
   ]
  },
  {
   "cell_type": "markdown",
   "id": "eb4084e2-69d1-4128-9177-1aa23ccfe90a",
   "metadata": {},
   "source": [
    "It is observed that 96.4% of the post have word count less than 512 words.  \n",
    "Both Word Count and Character length have right tailed distributions"
   ]
  },
  {
   "cell_type": "markdown",
   "id": "ef86e7b9-cc8b-4091-905d-ce7d8f7e1c26",
   "metadata": {},
   "source": [
    "## Exploring the date of the posts"
   ]
  },
  {
   "cell_type": "code",
   "execution_count": 63,
   "id": "1648174a-c9da-4ced-95dc-3a3a00235b19",
   "metadata": {},
   "outputs": [
    {
     "data": {
      "text/plain": [
       "0        2022-10-03 07:50:04\n",
       "1        2022-10-03 07:49:48\n",
       "2        2022-10-03 07:42:30\n",
       "3        2022-10-03 07:41:39\n",
       "4        2022-10-03 07:38:55\n",
       "                ...         \n",
       "29902    2022-08-23 12:13:43\n",
       "29903    2022-08-23 12:09:46\n",
       "29904    2022-08-23 12:02:33\n",
       "29905    2022-08-23 11:57:36\n",
       "29906    2022-08-23 11:44:58\n",
       "Name: date_time, Length: 29907, dtype: object"
      ]
     },
     "execution_count": 63,
     "metadata": {},
     "output_type": "execute_result"
    }
   ],
   "source": [
    "# 'date_time' column was imported as dtype object\n",
    "# The time is based on GMT+8\n",
    "anxiety_depression['date_time']"
   ]
  },
  {
   "cell_type": "code",
   "execution_count": 64,
   "id": "deb67729-fe92-47f3-8553-4efafd63fa6d",
   "metadata": {},
   "outputs": [
    {
     "data": {
      "text/plain": [
       "0    4468\n",
       "1    4335\n",
       "2    4550\n",
       "3    4371\n",
       "4    4029\n",
       "5    3950\n",
       "6    4204\n",
       "Name: date_time, dtype: int64"
      ]
     },
     "execution_count": 64,
     "metadata": {},
     "output_type": "execute_result"
    }
   ],
   "source": [
    "# Converting date_time to datetime format and extract the day of the week\n",
    "# Then count the days\n",
    "# For info, 0:Monday, 1:Tuesday, 2:Wednesday, 3:Thursday, 4:Friday, 5:Saturday, 6:Sunday\n",
    "pd.to_datetime(anxiety_depression['date_time']).dt.dayofweek.value_counts().sort_index()"
   ]
  },
  {
   "cell_type": "code",
   "execution_count": 65,
   "id": "e2215d95-7c65-4fc4-a25d-e93bf468ae62",
   "metadata": {},
   "outputs": [],
   "source": [
    "# Storing the values into a new column\n",
    "anxiety_depression['day'] = pd.to_datetime(anxiety_depression['date_time']).dt.dayofweek"
   ]
  },
  {
   "cell_type": "code",
   "execution_count": 66,
   "id": "4aeb9ddb-e18d-4d2a-98fd-df42332c30f1",
   "metadata": {},
   "outputs": [
    {
     "data": {
      "text/plain": [
       "0    4468\n",
       "1    4335\n",
       "2    4550\n",
       "3    4371\n",
       "4    4029\n",
       "5    3950\n",
       "6    4204\n",
       "Name: day, dtype: int64"
      ]
     },
     "execution_count": 66,
     "metadata": {},
     "output_type": "execute_result"
    }
   ],
   "source": [
    "# Count the All post vs day of week\n",
    "anxiety_depression['day'].value_counts().sort_index()"
   ]
  },
  {
   "cell_type": "code",
   "execution_count": 67,
   "id": "7c5a6e2c-9605-408c-9d36-4afc8c05c203",
   "metadata": {},
   "outputs": [
    {
     "data": {
      "image/png": "[encoded data removed]",
      "text/plain": [
       "<Figure size 640x480 with 1 Axes>"
      ]
     },
     "metadata": {},
     "output_type": "display_data"
    }
   ],
   "source": [
    "# Plot of Count of All Post vs Day of Week\n",
    "plt.title('Count of All Post vs Day of Week')\n",
    "plt.xlabel('Day')\n",
    "plt.ylabel('Count')\n",
    "plt.bar(x=['Mon','Tue','Wed','Thu','Fri','Sat','Sun'],height=(anxiety_depression['day']).value_counts().sort_index());"
   ]
  },
  {
   "cell_type": "code",
   "execution_count": 68,
   "id": "dc75e9e6-13d6-45a7-a5d9-13a902f649e7",
   "metadata": {},
   "outputs": [
    {
     "data": {
      "text/plain": [
       "0    2310\n",
       "1    2247\n",
       "2    2327\n",
       "3    2177\n",
       "4    2079\n",
       "5    1965\n",
       "6    2005\n",
       "Name: day, dtype: int64"
      ]
     },
     "execution_count": 68,
     "metadata": {},
     "output_type": "execute_result"
    }
   ],
   "source": [
    "# Count the total post from subreddit topic 'Anxiety' vs day of week\n",
    "anxiety_depression[anxiety_depression['is_anxiety'] == 1]['day'].value_counts().sort_index()"
   ]
  },
  {
   "cell_type": "code",
   "execution_count": 69,
   "id": "b79b320a-4af5-4292-8eac-562dd68c07bf",
   "metadata": {},
   "outputs": [
    {
     "data": {
      "image/png": "[encoded data removed]",
      "text/plain": [
       "<Figure size 640x480 with 1 Axes>"
      ]
     },
     "metadata": {},
     "output_type": "display_data"
    }
   ],
   "source": [
    "# Plot of the total post from subreddit topic 'Anxiety' vs day of week\n",
    "plt.title('Count of \"Anxiety\" Post vs Day of Week')\n",
    "plt.xlabel('Day')\n",
    "plt.ylabel('Count')\n",
    "plt.bar(x=['Mon','Tue','Wed','Thu','Fri','Sat','Sun'],height=(anxiety_depression[anxiety_depression['is_anxiety'] == 1]['day']).value_counts().sort_index());"
   ]
  },
  {
   "cell_type": "code",
   "execution_count": 70,
   "id": "37d5e92c-ff53-4ade-b0d2-dddadce9d7a4",
   "metadata": {},
   "outputs": [
    {
     "data": {
      "text/plain": [
       "0    2158\n",
       "1    2088\n",
       "2    2223\n",
       "3    2194\n",
       "4    1950\n",
       "5    1985\n",
       "6    2199\n",
       "Name: day, dtype: int64"
      ]
     },
     "execution_count": 70,
     "metadata": {},
     "output_type": "execute_result"
    }
   ],
   "source": [
    "# Count the total post from subreddit topic 'Depression' vs day of week\n",
    "anxiety_depression[anxiety_depression['is_anxiety'] == 0]['day'].value_counts().sort_index()"
   ]
  },
  {
   "cell_type": "code",
   "execution_count": 71,
   "id": "56d3e1a4-89e5-4286-8d1b-7ac3b6e7581a",
   "metadata": {},
   "outputs": [
    {
     "data": {
      "image/png": "[encoded data removed]",
      "text/plain": [
       "<Figure size 640x480 with 1 Axes>"
      ]
     },
     "metadata": {},
     "output_type": "display_data"
    }
   ],
   "source": [
    "# Plot of the total post from subreddit topic 'Depression' vs day of week\n",
    "plt.title('Count of \"Depression\" Post vs Day of Week')\n",
    "plt.xlabel('Day')\n",
    "plt.ylabel('Count')\n",
    "plt.bar(x=['Mon','Tue','Wed','Thu','Fri','Sat','Sun'],height=(anxiety_depression[anxiety_depression['is_anxiety'] == 0]['day']).value_counts().sort_index());"
   ]
  },
  {
   "cell_type": "markdown",
   "id": "0f8a2afb-b4d1-4aa8-beb5-a8ba67ae1f47",
   "metadata": {},
   "source": [
    "- There is not much difference in the number of post per day for both subreddit topics."
   ]
  },
  {
   "cell_type": "markdown",
   "id": "5cb51faf-8a3d-4de8-a353-95d1eeb929e0",
   "metadata": {},
   "source": [
    "# Exporting data for modeling"
   ]
  },
  {
   "cell_type": "code",
   "execution_count": 72,
   "id": "fa22a267-7645-4f63-bdfe-dbc5bc44e958",
   "metadata": {},
   "outputs": [],
   "source": [
    "anxiety_depression.to_csv('datasets/anxiety_depression.csv', index=False)"
   ]
  },
  {
   "cell_type": "markdown",
   "id": "49673783-5945-4f1b-bad3-32384c4fa5d9",
   "metadata": {},
   "source": [
    "Summary\n",
    "- The Base Model of using CountVectorizer and Logistic Regression has provided a good baseline model of classifying 'Anxiety' and 'Depression' with scores of 88.6% accuracy. \n",
    "- However, the train score is 97.1% which is higher than the test score which suggest that it is overfitted.\n",
    "- It is also observed that the dimensionality is too high where the number of columns is more than the number of rows.  "
   ]
  },
  {
   "cell_type": "markdown",
   "id": "0f698b3c-458a-437a-9d69-9abb39bee86a",
   "metadata": {},
   "source": [
    "The following pre-processing steps were done \n",
    "- Regex (Only text words were captured)\n",
    "- Remove duplicated rows (572 duplicated rows)\n",
    "- Tokenizing (Via-Vectorization)\n",
    "- Lemmatizing/Stemming (Via-Vectorization)\n",
    "- Stop word removal (Via-Vectorization + Custom Words)"
   ]
  },
  {
   "cell_type": "markdown",
   "id": "c84cb0ba-6f92-434e-b10f-7812ac064d32",
   "metadata": {},
   "source": [
    "The following EDA were done\n",
    "- Look into Unigram, Bigram and Trigram to check if any words should be include in the custom_stop_words\n",
    "- It is observed that the bigram and trigram produces the same types of words used in the text. These are not key words in either of the classes. Thus, the custom stop words created fufills the criteria of removing keywords that can easily fall into the classes.\n",
    "- Exploring into the length of post which is observed that 96.5% of the post have word count less than 512 words.  \n",
    "- Both Word Count and Character length have right tailed distributions\n",
    "- Exploring into the days of post: There is not much difference in the number of post per day for both subreddit topics.\n",
    "\n",
    "The next notebook (Notebook 3) will be looking into vectorization and modelling."
   ]
  }
 ],
 "metadata": {
  "kernelspec": {
   "display_name": "Python 3 (ipykernel)",
   "language": "python",
   "name": "python3"
  },
  "language_info": {
   "codemirror_mode": {
    "name": "ipython",
    "version": 3
   },
   "file_extension": ".py",
   "mimetype": "text/x-python",
   "name": "python",
   "nbconvert_exporter": "python",
   "pygments_lexer": "ipython3",
   "version": "3.8.13"
  },
  "toc-autonumbering": true
 },
 "nbformat": 4,
 "nbformat_minor": 5
}
